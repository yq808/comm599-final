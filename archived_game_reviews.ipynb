{
  "nbformat": 4,
  "nbformat_minor": 0,
  "metadata": {
    "colab": {
      "provenance": [],
      "include_colab_link": true
    },
    "kernelspec": {
      "name": "python3",
      "display_name": "Python 3"
    },
    "language_info": {
      "name": "python"
    }
  },
  "cells": [
    {
      "cell_type": "markdown",
      "metadata": {
        "id": "view-in-github",
        "colab_type": "text"
      },
      "source": [
        "<a href=\"https://colab.research.google.com/github/COMM599-Fall2023/fall_2023/blob/yueqihua-final-project/student%20folders/yueqihua/final/archived_game_reviews.ipynb\" target=\"_parent\"><img src=\"https://colab.research.google.com/assets/colab-badge.svg\" alt=\"Open In Colab\"/></a>"
      ]
    },
    {
      "cell_type": "markdown",
      "source": [
        "# Game Reviews (Archived)\n",
        "\n",
        "---\n",
        "\n",
        "*Scraping Steam game reviews of the games in the games dataset and conducting linear regression analysis with the scraped reviews*\n",
        "\n",
        "*   Input: game_data.csv\n",
        "*   Output: game_review_data.csv"
      ],
      "metadata": {
        "id": "ncwdimlmsn2R"
      }
    },
    {
      "cell_type": "markdown",
      "source": [
        "## Install dependencies, import modules, input credentials"
      ],
      "metadata": {
        "id": "sZGZ7KdTsrM1"
      }
    },
    {
      "cell_type": "code",
      "source": [
        "!pip install pandas\n",
        "!pip install --upgrade scikit-learn\n",
        "!pip install umap-learn"
      ],
      "metadata": {
        "id": "igMIOFKusyqd"
      },
      "execution_count": null,
      "outputs": []
    },
    {
      "cell_type": "code",
      "execution_count": null,
      "metadata": {
        "id": "xOaTsiUHsL4E"
      },
      "outputs": [],
      "source": [
        "import pandas as pd\n",
        "import requests\n",
        "from datetime import datetime\n",
        "import time\n",
        "from tqdm import tqdm\n",
        "\n",
        "import matplotlib.pyplot as plt\n",
        "import seaborn as sns\n",
        "import statsmodels.api as sm\n",
        "from scipy.stats import pearsonr"
      ]
    },
    {
      "cell_type": "markdown",
      "source": [
        "### Scraping Steam games reviews"
      ],
      "metadata": {
        "id": "56r6k_Y62RRi"
      }
    },
    {
      "cell_type": "code",
      "source": [
        "### optional: uncomment and load dataset instead of scraping, then you can skip the scraping part\n",
        "# review_df = pd.read_csv(\"datasets/game_review_data.csv\", encoding='utf-8-sig', index_col=0)\n",
        "# review_df['appid'] = review_df['appid'].astype(str)"
      ],
      "metadata": {
        "id": "b-mGT411eKe0"
      },
      "execution_count": null,
      "outputs": []
    },
    {
      "cell_type": "code",
      "source": [
        "# getting Steam game appids so we can use it to scrape game reviews from the ids\n",
        "\n",
        "# loading dataset\n",
        "game_data_df = pd.read_csv(\"datasets/game_data.csv\", encoding='utf-8-sig', index_col=0)\n",
        "\n",
        "appids = game_data_df['appid'].astype(str).tolist()\n",
        "\n",
        "print(len(appids))"
      ],
      "metadata": {
        "colab": {
          "base_uri": "https://localhost:8080/"
        },
        "id": "P5Qi6pRW2XDl",
        "outputId": "59754e75-bbe7-4ad0-e716-57fd5248c17e"
      },
      "execution_count": null,
      "outputs": [
        {
          "output_type": "stream",
          "name": "stdout",
          "text": [
            "1040\n"
          ]
        }
      ]
    },
    {
      "cell_type": "code",
      "source": [
        "# function to get n reviews of a game on steam\n",
        "\n",
        "def get_game_reviews(appid, n = 100) :\n",
        "    url = \"https://store.steampowered.com/appreviews/\"\n",
        "    cursor = '*'\n",
        "    params = {\n",
        "        'json' : 1,\n",
        "        'language' : 'english',\n",
        "        'day_range' : 9223372036854775807, # disclaimer: the documentations says the max value is 365 but this somehow works for getting reviews from more than a year ago\n",
        "        'num_per_page' : 100,\n",
        "        'cursor' : cursor\n",
        "    }\n",
        "\n",
        "    reviews_data = []\n",
        "\n",
        "    while n > len(reviews_data) :\n",
        "        try :\n",
        "            response = requests.get(url+appid, params=params, timeout=15)\n",
        "            response.raise_for_status()\n",
        "\n",
        "            result = response.json()\n",
        "\n",
        "            cursor = result['cursor']\n",
        "\n",
        "            query_summary = result['query_summary']\n",
        "            review_score_desc = query_summary['review_score_desc']\n",
        "            total_positive = query_summary['total_positive']\n",
        "\n",
        "            if len(result['reviews']) == 0 :\n",
        "                break\n",
        "\n",
        "            for review in result['reviews'] : # [:n]\n",
        "                created_at = datetime.utcfromtimestamp(review['timestamp_created'])\n",
        "                updated_at = datetime.utcfromtimestamp(review['timestamp_updated'])\n",
        "                time_period = updated_at.strftime(\"%Y-%m\")\n",
        "\n",
        "                review_data = {\n",
        "                    'appid' : appid,\n",
        "                    'recommendationid' : review['recommendationid'],\n",
        "                    'reviewerid' : review['author']['steamid'],\n",
        "                    'created_at' : created_at,\n",
        "                    'updated_at' : updated_at,\n",
        "                    'time_period' : time_period,\n",
        "                    'review' : review['review'],\n",
        "                    'playtime_at_review' : review['author']['playtime_at_review'],\n",
        "                    'playtime_forever' : review['author']['playtime_forever'],\n",
        "                    'voted_up' : review['voted_up'],\n",
        "                    'weighted_score' : review['weighted_vote_score'],\n",
        "                    'steam_purchase' : review['steam_purchase'],\n",
        "                    'received_for_free' : review['received_for_free']\n",
        "                }\n",
        "\n",
        "                reviews_data.append(review_data)\n",
        "        except :\n",
        "            print(f\"Request failed.\")\n",
        "            return None\n",
        "\n",
        "    return reviews_data[:n]"
      ],
      "metadata": {
        "id": "mqdRSbgpsuQh"
      },
      "execution_count": null,
      "outputs": []
    },
    {
      "cell_type": "code",
      "source": [
        "# this takes around 30 minutes\n",
        "\n",
        "review_data_list = []\n",
        "\n",
        "count = 0\n",
        "for appid in tqdm(appids, desc=\"Getting reviews\") :\n",
        "    reviews_data = get_game_reviews(appid, n=100)\n",
        "\n",
        "    if reviews_data is None :\n",
        "        continue\n",
        "    else :\n",
        "        review_data_list.extend(reviews_data)\n",
        "\n",
        "        count += 1\n",
        "        if count % 25 == 0 :\n",
        "            print(f\"Scraped {count} games. Sleeping for 30 seconds...\")\n",
        "            time.sleep(30)\n",
        "\n",
        "review_df = pd.DataFrame(review_data_list)\n",
        "\n",
        "review_df"
      ],
      "metadata": {
        "colab": {
          "base_uri": "https://localhost:8080/",
          "height": 1000
        },
        "id": "NSezEm8C2w9c",
        "outputId": "40e68a74-7f03-49d2-ccca-c0229ab9f461"
      },
      "execution_count": null,
      "outputs": [
        {
          "output_type": "stream",
          "name": "stderr",
          "text": [
            "Getting reviews:   2%|▏         | 17/1040 [00:11<09:46,  1.75it/s]"
          ]
        },
        {
          "output_type": "stream",
          "name": "stdout",
          "text": [
            "Request failed.\n"
          ]
        },
        {
          "output_type": "stream",
          "name": "stderr",
          "text": [
            "Getting reviews:   2%|▏         | 20/1040 [00:12<08:44,  1.94it/s]"
          ]
        },
        {
          "output_type": "stream",
          "name": "stdout",
          "text": [
            "Request failed.\n"
          ]
        },
        {
          "output_type": "stream",
          "name": "stderr",
          "text": [
            "Getting reviews:   2%|▎         | 26/1040 [00:16<10:15,  1.65it/s]"
          ]
        },
        {
          "output_type": "stream",
          "name": "stdout",
          "text": [
            "Request failed.\n"
          ]
        },
        {
          "output_type": "stream",
          "name": "stderr",
          "text": [
            "\rGetting reviews:   3%|▎         | 27/1040 [00:16<09:32,  1.77it/s]"
          ]
        },
        {
          "output_type": "stream",
          "name": "stdout",
          "text": [
            "Scraped 25 games. Sleeping for 30 seconds...\n"
          ]
        },
        {
          "output_type": "stream",
          "name": "stderr",
          "text": [
            "Getting reviews:   4%|▎         | 37/1040 [00:52<17:18,  1.04s/it]"
          ]
        },
        {
          "output_type": "stream",
          "name": "stdout",
          "text": [
            "Request failed.\n"
          ]
        },
        {
          "output_type": "stream",
          "name": "stderr",
          "text": [
            "Getting reviews:   4%|▍         | 43/1040 [00:56<10:14,  1.62it/s]"
          ]
        },
        {
          "output_type": "stream",
          "name": "stdout",
          "text": [
            "Request failed.\n"
          ]
        },
        {
          "output_type": "stream",
          "name": "stderr",
          "text": [
            "\rGetting reviews:   4%|▍         | 44/1040 [00:56<09:41,  1.71it/s]"
          ]
        },
        {
          "output_type": "stream",
          "name": "stdout",
          "text": [
            "Request failed.\n"
          ]
        },
        {
          "output_type": "stream",
          "name": "stderr",
          "text": [
            "Getting reviews:   5%|▌         | 55/1040 [01:03<10:12,  1.61it/s]"
          ]
        },
        {
          "output_type": "stream",
          "name": "stdout",
          "text": [
            "Request failed.\n"
          ]
        },
        {
          "output_type": "stream",
          "name": "stderr",
          "text": [
            "\rGetting reviews:   5%|▌         | 56/1040 [01:04<11:02,  1.49it/s]"
          ]
        },
        {
          "output_type": "stream",
          "name": "stdout",
          "text": [
            "Scraped 50 games. Sleeping for 30 seconds...\n"
          ]
        },
        {
          "output_type": "stream",
          "name": "stderr",
          "text": [
            "Getting reviews:   6%|▋         | 67/1040 [01:39<11:16,  1.44it/s]"
          ]
        },
        {
          "output_type": "stream",
          "name": "stdout",
          "text": [
            "Request failed.\n"
          ]
        },
        {
          "output_type": "stream",
          "name": "stderr",
          "text": [
            "Getting reviews:   8%|▊         | 79/1040 [01:58<10:34,  1.51it/s]"
          ]
        },
        {
          "output_type": "stream",
          "name": "stdout",
          "text": [
            "Request failed.\n"
          ]
        },
        {
          "output_type": "stream",
          "name": "stderr",
          "text": [
            "Getting reviews:   8%|▊         | 83/1040 [02:00<10:05,  1.58it/s]"
          ]
        },
        {
          "output_type": "stream",
          "name": "stdout",
          "text": [
            "Scraped 75 games. Sleeping for 30 seconds...\n"
          ]
        },
        {
          "output_type": "stream",
          "name": "stderr",
          "text": [
            "Getting reviews:   9%|▉         | 96/1040 [02:43<24:36,  1.56s/it]"
          ]
        },
        {
          "output_type": "stream",
          "name": "stdout",
          "text": [
            "Request failed.\n"
          ]
        },
        {
          "output_type": "stream",
          "name": "stderr",
          "text": [
            "Getting reviews:  10%|▉         | 103/1040 [02:54<26:22,  1.69s/it]"
          ]
        },
        {
          "output_type": "stream",
          "name": "stdout",
          "text": [
            "Request failed.\n"
          ]
        },
        {
          "output_type": "stream",
          "name": "stderr",
          "text": [
            "Getting reviews:  11%|█         | 110/1040 [02:58<09:41,  1.60it/s]"
          ]
        },
        {
          "output_type": "stream",
          "name": "stdout",
          "text": [
            "Scraped 100 games. Sleeping for 30 seconds...\n"
          ]
        },
        {
          "output_type": "stream",
          "name": "stderr",
          "text": [
            "Getting reviews:  12%|█▏        | 123/1040 [03:34<09:18,  1.64it/s]"
          ]
        },
        {
          "output_type": "stream",
          "name": "stdout",
          "text": [
            "Request failed.\n"
          ]
        },
        {
          "output_type": "stream",
          "name": "stderr",
          "text": [
            "Getting reviews:  13%|█▎        | 131/1040 [03:57<1:04:41,  4.27s/it]"
          ]
        },
        {
          "output_type": "stream",
          "name": "stdout",
          "text": [
            "Request failed.\n"
          ]
        },
        {
          "output_type": "stream",
          "name": "stderr",
          "text": [
            "Getting reviews:  13%|█▎        | 137/1040 [04:00<14:06,  1.07it/s]"
          ]
        },
        {
          "output_type": "stream",
          "name": "stdout",
          "text": [
            "Scraped 125 games. Sleeping for 30 seconds...\n"
          ]
        },
        {
          "output_type": "stream",
          "name": "stderr",
          "text": [
            "Getting reviews:  13%|█▎        | 139/1040 [04:43<2:21:14,  9.41s/it]"
          ]
        },
        {
          "output_type": "stream",
          "name": "stdout",
          "text": [
            "Request failed.\n"
          ]
        },
        {
          "output_type": "stream",
          "name": "stderr",
          "text": [
            "Getting reviews:  14%|█▍        | 143/1040 [04:47<44:03,  2.95s/it]"
          ]
        },
        {
          "output_type": "stream",
          "name": "stdout",
          "text": [
            "Request failed.\n"
          ]
        },
        {
          "output_type": "stream",
          "name": "stderr",
          "text": [
            "Getting reviews:  14%|█▍        | 148/1040 [04:50<13:33,  1.10it/s]"
          ]
        },
        {
          "output_type": "stream",
          "name": "stdout",
          "text": [
            "Request failed.\n"
          ]
        },
        {
          "output_type": "stream",
          "name": "stderr",
          "text": [
            "Getting reviews:  15%|█▌        | 161/1040 [04:56<08:14,  1.78it/s]"
          ]
        },
        {
          "output_type": "stream",
          "name": "stdout",
          "text": [
            "Request failed.\n"
          ]
        },
        {
          "output_type": "stream",
          "name": "stderr",
          "text": [
            "Getting reviews:  16%|█▌        | 167/1040 [05:00<08:24,  1.73it/s]"
          ]
        },
        {
          "output_type": "stream",
          "name": "stdout",
          "text": [
            "Request failed.\n",
            "Scraped 150 games. Sleeping for 30 seconds...\n"
          ]
        },
        {
          "output_type": "stream",
          "name": "stderr",
          "text": [
            "Getting reviews:  17%|█▋        | 173/1040 [05:33<29:08,  2.02s/it]"
          ]
        },
        {
          "output_type": "stream",
          "name": "stdout",
          "text": [
            "Request failed.\n"
          ]
        },
        {
          "output_type": "stream",
          "name": "stderr",
          "text": [
            "Getting reviews:  17%|█▋        | 176/1040 [05:35<15:35,  1.08s/it]"
          ]
        },
        {
          "output_type": "stream",
          "name": "stdout",
          "text": [
            "Request failed.\n"
          ]
        },
        {
          "output_type": "stream",
          "name": "stderr",
          "text": [
            "Getting reviews:  17%|█▋        | 180/1040 [05:37<09:20,  1.53it/s]"
          ]
        },
        {
          "output_type": "stream",
          "name": "stdout",
          "text": [
            "Request failed.\n"
          ]
        },
        {
          "output_type": "stream",
          "name": "stderr",
          "text": [
            "Getting reviews:  18%|█▊        | 190/1040 [05:42<08:06,  1.75it/s]"
          ]
        },
        {
          "output_type": "stream",
          "name": "stdout",
          "text": [
            "Request failed.\n"
          ]
        },
        {
          "output_type": "stream",
          "name": "stderr",
          "text": [
            "Getting reviews:  19%|█▉        | 195/1040 [05:45<07:48,  1.80it/s]"
          ]
        },
        {
          "output_type": "stream",
          "name": "stdout",
          "text": [
            "Request failed.\n"
          ]
        },
        {
          "output_type": "stream",
          "name": "stderr",
          "text": [
            "Getting reviews:  19%|█▉        | 197/1040 [05:50<23:30,  1.67s/it]"
          ]
        },
        {
          "output_type": "stream",
          "name": "stdout",
          "text": [
            "Scraped 175 games. Sleeping for 30 seconds...\n"
          ]
        },
        {
          "output_type": "stream",
          "name": "stderr",
          "text": [
            "Getting reviews:  19%|█▉        | 200/1040 [06:21<1:14:32,  5.32s/it]"
          ]
        },
        {
          "output_type": "stream",
          "name": "stdout",
          "text": [
            "Request failed.\n"
          ]
        },
        {
          "output_type": "stream",
          "name": "stderr",
          "text": [
            "\rGetting reviews:  19%|█▉        | 201/1040 [06:22<54:32,  3.90s/it]  "
          ]
        },
        {
          "output_type": "stream",
          "name": "stdout",
          "text": [
            "Request failed.\n"
          ]
        },
        {
          "output_type": "stream",
          "name": "stderr",
          "text": [
            "Getting reviews:  20%|█▉        | 205/1040 [06:24<19:10,  1.38s/it]"
          ]
        },
        {
          "output_type": "stream",
          "name": "stdout",
          "text": [
            "Request failed.\n"
          ]
        },
        {
          "output_type": "stream",
          "name": "stderr",
          "text": [
            "\rGetting reviews:  20%|█▉        | 206/1040 [06:25<15:49,  1.14s/it]"
          ]
        },
        {
          "output_type": "stream",
          "name": "stdout",
          "text": [
            "Request failed.\n"
          ]
        },
        {
          "output_type": "stream",
          "name": "stderr",
          "text": [
            "Getting reviews:  20%|██        | 213/1040 [06:29<07:58,  1.73it/s]"
          ]
        },
        {
          "output_type": "stream",
          "name": "stdout",
          "text": [
            "Request failed.\n"
          ]
        },
        {
          "output_type": "stream",
          "name": "stderr",
          "text": [
            "Getting reviews:  21%|██        | 215/1040 [06:29<07:04,  1.94it/s]"
          ]
        },
        {
          "output_type": "stream",
          "name": "stdout",
          "text": [
            "Request failed.\n"
          ]
        },
        {
          "output_type": "stream",
          "name": "stderr",
          "text": [
            "Getting reviews:  21%|██        | 218/1040 [06:31<06:53,  1.99it/s]"
          ]
        },
        {
          "output_type": "stream",
          "name": "stdout",
          "text": [
            "Request failed.\n"
          ]
        },
        {
          "output_type": "stream",
          "name": "stderr",
          "text": [
            "Getting reviews:  21%|██        | 220/1040 [06:33<10:16,  1.33it/s]"
          ]
        },
        {
          "output_type": "stream",
          "name": "stdout",
          "text": [
            "Request failed.\n"
          ]
        },
        {
          "output_type": "stream",
          "name": "stderr",
          "text": [
            "Getting reviews:  21%|██▏       | 223/1040 [06:34<08:02,  1.69it/s]"
          ]
        },
        {
          "output_type": "stream",
          "name": "stdout",
          "text": [
            "Request failed.\n"
          ]
        },
        {
          "output_type": "stream",
          "name": "stderr",
          "text": [
            "Getting reviews:  22%|██▏       | 229/1040 [06:43<18:18,  1.35s/it]"
          ]
        },
        {
          "output_type": "stream",
          "name": "stdout",
          "text": [
            "Request failed.\n"
          ]
        },
        {
          "output_type": "stream",
          "name": "stderr",
          "text": [
            "Getting reviews:  22%|██▏       | 232/1040 [06:45<11:26,  1.18it/s]"
          ]
        },
        {
          "output_type": "stream",
          "name": "stdout",
          "text": [
            "Request failed.\n"
          ]
        },
        {
          "output_type": "stream",
          "name": "stderr",
          "text": [
            "\rGetting reviews:  22%|██▏       | 233/1040 [06:45<10:39,  1.26it/s]"
          ]
        },
        {
          "output_type": "stream",
          "name": "stdout",
          "text": [
            "Scraped 200 games. Sleeping for 30 seconds...\n"
          ]
        },
        {
          "output_type": "stream",
          "name": "stderr",
          "text": [
            "Getting reviews:  23%|██▎       | 241/1040 [07:20<17:43,  1.33s/it]"
          ]
        },
        {
          "output_type": "stream",
          "name": "stdout",
          "text": [
            "Request failed.\n"
          ]
        },
        {
          "output_type": "stream",
          "name": "stderr",
          "text": [
            "Getting reviews:  23%|██▎       | 244/1040 [07:22<12:00,  1.10it/s]"
          ]
        },
        {
          "output_type": "stream",
          "name": "stdout",
          "text": [
            "Request failed.\n"
          ]
        },
        {
          "output_type": "stream",
          "name": "stderr",
          "text": [
            "Getting reviews:  24%|██▍       | 248/1040 [07:24<08:15,  1.60it/s]"
          ]
        },
        {
          "output_type": "stream",
          "name": "stdout",
          "text": [
            "Request failed.\n"
          ]
        },
        {
          "output_type": "stream",
          "name": "stderr",
          "text": [
            "Getting reviews:  25%|██▌       | 261/1040 [07:34<10:19,  1.26it/s]"
          ]
        },
        {
          "output_type": "stream",
          "name": "stdout",
          "text": [
            "Scraped 225 games. Sleeping for 30 seconds...\n"
          ]
        },
        {
          "output_type": "stream",
          "name": "stderr",
          "text": [
            "Getting reviews:  25%|██▌       | 265/1040 [08:06<48:14,  3.74s/it]  "
          ]
        },
        {
          "output_type": "stream",
          "name": "stdout",
          "text": [
            "Request failed.\n"
          ]
        },
        {
          "output_type": "stream",
          "name": "stderr",
          "text": [
            "Getting reviews:  27%|██▋       | 279/1040 [08:14<06:48,  1.86it/s]"
          ]
        },
        {
          "output_type": "stream",
          "name": "stdout",
          "text": [
            "Request failed.\n"
          ]
        },
        {
          "output_type": "stream",
          "name": "stderr",
          "text": [
            "Getting reviews:  28%|██▊       | 288/1040 [08:22<18:52,  1.51s/it]"
          ]
        },
        {
          "output_type": "stream",
          "name": "stdout",
          "text": [
            "Scraped 250 games. Sleeping for 30 seconds...\n"
          ]
        },
        {
          "output_type": "stream",
          "name": "stderr",
          "text": [
            "Getting reviews:  30%|███       | 313/1040 [09:25<07:09,  1.69it/s]"
          ]
        },
        {
          "output_type": "stream",
          "name": "stdout",
          "text": [
            "Scraped 275 games. Sleeping for 30 seconds...\n"
          ]
        },
        {
          "output_type": "stream",
          "name": "stderr",
          "text": [
            "Getting reviews:  31%|███       | 323/1040 [10:00<11:00,  1.09it/s]"
          ]
        },
        {
          "output_type": "stream",
          "name": "stdout",
          "text": [
            "Request failed.\n"
          ]
        },
        {
          "output_type": "stream",
          "name": "stderr",
          "text": [
            "Getting reviews:  31%|███▏      | 325/1040 [10:01<08:24,  1.42it/s]"
          ]
        },
        {
          "output_type": "stream",
          "name": "stdout",
          "text": [
            "Request failed.\n"
          ]
        },
        {
          "output_type": "stream",
          "name": "stderr",
          "text": [
            "Getting reviews:  32%|███▏      | 330/1040 [10:05<07:46,  1.52it/s]"
          ]
        },
        {
          "output_type": "stream",
          "name": "stdout",
          "text": [
            "Request failed.\n"
          ]
        },
        {
          "output_type": "stream",
          "name": "stderr",
          "text": [
            "Getting reviews:  32%|███▏      | 332/1040 [10:06<06:54,  1.71it/s]"
          ]
        },
        {
          "output_type": "stream",
          "name": "stdout",
          "text": [
            "Request failed.\n"
          ]
        },
        {
          "output_type": "stream",
          "name": "stderr",
          "text": [
            "Getting reviews:  32%|███▎      | 338/1040 [10:09<07:34,  1.55it/s]"
          ]
        },
        {
          "output_type": "stream",
          "name": "stdout",
          "text": [
            "Request failed.\n"
          ]
        },
        {
          "output_type": "stream",
          "name": "stderr",
          "text": [
            "\rGetting reviews:  33%|███▎      | 339/1040 [10:10<06:51,  1.70it/s]"
          ]
        },
        {
          "output_type": "stream",
          "name": "stdout",
          "text": [
            "Request failed.\n"
          ]
        },
        {
          "output_type": "stream",
          "name": "stderr",
          "text": [
            "Getting reviews:  33%|███▎      | 344/1040 [10:12<05:51,  1.98it/s]"
          ]
        },
        {
          "output_type": "stream",
          "name": "stdout",
          "text": [
            "Request failed.\n"
          ]
        },
        {
          "output_type": "stream",
          "name": "stderr",
          "text": [
            "\rGetting reviews:  33%|███▎      | 345/1040 [10:13<06:02,  1.92it/s]"
          ]
        },
        {
          "output_type": "stream",
          "name": "stdout",
          "text": [
            "Scraped 300 games. Sleeping for 30 seconds...\n"
          ]
        },
        {
          "output_type": "stream",
          "name": "stderr",
          "text": [
            "Getting reviews:  35%|███▌      | 367/1040 [10:55<07:03,  1.59it/s]"
          ]
        },
        {
          "output_type": "stream",
          "name": "stdout",
          "text": [
            "Request failed.\n"
          ]
        },
        {
          "output_type": "stream",
          "name": "stderr",
          "text": [
            "Getting reviews:  36%|███▌      | 371/1040 [10:57<05:43,  1.95it/s]"
          ]
        },
        {
          "output_type": "stream",
          "name": "stdout",
          "text": [
            "Scraped 325 games. Sleeping for 30 seconds...\n"
          ]
        },
        {
          "output_type": "stream",
          "name": "stderr",
          "text": [
            "Getting reviews:  36%|███▌      | 375/1040 [11:32<48:32,  4.38s/it]"
          ]
        },
        {
          "output_type": "stream",
          "name": "stdout",
          "text": [
            "Request failed.\n"
          ]
        },
        {
          "output_type": "stream",
          "name": "stderr",
          "text": [
            "Getting reviews:  38%|███▊      | 397/1040 [11:47<07:40,  1.40it/s]"
          ]
        },
        {
          "output_type": "stream",
          "name": "stdout",
          "text": [
            "Scraped 350 games. Sleeping for 30 seconds...\n"
          ]
        },
        {
          "output_type": "stream",
          "name": "stderr",
          "text": [
            "Getting reviews:  40%|████      | 418/1040 [12:29<05:33,  1.86it/s]"
          ]
        },
        {
          "output_type": "stream",
          "name": "stdout",
          "text": [
            "Request failed.\n"
          ]
        },
        {
          "output_type": "stream",
          "name": "stderr",
          "text": [
            "Getting reviews:  41%|████      | 422/1040 [12:31<04:51,  2.12it/s]"
          ]
        },
        {
          "output_type": "stream",
          "name": "stdout",
          "text": [
            "Request failed.\n"
          ]
        },
        {
          "output_type": "stream",
          "name": "stderr",
          "text": [
            "Getting reviews:  41%|████      | 424/1040 [12:32<05:03,  2.03it/s]"
          ]
        },
        {
          "output_type": "stream",
          "name": "stdout",
          "text": [
            "Scraped 375 games. Sleeping for 30 seconds...\n"
          ]
        },
        {
          "output_type": "stream",
          "name": "stderr",
          "text": [
            "Getting reviews:  43%|████▎     | 448/1040 [13:16<05:33,  1.77it/s]"
          ]
        },
        {
          "output_type": "stream",
          "name": "stdout",
          "text": [
            "Request failed.\n"
          ]
        },
        {
          "output_type": "stream",
          "name": "stderr",
          "text": [
            "Getting reviews:  43%|████▎     | 450/1040 [13:17<04:52,  2.01it/s]"
          ]
        },
        {
          "output_type": "stream",
          "name": "stdout",
          "text": [
            "Scraped 400 games. Sleeping for 30 seconds...\n"
          ]
        },
        {
          "output_type": "stream",
          "name": "stderr",
          "text": [
            "Getting reviews:  46%|████▌     | 475/1040 [14:03<05:34,  1.69it/s]"
          ]
        },
        {
          "output_type": "stream",
          "name": "stdout",
          "text": [
            "Scraped 425 games. Sleeping for 30 seconds...\n"
          ]
        },
        {
          "output_type": "stream",
          "name": "stderr",
          "text": [
            "Getting reviews:  47%|████▋     | 490/1040 [14:41<05:24,  1.69it/s]"
          ]
        },
        {
          "output_type": "stream",
          "name": "stdout",
          "text": [
            "Request failed.\n"
          ]
        },
        {
          "output_type": "stream",
          "name": "stderr",
          "text": [
            "Getting reviews:  48%|████▊     | 494/1040 [14:43<05:19,  1.71it/s]"
          ]
        },
        {
          "output_type": "stream",
          "name": "stdout",
          "text": [
            "Request failed.\n"
          ]
        },
        {
          "output_type": "stream",
          "name": "stderr",
          "text": [
            "Getting reviews:  48%|████▊     | 502/1040 [14:48<05:05,  1.76it/s]"
          ]
        },
        {
          "output_type": "stream",
          "name": "stdout",
          "text": [
            "Scraped 450 games. Sleeping for 30 seconds...\n"
          ]
        },
        {
          "output_type": "stream",
          "name": "stderr",
          "text": [
            "Getting reviews:  51%|█████     | 527/1040 [15:44<08:13,  1.04it/s]"
          ]
        },
        {
          "output_type": "stream",
          "name": "stdout",
          "text": [
            "Scraped 475 games. Sleeping for 30 seconds...\n"
          ]
        },
        {
          "output_type": "stream",
          "name": "stderr",
          "text": [
            "Getting reviews:  51%|█████     | 529/1040 [16:17<1:04:31,  7.58s/it]"
          ]
        },
        {
          "output_type": "stream",
          "name": "stdout",
          "text": [
            "Request failed.\n"
          ]
        },
        {
          "output_type": "stream",
          "name": "stderr",
          "text": [
            "Getting reviews:  53%|█████▎    | 553/1040 [16:30<05:16,  1.54it/s]"
          ]
        },
        {
          "output_type": "stream",
          "name": "stdout",
          "text": [
            "Scraped 500 games. Sleeping for 30 seconds...\n"
          ]
        },
        {
          "output_type": "stream",
          "name": "stderr",
          "text": [
            "Getting reviews:  56%|█████▌    | 578/1040 [17:15<03:31,  2.18it/s]"
          ]
        },
        {
          "output_type": "stream",
          "name": "stdout",
          "text": [
            "Scraped 525 games. Sleeping for 30 seconds...\n"
          ]
        },
        {
          "output_type": "stream",
          "name": "stderr",
          "text": [
            "Getting reviews:  58%|█████▊    | 603/1040 [18:02<04:22,  1.67it/s]"
          ]
        },
        {
          "output_type": "stream",
          "name": "stdout",
          "text": [
            "Scraped 550 games. Sleeping for 30 seconds...\n"
          ]
        },
        {
          "output_type": "stream",
          "name": "stderr",
          "text": [
            "Getting reviews:  60%|██████    | 628/1040 [18:52<04:46,  1.44it/s]"
          ]
        },
        {
          "output_type": "stream",
          "name": "stdout",
          "text": [
            "Scraped 575 games. Sleeping for 30 seconds...\n"
          ]
        },
        {
          "output_type": "stream",
          "name": "stderr",
          "text": [
            "Getting reviews:  61%|██████▏   | 638/1040 [19:28<06:47,  1.01s/it]"
          ]
        },
        {
          "output_type": "stream",
          "name": "stdout",
          "text": [
            "Request failed.\n"
          ]
        },
        {
          "output_type": "stream",
          "name": "stderr",
          "text": [
            "Getting reviews:  62%|██████▏   | 643/1040 [19:31<04:42,  1.40it/s]"
          ]
        },
        {
          "output_type": "stream",
          "name": "stdout",
          "text": [
            "Request failed.\n"
          ]
        },
        {
          "output_type": "stream",
          "name": "stderr",
          "text": [
            "\rGetting reviews:  62%|██████▏   | 644/1040 [19:32<04:14,  1.56it/s]"
          ]
        },
        {
          "output_type": "stream",
          "name": "stdout",
          "text": [
            "Request failed.\n"
          ]
        },
        {
          "output_type": "stream",
          "name": "stderr",
          "text": [
            "Getting reviews:  63%|██████▎   | 656/1040 [19:39<04:13,  1.51it/s]"
          ]
        },
        {
          "output_type": "stream",
          "name": "stdout",
          "text": [
            "Scraped 600 games. Sleeping for 30 seconds...\n"
          ]
        },
        {
          "output_type": "stream",
          "name": "stderr",
          "text": [
            "Getting reviews:  65%|██████▌   | 681/1040 [20:24<02:50,  2.10it/s]"
          ]
        },
        {
          "output_type": "stream",
          "name": "stdout",
          "text": [
            "Scraped 625 games. Sleeping for 30 seconds...\n"
          ]
        },
        {
          "output_type": "stream",
          "name": "stderr",
          "text": [
            "Getting reviews:  68%|██████▊   | 706/1040 [21:44<07:51,  1.41s/it]"
          ]
        },
        {
          "output_type": "stream",
          "name": "stdout",
          "text": [
            "Scraped 650 games. Sleeping for 30 seconds...\n"
          ]
        },
        {
          "output_type": "stream",
          "name": "stderr",
          "text": [
            "Getting reviews:  70%|███████   | 731/1040 [22:28<02:43,  1.89it/s]"
          ]
        },
        {
          "output_type": "stream",
          "name": "stdout",
          "text": [
            "Scraped 675 games. Sleeping for 30 seconds...\n"
          ]
        },
        {
          "output_type": "stream",
          "name": "stderr",
          "text": [
            "Getting reviews:  73%|███████▎  | 756/1040 [23:11<02:36,  1.82it/s]"
          ]
        },
        {
          "output_type": "stream",
          "name": "stdout",
          "text": [
            "Scraped 700 games. Sleeping for 30 seconds...\n"
          ]
        },
        {
          "output_type": "stream",
          "name": "stderr",
          "text": [
            "Getting reviews:  75%|███████▌  | 781/1040 [23:56<02:34,  1.67it/s]"
          ]
        },
        {
          "output_type": "stream",
          "name": "stdout",
          "text": [
            "Scraped 725 games. Sleeping for 30 seconds...\n"
          ]
        },
        {
          "output_type": "stream",
          "name": "stderr",
          "text": [
            "Getting reviews:  78%|███████▊  | 806/1040 [24:41<02:03,  1.90it/s]"
          ]
        },
        {
          "output_type": "stream",
          "name": "stdout",
          "text": [
            "Scraped 750 games. Sleeping for 30 seconds...\n"
          ]
        },
        {
          "output_type": "stream",
          "name": "stderr",
          "text": [
            "Getting reviews:  80%|███████▉  | 831/1040 [25:26<02:10,  1.60it/s]"
          ]
        },
        {
          "output_type": "stream",
          "name": "stdout",
          "text": [
            "Scraped 775 games. Sleeping for 30 seconds...\n"
          ]
        },
        {
          "output_type": "stream",
          "name": "stderr",
          "text": [
            "Getting reviews:  82%|████████▏ | 856/1040 [26:09<01:36,  1.90it/s]"
          ]
        },
        {
          "output_type": "stream",
          "name": "stdout",
          "text": [
            "Scraped 800 games. Sleeping for 30 seconds...\n"
          ]
        },
        {
          "output_type": "stream",
          "name": "stderr",
          "text": [
            "Getting reviews:  85%|████████▍ | 881/1040 [26:54<01:28,  1.79it/s]"
          ]
        },
        {
          "output_type": "stream",
          "name": "stdout",
          "text": [
            "Scraped 825 games. Sleeping for 30 seconds...\n"
          ]
        },
        {
          "output_type": "stream",
          "name": "stderr",
          "text": [
            "Getting reviews:  87%|████████▋ | 906/1040 [27:37<01:21,  1.65it/s]"
          ]
        },
        {
          "output_type": "stream",
          "name": "stdout",
          "text": [
            "Scraped 850 games. Sleeping for 30 seconds...\n"
          ]
        },
        {
          "output_type": "stream",
          "name": "stderr",
          "text": [
            "Getting reviews:  90%|████████▉ | 931/1040 [28:21<01:07,  1.61it/s]"
          ]
        },
        {
          "output_type": "stream",
          "name": "stdout",
          "text": [
            "Scraped 875 games. Sleeping for 30 seconds...\n"
          ]
        },
        {
          "output_type": "stream",
          "name": "stderr",
          "text": [
            "Getting reviews:  92%|█████████▏| 956/1040 [29:07<00:56,  1.48it/s]"
          ]
        },
        {
          "output_type": "stream",
          "name": "stdout",
          "text": [
            "Scraped 900 games. Sleeping for 30 seconds...\n"
          ]
        },
        {
          "output_type": "stream",
          "name": "stderr",
          "text": [
            "Getting reviews:  94%|█████████▍| 981/1040 [29:54<00:35,  1.68it/s]"
          ]
        },
        {
          "output_type": "stream",
          "name": "stdout",
          "text": [
            "Scraped 925 games. Sleeping for 30 seconds...\n"
          ]
        },
        {
          "output_type": "stream",
          "name": "stderr",
          "text": [
            "Getting reviews:  97%|█████████▋| 1006/1040 [30:41<00:26,  1.29it/s]"
          ]
        },
        {
          "output_type": "stream",
          "name": "stdout",
          "text": [
            "Scraped 950 games. Sleeping for 30 seconds...\n"
          ]
        },
        {
          "output_type": "stream",
          "name": "stderr",
          "text": [
            "Getting reviews:  99%|█████████▉| 1031/1040 [31:33<00:09,  1.04s/it]"
          ]
        },
        {
          "output_type": "stream",
          "name": "stdout",
          "text": [
            "Scraped 975 games. Sleeping for 30 seconds...\n"
          ]
        },
        {
          "output_type": "stream",
          "name": "stderr",
          "text": [
            "Getting reviews: 100%|██████████| 1040/1040 [32:08<00:00,  1.85s/it]\n"
          ]
        },
        {
          "output_type": "execute_result",
          "data": {
            "text/plain": [
              "         appid recommendationid         reviewerid          created_at  \\\n",
              "0          570         29845947  76561198086138952 2017-02-11 12:08:55   \n",
              "1          570         30153731  76561198128099624 2017-02-25 00:03:48   \n",
              "2          570         29522097  76561198121009917 2017-01-27 15:08:41   \n",
              "3          570         30250896  76561198126696482 2017-03-01 00:11:55   \n",
              "4          570         29752151  76561198033457474 2017-02-07 00:36:04   \n",
              "...        ...              ...                ...                 ...   \n",
              "94195  2064870        146416717  76561198343775919 2023-09-16 17:49:09   \n",
              "94196  2064870        146688728  76561198087601543 2023-09-21 04:55:31   \n",
              "94197  2064870        146314297  76561198839004188 2023-09-15 03:31:43   \n",
              "94198  2064870        152144996  76561198006985924 2023-11-26 23:20:45   \n",
              "94199  2064870        146369774  76561198165670513 2023-09-16 01:36:23   \n",
              "\n",
              "               updated_at time_period  \\\n",
              "0     2017-02-11 12:08:55     2017-02   \n",
              "1     2017-02-25 00:03:48     2017-02   \n",
              "2     2017-01-27 15:08:41     2017-01   \n",
              "3     2017-03-01 00:11:55     2017-03   \n",
              "4     2017-02-07 00:36:04     2017-02   \n",
              "...                   ...         ...   \n",
              "94195 2023-09-16 17:49:09     2023-09   \n",
              "94196 2023-10-10 08:50:16     2023-10   \n",
              "94197 2023-09-15 03:31:43     2023-09   \n",
              "94198 2023-11-26 23:20:45     2023-11   \n",
              "94199 2023-09-16 01:36:23     2023-09   \n",
              "\n",
              "                                                  review  playtime_at_review  \\\n",
              "0      - Pick Tiny\\n- Get mega creeps\\n- Wait near en...              110798   \n",
              "1                           Cancer but still playing....              100773   \n",
              "2      This game remembered my birthday when everyone...              334698   \n",
              "3      played it a bit. learnt colorful words from se...              143929   \n",
              "4      I've spent 10 years and almost 10,000 hours pl...              253239   \n",
              "...                                                  ...                 ...   \n",
              "94195  Game is fire\\n\\nDont mind all these idiots say...                  34   \n",
              "94196  Game and playerbase is extremely toxic and any...               10061   \n",
              "94197  Game is legitimately SO bad, its not fun. It i...                  36   \n",
              "94198  Has some things to be worked out, could have b...                 970   \n",
              "94199  Yes, the game runs at a low fps. Yes, the game...                  99   \n",
              "\n",
              "       playtime_forever  voted_up        weighted_score  steam_purchase  \\\n",
              "0                280481      True  0.766647994518280029            True   \n",
              "1                164769      True  0.755870342254638672            True   \n",
              "2                501049      True  0.734718739986419678            True   \n",
              "3                283543      True  0.731451213359832764            True   \n",
              "4                258031     False  0.726732790470123291            True   \n",
              "...                 ...       ...                   ...             ...   \n",
              "94195               410      True  0.521246731281280518            True   \n",
              "94196             12349     False  0.520958065986633301            True   \n",
              "94197                36     False  0.520552515983581543            True   \n",
              "94198              1268      True  0.520547926425933838            True   \n",
              "94199                99     False  0.520455002784729004            True   \n",
              "\n",
              "       received_for_free  \n",
              "0                  False  \n",
              "1                  False  \n",
              "2                  False  \n",
              "3                  False  \n",
              "4                  False  \n",
              "...                  ...  \n",
              "94195              False  \n",
              "94196              False  \n",
              "94197              False  \n",
              "94198              False  \n",
              "94199              False  \n",
              "\n",
              "[94200 rows x 13 columns]"
            ],
            "text/html": [
              "\n",
              "  <div id=\"df-60d79410-6f5f-4001-a75d-46400f45fbe0\" class=\"colab-df-container\">\n",
              "    <div>\n",
              "<style scoped>\n",
              "    .dataframe tbody tr th:only-of-type {\n",
              "        vertical-align: middle;\n",
              "    }\n",
              "\n",
              "    .dataframe tbody tr th {\n",
              "        vertical-align: top;\n",
              "    }\n",
              "\n",
              "    .dataframe thead th {\n",
              "        text-align: right;\n",
              "    }\n",
              "</style>\n",
              "<table border=\"1\" class=\"dataframe\">\n",
              "  <thead>\n",
              "    <tr style=\"text-align: right;\">\n",
              "      <th></th>\n",
              "      <th>appid</th>\n",
              "      <th>recommendationid</th>\n",
              "      <th>reviewerid</th>\n",
              "      <th>created_at</th>\n",
              "      <th>updated_at</th>\n",
              "      <th>time_period</th>\n",
              "      <th>review</th>\n",
              "      <th>playtime_at_review</th>\n",
              "      <th>playtime_forever</th>\n",
              "      <th>voted_up</th>\n",
              "      <th>weighted_score</th>\n",
              "      <th>steam_purchase</th>\n",
              "      <th>received_for_free</th>\n",
              "    </tr>\n",
              "  </thead>\n",
              "  <tbody>\n",
              "    <tr>\n",
              "      <th>0</th>\n",
              "      <td>570</td>\n",
              "      <td>29845947</td>\n",
              "      <td>76561198086138952</td>\n",
              "      <td>2017-02-11 12:08:55</td>\n",
              "      <td>2017-02-11 12:08:55</td>\n",
              "      <td>2017-02</td>\n",
              "      <td>- Pick Tiny\\n- Get mega creeps\\n- Wait near en...</td>\n",
              "      <td>110798</td>\n",
              "      <td>280481</td>\n",
              "      <td>True</td>\n",
              "      <td>0.766647994518280029</td>\n",
              "      <td>True</td>\n",
              "      <td>False</td>\n",
              "    </tr>\n",
              "    <tr>\n",
              "      <th>1</th>\n",
              "      <td>570</td>\n",
              "      <td>30153731</td>\n",
              "      <td>76561198128099624</td>\n",
              "      <td>2017-02-25 00:03:48</td>\n",
              "      <td>2017-02-25 00:03:48</td>\n",
              "      <td>2017-02</td>\n",
              "      <td>Cancer but still playing....</td>\n",
              "      <td>100773</td>\n",
              "      <td>164769</td>\n",
              "      <td>True</td>\n",
              "      <td>0.755870342254638672</td>\n",
              "      <td>True</td>\n",
              "      <td>False</td>\n",
              "    </tr>\n",
              "    <tr>\n",
              "      <th>2</th>\n",
              "      <td>570</td>\n",
              "      <td>29522097</td>\n",
              "      <td>76561198121009917</td>\n",
              "      <td>2017-01-27 15:08:41</td>\n",
              "      <td>2017-01-27 15:08:41</td>\n",
              "      <td>2017-01</td>\n",
              "      <td>This game remembered my birthday when everyone...</td>\n",
              "      <td>334698</td>\n",
              "      <td>501049</td>\n",
              "      <td>True</td>\n",
              "      <td>0.734718739986419678</td>\n",
              "      <td>True</td>\n",
              "      <td>False</td>\n",
              "    </tr>\n",
              "    <tr>\n",
              "      <th>3</th>\n",
              "      <td>570</td>\n",
              "      <td>30250896</td>\n",
              "      <td>76561198126696482</td>\n",
              "      <td>2017-03-01 00:11:55</td>\n",
              "      <td>2017-03-01 00:11:55</td>\n",
              "      <td>2017-03</td>\n",
              "      <td>played it a bit. learnt colorful words from se...</td>\n",
              "      <td>143929</td>\n",
              "      <td>283543</td>\n",
              "      <td>True</td>\n",
              "      <td>0.731451213359832764</td>\n",
              "      <td>True</td>\n",
              "      <td>False</td>\n",
              "    </tr>\n",
              "    <tr>\n",
              "      <th>4</th>\n",
              "      <td>570</td>\n",
              "      <td>29752151</td>\n",
              "      <td>76561198033457474</td>\n",
              "      <td>2017-02-07 00:36:04</td>\n",
              "      <td>2017-02-07 00:36:04</td>\n",
              "      <td>2017-02</td>\n",
              "      <td>I've spent 10 years and almost 10,000 hours pl...</td>\n",
              "      <td>253239</td>\n",
              "      <td>258031</td>\n",
              "      <td>False</td>\n",
              "      <td>0.726732790470123291</td>\n",
              "      <td>True</td>\n",
              "      <td>False</td>\n",
              "    </tr>\n",
              "    <tr>\n",
              "      <th>...</th>\n",
              "      <td>...</td>\n",
              "      <td>...</td>\n",
              "      <td>...</td>\n",
              "      <td>...</td>\n",
              "      <td>...</td>\n",
              "      <td>...</td>\n",
              "      <td>...</td>\n",
              "      <td>...</td>\n",
              "      <td>...</td>\n",
              "      <td>...</td>\n",
              "      <td>...</td>\n",
              "      <td>...</td>\n",
              "      <td>...</td>\n",
              "    </tr>\n",
              "    <tr>\n",
              "      <th>94195</th>\n",
              "      <td>2064870</td>\n",
              "      <td>146416717</td>\n",
              "      <td>76561198343775919</td>\n",
              "      <td>2023-09-16 17:49:09</td>\n",
              "      <td>2023-09-16 17:49:09</td>\n",
              "      <td>2023-09</td>\n",
              "      <td>Game is fire\\n\\nDont mind all these idiots say...</td>\n",
              "      <td>34</td>\n",
              "      <td>410</td>\n",
              "      <td>True</td>\n",
              "      <td>0.521246731281280518</td>\n",
              "      <td>True</td>\n",
              "      <td>False</td>\n",
              "    </tr>\n",
              "    <tr>\n",
              "      <th>94196</th>\n",
              "      <td>2064870</td>\n",
              "      <td>146688728</td>\n",
              "      <td>76561198087601543</td>\n",
              "      <td>2023-09-21 04:55:31</td>\n",
              "      <td>2023-10-10 08:50:16</td>\n",
              "      <td>2023-10</td>\n",
              "      <td>Game and playerbase is extremely toxic and any...</td>\n",
              "      <td>10061</td>\n",
              "      <td>12349</td>\n",
              "      <td>False</td>\n",
              "      <td>0.520958065986633301</td>\n",
              "      <td>True</td>\n",
              "      <td>False</td>\n",
              "    </tr>\n",
              "    <tr>\n",
              "      <th>94197</th>\n",
              "      <td>2064870</td>\n",
              "      <td>146314297</td>\n",
              "      <td>76561198839004188</td>\n",
              "      <td>2023-09-15 03:31:43</td>\n",
              "      <td>2023-09-15 03:31:43</td>\n",
              "      <td>2023-09</td>\n",
              "      <td>Game is legitimately SO bad, its not fun. It i...</td>\n",
              "      <td>36</td>\n",
              "      <td>36</td>\n",
              "      <td>False</td>\n",
              "      <td>0.520552515983581543</td>\n",
              "      <td>True</td>\n",
              "      <td>False</td>\n",
              "    </tr>\n",
              "    <tr>\n",
              "      <th>94198</th>\n",
              "      <td>2064870</td>\n",
              "      <td>152144996</td>\n",
              "      <td>76561198006985924</td>\n",
              "      <td>2023-11-26 23:20:45</td>\n",
              "      <td>2023-11-26 23:20:45</td>\n",
              "      <td>2023-11</td>\n",
              "      <td>Has some things to be worked out, could have b...</td>\n",
              "      <td>970</td>\n",
              "      <td>1268</td>\n",
              "      <td>True</td>\n",
              "      <td>0.520547926425933838</td>\n",
              "      <td>True</td>\n",
              "      <td>False</td>\n",
              "    </tr>\n",
              "    <tr>\n",
              "      <th>94199</th>\n",
              "      <td>2064870</td>\n",
              "      <td>146369774</td>\n",
              "      <td>76561198165670513</td>\n",
              "      <td>2023-09-16 01:36:23</td>\n",
              "      <td>2023-09-16 01:36:23</td>\n",
              "      <td>2023-09</td>\n",
              "      <td>Yes, the game runs at a low fps. Yes, the game...</td>\n",
              "      <td>99</td>\n",
              "      <td>99</td>\n",
              "      <td>False</td>\n",
              "      <td>0.520455002784729004</td>\n",
              "      <td>True</td>\n",
              "      <td>False</td>\n",
              "    </tr>\n",
              "  </tbody>\n",
              "</table>\n",
              "<p>94200 rows × 13 columns</p>\n",
              "</div>\n",
              "    <div class=\"colab-df-buttons\">\n",
              "\n",
              "  <div class=\"colab-df-container\">\n",
              "    <button class=\"colab-df-convert\" onclick=\"convertToInteractive('df-60d79410-6f5f-4001-a75d-46400f45fbe0')\"\n",
              "            title=\"Convert this dataframe to an interactive table.\"\n",
              "            style=\"display:none;\">\n",
              "\n",
              "  <svg xmlns=\"http://www.w3.org/2000/svg\" height=\"24px\" viewBox=\"0 -960 960 960\">\n",
              "    <path d=\"M120-120v-720h720v720H120Zm60-500h600v-160H180v160Zm220 220h160v-160H400v160Zm0 220h160v-160H400v160ZM180-400h160v-160H180v160Zm440 0h160v-160H620v160ZM180-180h160v-160H180v160Zm440 0h160v-160H620v160Z\"/>\n",
              "  </svg>\n",
              "    </button>\n",
              "\n",
              "  <style>\n",
              "    .colab-df-container {\n",
              "      display:flex;\n",
              "      gap: 12px;\n",
              "    }\n",
              "\n",
              "    .colab-df-convert {\n",
              "      background-color: #E8F0FE;\n",
              "      border: none;\n",
              "      border-radius: 50%;\n",
              "      cursor: pointer;\n",
              "      display: none;\n",
              "      fill: #1967D2;\n",
              "      height: 32px;\n",
              "      padding: 0 0 0 0;\n",
              "      width: 32px;\n",
              "    }\n",
              "\n",
              "    .colab-df-convert:hover {\n",
              "      background-color: #E2EBFA;\n",
              "      box-shadow: 0px 1px 2px rgba(60, 64, 67, 0.3), 0px 1px 3px 1px rgba(60, 64, 67, 0.15);\n",
              "      fill: #174EA6;\n",
              "    }\n",
              "\n",
              "    .colab-df-buttons div {\n",
              "      margin-bottom: 4px;\n",
              "    }\n",
              "\n",
              "    [theme=dark] .colab-df-convert {\n",
              "      background-color: #3B4455;\n",
              "      fill: #D2E3FC;\n",
              "    }\n",
              "\n",
              "    [theme=dark] .colab-df-convert:hover {\n",
              "      background-color: #434B5C;\n",
              "      box-shadow: 0px 1px 3px 1px rgba(0, 0, 0, 0.15);\n",
              "      filter: drop-shadow(0px 1px 2px rgba(0, 0, 0, 0.3));\n",
              "      fill: #FFFFFF;\n",
              "    }\n",
              "  </style>\n",
              "\n",
              "    <script>\n",
              "      const buttonEl =\n",
              "        document.querySelector('#df-60d79410-6f5f-4001-a75d-46400f45fbe0 button.colab-df-convert');\n",
              "      buttonEl.style.display =\n",
              "        google.colab.kernel.accessAllowed ? 'block' : 'none';\n",
              "\n",
              "      async function convertToInteractive(key) {\n",
              "        const element = document.querySelector('#df-60d79410-6f5f-4001-a75d-46400f45fbe0');\n",
              "        const dataTable =\n",
              "          await google.colab.kernel.invokeFunction('convertToInteractive',\n",
              "                                                    [key], {});\n",
              "        if (!dataTable) return;\n",
              "\n",
              "        const docLinkHtml = 'Like what you see? Visit the ' +\n",
              "          '<a target=\"_blank\" href=https://colab.research.google.com/notebooks/data_table.ipynb>data table notebook</a>'\n",
              "          + ' to learn more about interactive tables.';\n",
              "        element.innerHTML = '';\n",
              "        dataTable['output_type'] = 'display_data';\n",
              "        await google.colab.output.renderOutput(dataTable, element);\n",
              "        const docLink = document.createElement('div');\n",
              "        docLink.innerHTML = docLinkHtml;\n",
              "        element.appendChild(docLink);\n",
              "      }\n",
              "    </script>\n",
              "  </div>\n",
              "\n",
              "\n",
              "<div id=\"df-6b2e5a28-81f6-4c79-9d63-c66631bc4033\">\n",
              "  <button class=\"colab-df-quickchart\" onclick=\"quickchart('df-6b2e5a28-81f6-4c79-9d63-c66631bc4033')\"\n",
              "            title=\"Suggest charts\"\n",
              "            style=\"display:none;\">\n",
              "\n",
              "<svg xmlns=\"http://www.w3.org/2000/svg\" height=\"24px\"viewBox=\"0 0 24 24\"\n",
              "     width=\"24px\">\n",
              "    <g>\n",
              "        <path d=\"M19 3H5c-1.1 0-2 .9-2 2v14c0 1.1.9 2 2 2h14c1.1 0 2-.9 2-2V5c0-1.1-.9-2-2-2zM9 17H7v-7h2v7zm4 0h-2V7h2v10zm4 0h-2v-4h2v4z\"/>\n",
              "    </g>\n",
              "</svg>\n",
              "  </button>\n",
              "\n",
              "<style>\n",
              "  .colab-df-quickchart {\n",
              "      --bg-color: #E8F0FE;\n",
              "      --fill-color: #1967D2;\n",
              "      --hover-bg-color: #E2EBFA;\n",
              "      --hover-fill-color: #174EA6;\n",
              "      --disabled-fill-color: #AAA;\n",
              "      --disabled-bg-color: #DDD;\n",
              "  }\n",
              "\n",
              "  [theme=dark] .colab-df-quickchart {\n",
              "      --bg-color: #3B4455;\n",
              "      --fill-color: #D2E3FC;\n",
              "      --hover-bg-color: #434B5C;\n",
              "      --hover-fill-color: #FFFFFF;\n",
              "      --disabled-bg-color: #3B4455;\n",
              "      --disabled-fill-color: #666;\n",
              "  }\n",
              "\n",
              "  .colab-df-quickchart {\n",
              "    background-color: var(--bg-color);\n",
              "    border: none;\n",
              "    border-radius: 50%;\n",
              "    cursor: pointer;\n",
              "    display: none;\n",
              "    fill: var(--fill-color);\n",
              "    height: 32px;\n",
              "    padding: 0;\n",
              "    width: 32px;\n",
              "  }\n",
              "\n",
              "  .colab-df-quickchart:hover {\n",
              "    background-color: var(--hover-bg-color);\n",
              "    box-shadow: 0 1px 2px rgba(60, 64, 67, 0.3), 0 1px 3px 1px rgba(60, 64, 67, 0.15);\n",
              "    fill: var(--button-hover-fill-color);\n",
              "  }\n",
              "\n",
              "  .colab-df-quickchart-complete:disabled,\n",
              "  .colab-df-quickchart-complete:disabled:hover {\n",
              "    background-color: var(--disabled-bg-color);\n",
              "    fill: var(--disabled-fill-color);\n",
              "    box-shadow: none;\n",
              "  }\n",
              "\n",
              "  .colab-df-spinner {\n",
              "    border: 2px solid var(--fill-color);\n",
              "    border-color: transparent;\n",
              "    border-bottom-color: var(--fill-color);\n",
              "    animation:\n",
              "      spin 1s steps(1) infinite;\n",
              "  }\n",
              "\n",
              "  @keyframes spin {\n",
              "    0% {\n",
              "      border-color: transparent;\n",
              "      border-bottom-color: var(--fill-color);\n",
              "      border-left-color: var(--fill-color);\n",
              "    }\n",
              "    20% {\n",
              "      border-color: transparent;\n",
              "      border-left-color: var(--fill-color);\n",
              "      border-top-color: var(--fill-color);\n",
              "    }\n",
              "    30% {\n",
              "      border-color: transparent;\n",
              "      border-left-color: var(--fill-color);\n",
              "      border-top-color: var(--fill-color);\n",
              "      border-right-color: var(--fill-color);\n",
              "    }\n",
              "    40% {\n",
              "      border-color: transparent;\n",
              "      border-right-color: var(--fill-color);\n",
              "      border-top-color: var(--fill-color);\n",
              "    }\n",
              "    60% {\n",
              "      border-color: transparent;\n",
              "      border-right-color: var(--fill-color);\n",
              "    }\n",
              "    80% {\n",
              "      border-color: transparent;\n",
              "      border-right-color: var(--fill-color);\n",
              "      border-bottom-color: var(--fill-color);\n",
              "    }\n",
              "    90% {\n",
              "      border-color: transparent;\n",
              "      border-bottom-color: var(--fill-color);\n",
              "    }\n",
              "  }\n",
              "</style>\n",
              "\n",
              "  <script>\n",
              "    async function quickchart(key) {\n",
              "      const quickchartButtonEl =\n",
              "        document.querySelector('#' + key + ' button');\n",
              "      quickchartButtonEl.disabled = true;  // To prevent multiple clicks.\n",
              "      quickchartButtonEl.classList.add('colab-df-spinner');\n",
              "      try {\n",
              "        const charts = await google.colab.kernel.invokeFunction(\n",
              "            'suggestCharts', [key], {});\n",
              "      } catch (error) {\n",
              "        console.error('Error during call to suggestCharts:', error);\n",
              "      }\n",
              "      quickchartButtonEl.classList.remove('colab-df-spinner');\n",
              "      quickchartButtonEl.classList.add('colab-df-quickchart-complete');\n",
              "    }\n",
              "    (() => {\n",
              "      let quickchartButtonEl =\n",
              "        document.querySelector('#df-6b2e5a28-81f6-4c79-9d63-c66631bc4033 button');\n",
              "      quickchartButtonEl.style.display =\n",
              "        google.colab.kernel.accessAllowed ? 'block' : 'none';\n",
              "    })();\n",
              "  </script>\n",
              "</div>\n",
              "    </div>\n",
              "  </div>\n"
            ]
          },
          "metadata": {},
          "execution_count": 9
        }
      ]
    },
    {
      "cell_type": "code",
      "source": [
        "# cleaning\n",
        "\n",
        "review_df['weighted_score'] = review_df['weighted_score'].astype('float')\n",
        "review_df = review_df[review_df['weighted_score'] != 0.0] # removing scores that are 0 because outliers\n",
        "review_df = review_df[review_df['playtime_at_review'] != 0.0] # removing playtimes that are 0 because faulty\n",
        "review_df['playtime_at_review'] = review_df['playtime_at_review'] / 3600 # changing units from seconds to hours\n",
        "\n",
        "review_df.dtypes"
      ],
      "metadata": {
        "id": "vhhi1U-J2xre"
      },
      "execution_count": null,
      "outputs": []
    },
    {
      "cell_type": "code",
      "source": [
        "# some basic statistics\n",
        "\n",
        "print(\"Size of the dataset:\", review_df.shape)\n",
        "print('----------')\n",
        "\n",
        "print(\"*** Game weighted scores\",\n",
        "      f\"\\n\\tAverage score: {round(review_df['weighted_score'].mean(), 2)}\",\n",
        "      f\"\\n\\tHighest score: {round(review_df['weighted_score'].max(), 2)}\",\n",
        "      f\"\\n\\tLowest score: {round(review_df['weighted_score'].min(), 2)}\")\n",
        "print('----------')\n",
        "\n",
        "print(\"*** Game votes\",\n",
        "      f\"\\n\\tVoted up: {len(review_df[review_df['voted_up'] == True])}\",\n",
        "      f\"\\n\\tVoted down: {len(review_df[review_df['voted_up'] == False])}\")\n",
        "print('----------')\n",
        "\n",
        "print(\"*** Playtime at review (hours)\",\n",
        "      f\"\\n\\tAverage playtime: {round(review_df['playtime_at_review'].mean(), 2)}\",\n",
        "      f\"\\n\\tLongest playtime: {round(review_df['playtime_at_review'].max(), 2)}\",\n",
        "      f\"\\n\\tShortest playtime: {round(review_df['playtime_at_review'].min(), 2)}\")"
      ],
      "metadata": {
        "id": "NUzzMJTA20xJ",
        "colab": {
          "base_uri": "https://localhost:8080/"
        },
        "outputId": "0945ad13-8b1f-4ae4-a5dc-316d179c2bc5"
      },
      "execution_count": null,
      "outputs": [
        {
          "output_type": "stream",
          "name": "stdout",
          "text": [
            "Size of the dataset: (92213, 13)\n",
            "----------\n",
            "*** Game weighted scores \n",
            "\tAverage score: 0.74 \n",
            "\tHighest score: 0.99 \n",
            "\tLowest score: 0.15\n",
            "----------\n",
            "*** Game votes \n",
            "\tVoted up: 72107 \n",
            "\tVoted down: 20106\n",
            "----------\n",
            "*** Playtime at review (hours) \n",
            "\tAverage playtime: 2.16 \n",
            "\tLongest playtime: 983.98 \n",
            "\tShortest playtime: 0.0\n"
          ]
        }
      ]
    },
    {
      "cell_type": "code",
      "source": [
        "# distribution of reviews weighted scores\n",
        "\n",
        "sns.set(style=\"whitegrid\")\n",
        "plt.figure(figsize=(10, 6))\n",
        "sns.set_palette('magma')\n",
        "\n",
        "sns.histplot(data=review_df, x=\"weighted_score\", bins=20, kde=True, alpha=0.7)\n",
        "plt.xlabel(\"Weighted Score\")\n",
        "plt.ylabel(\"Count\")\n",
        "plt.title(\"Distribution of Reviews Weighted Scores\")\n",
        "\n",
        "plt.show()"
      ],
      "metadata": {
        "colab": {
          "base_uri": "https://localhost:8080/",
          "height": 573
        },
        "id": "HxZMyvdzi1eP",
        "outputId": "0fa17816-ad78-4463-e38b-643d64ca9ac9"
      },
      "execution_count": null,
      "outputs": [
        {
          "output_type": "display_data",
          "data": {
            "text/plain": [
              "<Figure size 1000x600 with 1 Axes>"
            ],
            "image/png": "[encoded data removed]"
          },
          "metadata": {}
        }
      ]
    },
    {
      "cell_type": "code",
      "source": [
        "# top rated games using average weighted score\n",
        "\n",
        "avg_score_df = review_df.groupby(['appid'])['weighted_score'].mean().reset_index()\n",
        "avg_score_df = avg_score_df.sort_values(by='weighted_score', ascending=False).reset_index()\n",
        "\n",
        "filtered_game_data_df = game_data_df[['appid', 'game']].astype(str)\n",
        "avg_score_df = pd.merge(avg_score_df, filtered_game_data_df, on='appid', how='left')\n",
        "\n",
        "avg_score_df = avg_score_df[['appid', 'game', 'weighted_score']]\n",
        "\n",
        "avg_score_df"
      ],
      "metadata": {
        "id": "4i9gloAj2zpS",
        "colab": {
          "base_uri": "https://localhost:8080/",
          "height": 424
        },
        "outputId": "3be6932f-5d90-4218-9c6c-62c2ac96e183"
      },
      "execution_count": null,
      "outputs": [
        {
          "output_type": "execute_result",
          "data": {
            "text/plain": [
              "       appid                    game  weighted_score\n",
              "0     413150          Stardew Valley        0.950101\n",
              "1     275850            No Man's Sky        0.948170\n",
              "2    1086940         Baldur's Gate 3        0.945363\n",
              "3    1174180   Red Dead Redemption 2        0.940717\n",
              "4    1237970             Titanfall 2        0.940556\n",
              "..       ...                     ...             ...\n",
              "935   495910  Dungeon Fighter Online        0.478909\n",
              "936   478980     Mansions of Madness        0.476144\n",
              "937   443110         Armored Warfare        0.471698\n",
              "938  2394590            Just Survive        0.460175\n",
              "939   383780               Judgement        0.455816\n",
              "\n",
              "[940 rows x 3 columns]"
            ],
            "text/html": [
              "\n",
              "  <div id=\"df-fb31f5b7-8a59-4529-9b94-f8c1b5ab4b97\" class=\"colab-df-container\">\n",
              "    <div>\n",
              "<style scoped>\n",
              "    .dataframe tbody tr th:only-of-type {\n",
              "        vertical-align: middle;\n",
              "    }\n",
              "\n",
              "    .dataframe tbody tr th {\n",
              "        vertical-align: top;\n",
              "    }\n",
              "\n",
              "    .dataframe thead th {\n",
              "        text-align: right;\n",
              "    }\n",
              "</style>\n",
              "<table border=\"1\" class=\"dataframe\">\n",
              "  <thead>\n",
              "    <tr style=\"text-align: right;\">\n",
              "      <th></th>\n",
              "      <th>appid</th>\n",
              "      <th>game</th>\n",
              "      <th>weighted_score</th>\n",
              "    </tr>\n",
              "  </thead>\n",
              "  <tbody>\n",
              "    <tr>\n",
              "      <th>0</th>\n",
              "      <td>413150</td>\n",
              "      <td>Stardew Valley</td>\n",
              "      <td>0.950101</td>\n",
              "    </tr>\n",
              "    <tr>\n",
              "      <th>1</th>\n",
              "      <td>275850</td>\n",
              "      <td>No Man's Sky</td>\n",
              "      <td>0.948170</td>\n",
              "    </tr>\n",
              "    <tr>\n",
              "      <th>2</th>\n",
              "      <td>1086940</td>\n",
              "      <td>Baldur's Gate 3</td>\n",
              "      <td>0.945363</td>\n",
              "    </tr>\n",
              "    <tr>\n",
              "      <th>3</th>\n",
              "      <td>1174180</td>\n",
              "      <td>Red Dead Redemption 2</td>\n",
              "      <td>0.940717</td>\n",
              "    </tr>\n",
              "    <tr>\n",
              "      <th>4</th>\n",
              "      <td>1237970</td>\n",
              "      <td>Titanfall 2</td>\n",
              "      <td>0.940556</td>\n",
              "    </tr>\n",
              "    <tr>\n",
              "      <th>...</th>\n",
              "      <td>...</td>\n",
              "      <td>...</td>\n",
              "      <td>...</td>\n",
              "    </tr>\n",
              "    <tr>\n",
              "      <th>935</th>\n",
              "      <td>495910</td>\n",
              "      <td>Dungeon Fighter Online</td>\n",
              "      <td>0.478909</td>\n",
              "    </tr>\n",
              "    <tr>\n",
              "      <th>936</th>\n",
              "      <td>478980</td>\n",
              "      <td>Mansions of Madness</td>\n",
              "      <td>0.476144</td>\n",
              "    </tr>\n",
              "    <tr>\n",
              "      <th>937</th>\n",
              "      <td>443110</td>\n",
              "      <td>Armored Warfare</td>\n",
              "      <td>0.471698</td>\n",
              "    </tr>\n",
              "    <tr>\n",
              "      <th>938</th>\n",
              "      <td>2394590</td>\n",
              "      <td>Just Survive</td>\n",
              "      <td>0.460175</td>\n",
              "    </tr>\n",
              "    <tr>\n",
              "      <th>939</th>\n",
              "      <td>383780</td>\n",
              "      <td>Judgement</td>\n",
              "      <td>0.455816</td>\n",
              "    </tr>\n",
              "  </tbody>\n",
              "</table>\n",
              "<p>940 rows × 3 columns</p>\n",
              "</div>\n",
              "    <div class=\"colab-df-buttons\">\n",
              "\n",
              "  <div class=\"colab-df-container\">\n",
              "    <button class=\"colab-df-convert\" onclick=\"convertToInteractive('df-fb31f5b7-8a59-4529-9b94-f8c1b5ab4b97')\"\n",
              "            title=\"Convert this dataframe to an interactive table.\"\n",
              "            style=\"display:none;\">\n",
              "\n",
              "  <svg xmlns=\"http://www.w3.org/2000/svg\" height=\"24px\" viewBox=\"0 -960 960 960\">\n",
              "    <path d=\"M120-120v-720h720v720H120Zm60-500h600v-160H180v160Zm220 220h160v-160H400v160Zm0 220h160v-160H400v160ZM180-400h160v-160H180v160Zm440 0h160v-160H620v160ZM180-180h160v-160H180v160Zm440 0h160v-160H620v160Z\"/>\n",
              "  </svg>\n",
              "    </button>\n",
              "\n",
              "  <style>\n",
              "    .colab-df-container {\n",
              "      display:flex;\n",
              "      gap: 12px;\n",
              "    }\n",
              "\n",
              "    .colab-df-convert {\n",
              "      background-color: #E8F0FE;\n",
              "      border: none;\n",
              "      border-radius: 50%;\n",
              "      cursor: pointer;\n",
              "      display: none;\n",
              "      fill: #1967D2;\n",
              "      height: 32px;\n",
              "      padding: 0 0 0 0;\n",
              "      width: 32px;\n",
              "    }\n",
              "\n",
              "    .colab-df-convert:hover {\n",
              "      background-color: #E2EBFA;\n",
              "      box-shadow: 0px 1px 2px rgba(60, 64, 67, 0.3), 0px 1px 3px 1px rgba(60, 64, 67, 0.15);\n",
              "      fill: #174EA6;\n",
              "    }\n",
              "\n",
              "    .colab-df-buttons div {\n",
              "      margin-bottom: 4px;\n",
              "    }\n",
              "\n",
              "    [theme=dark] .colab-df-convert {\n",
              "      background-color: #3B4455;\n",
              "      fill: #D2E3FC;\n",
              "    }\n",
              "\n",
              "    [theme=dark] .colab-df-convert:hover {\n",
              "      background-color: #434B5C;\n",
              "      box-shadow: 0px 1px 3px 1px rgba(0, 0, 0, 0.15);\n",
              "      filter: drop-shadow(0px 1px 2px rgba(0, 0, 0, 0.3));\n",
              "      fill: #FFFFFF;\n",
              "    }\n",
              "  </style>\n",
              "\n",
              "    <script>\n",
              "      const buttonEl =\n",
              "        document.querySelector('#df-fb31f5b7-8a59-4529-9b94-f8c1b5ab4b97 button.colab-df-convert');\n",
              "      buttonEl.style.display =\n",
              "        google.colab.kernel.accessAllowed ? 'block' : 'none';\n",
              "\n",
              "      async function convertToInteractive(key) {\n",
              "        const element = document.querySelector('#df-fb31f5b7-8a59-4529-9b94-f8c1b5ab4b97');\n",
              "        const dataTable =\n",
              "          await google.colab.kernel.invokeFunction('convertToInteractive',\n",
              "                                                    [key], {});\n",
              "        if (!dataTable) return;\n",
              "\n",
              "        const docLinkHtml = 'Like what you see? Visit the ' +\n",
              "          '<a target=\"_blank\" href=https://colab.research.google.com/notebooks/data_table.ipynb>data table notebook</a>'\n",
              "          + ' to learn more about interactive tables.';\n",
              "        element.innerHTML = '';\n",
              "        dataTable['output_type'] = 'display_data';\n",
              "        await google.colab.output.renderOutput(dataTable, element);\n",
              "        const docLink = document.createElement('div');\n",
              "        docLink.innerHTML = docLinkHtml;\n",
              "        element.appendChild(docLink);\n",
              "      }\n",
              "    </script>\n",
              "  </div>\n",
              "\n",
              "\n",
              "<div id=\"df-645db02c-c5f3-449a-9ac7-c658c4c9c8d7\">\n",
              "  <button class=\"colab-df-quickchart\" onclick=\"quickchart('df-645db02c-c5f3-449a-9ac7-c658c4c9c8d7')\"\n",
              "            title=\"Suggest charts\"\n",
              "            style=\"display:none;\">\n",
              "\n",
              "<svg xmlns=\"http://www.w3.org/2000/svg\" height=\"24px\"viewBox=\"0 0 24 24\"\n",
              "     width=\"24px\">\n",
              "    <g>\n",
              "        <path d=\"M19 3H5c-1.1 0-2 .9-2 2v14c0 1.1.9 2 2 2h14c1.1 0 2-.9 2-2V5c0-1.1-.9-2-2-2zM9 17H7v-7h2v7zm4 0h-2V7h2v10zm4 0h-2v-4h2v4z\"/>\n",
              "    </g>\n",
              "</svg>\n",
              "  </button>\n",
              "\n",
              "<style>\n",
              "  .colab-df-quickchart {\n",
              "      --bg-color: #E8F0FE;\n",
              "      --fill-color: #1967D2;\n",
              "      --hover-bg-color: #E2EBFA;\n",
              "      --hover-fill-color: #174EA6;\n",
              "      --disabled-fill-color: #AAA;\n",
              "      --disabled-bg-color: #DDD;\n",
              "  }\n",
              "\n",
              "  [theme=dark] .colab-df-quickchart {\n",
              "      --bg-color: #3B4455;\n",
              "      --fill-color: #D2E3FC;\n",
              "      --hover-bg-color: #434B5C;\n",
              "      --hover-fill-color: #FFFFFF;\n",
              "      --disabled-bg-color: #3B4455;\n",
              "      --disabled-fill-color: #666;\n",
              "  }\n",
              "\n",
              "  .colab-df-quickchart {\n",
              "    background-color: var(--bg-color);\n",
              "    border: none;\n",
              "    border-radius: 50%;\n",
              "    cursor: pointer;\n",
              "    display: none;\n",
              "    fill: var(--fill-color);\n",
              "    height: 32px;\n",
              "    padding: 0;\n",
              "    width: 32px;\n",
              "  }\n",
              "\n",
              "  .colab-df-quickchart:hover {\n",
              "    background-color: var(--hover-bg-color);\n",
              "    box-shadow: 0 1px 2px rgba(60, 64, 67, 0.3), 0 1px 3px 1px rgba(60, 64, 67, 0.15);\n",
              "    fill: var(--button-hover-fill-color);\n",
              "  }\n",
              "\n",
              "  .colab-df-quickchart-complete:disabled,\n",
              "  .colab-df-quickchart-complete:disabled:hover {\n",
              "    background-color: var(--disabled-bg-color);\n",
              "    fill: var(--disabled-fill-color);\n",
              "    box-shadow: none;\n",
              "  }\n",
              "\n",
              "  .colab-df-spinner {\n",
              "    border: 2px solid var(--fill-color);\n",
              "    border-color: transparent;\n",
              "    border-bottom-color: var(--fill-color);\n",
              "    animation:\n",
              "      spin 1s steps(1) infinite;\n",
              "  }\n",
              "\n",
              "  @keyframes spin {\n",
              "    0% {\n",
              "      border-color: transparent;\n",
              "      border-bottom-color: var(--fill-color);\n",
              "      border-left-color: var(--fill-color);\n",
              "    }\n",
              "    20% {\n",
              "      border-color: transparent;\n",
              "      border-left-color: var(--fill-color);\n",
              "      border-top-color: var(--fill-color);\n",
              "    }\n",
              "    30% {\n",
              "      border-color: transparent;\n",
              "      border-left-color: var(--fill-color);\n",
              "      border-top-color: var(--fill-color);\n",
              "      border-right-color: var(--fill-color);\n",
              "    }\n",
              "    40% {\n",
              "      border-color: transparent;\n",
              "      border-right-color: var(--fill-color);\n",
              "      border-top-color: var(--fill-color);\n",
              "    }\n",
              "    60% {\n",
              "      border-color: transparent;\n",
              "      border-right-color: var(--fill-color);\n",
              "    }\n",
              "    80% {\n",
              "      border-color: transparent;\n",
              "      border-right-color: var(--fill-color);\n",
              "      border-bottom-color: var(--fill-color);\n",
              "    }\n",
              "    90% {\n",
              "      border-color: transparent;\n",
              "      border-bottom-color: var(--fill-color);\n",
              "    }\n",
              "  }\n",
              "</style>\n",
              "\n",
              "  <script>\n",
              "    async function quickchart(key) {\n",
              "      const quickchartButtonEl =\n",
              "        document.querySelector('#' + key + ' button');\n",
              "      quickchartButtonEl.disabled = true;  // To prevent multiple clicks.\n",
              "      quickchartButtonEl.classList.add('colab-df-spinner');\n",
              "      try {\n",
              "        const charts = await google.colab.kernel.invokeFunction(\n",
              "            'suggestCharts', [key], {});\n",
              "      } catch (error) {\n",
              "        console.error('Error during call to suggestCharts:', error);\n",
              "      }\n",
              "      quickchartButtonEl.classList.remove('colab-df-spinner');\n",
              "      quickchartButtonEl.classList.add('colab-df-quickchart-complete');\n",
              "    }\n",
              "    (() => {\n",
              "      let quickchartButtonEl =\n",
              "        document.querySelector('#df-645db02c-c5f3-449a-9ac7-c658c4c9c8d7 button');\n",
              "      quickchartButtonEl.style.display =\n",
              "        google.colab.kernel.accessAllowed ? 'block' : 'none';\n",
              "    })();\n",
              "  </script>\n",
              "</div>\n",
              "    </div>\n",
              "  </div>\n"
            ]
          },
          "metadata": {},
          "execution_count": 101
        }
      ]
    },
    {
      "cell_type": "code",
      "source": [
        "# visualizing top rated games\n",
        "\n",
        "sns.set(style=\"whitegrid\")\n",
        "plt.figure(figsize=(10, 6))\n",
        "sns.set_palette('magma')\n",
        "\n",
        "top_games = avg_score_df.head(30)\n",
        "\n",
        "plt.barh(top_games['game'], top_games['weighted_score'], alpha=0.7)\n",
        "plt.xlabel('Average Weighted Score')\n",
        "plt.title('Top 30 Games with Highest Average Weighted Scores')\n",
        "plt.gca().invert_yaxis()  # invert the y-axis so the highest score is at the top\n",
        "plt.show()"
      ],
      "metadata": {
        "colab": {
          "base_uri": "https://localhost:8080/",
          "height": 516
        },
        "id": "T-JxR7T9htiB",
        "outputId": "62ae48d8-d31d-43a8-bf03-b996f8f1e4e7"
      },
      "execution_count": null,
      "outputs": [
        {
          "output_type": "display_data",
          "data": {
            "text/plain": [
              "<Figure size 1000x600 with 1 Axes>"
            ],
            "image/png": "[encoded data removed]"
          },
          "metadata": {}
        }
      ]
    },
    {
      "cell_type": "code",
      "source": [
        "# save to csv\n",
        "\n",
        "review_df.to_csv(\"/content/datasets/game_review_data.csv\", index=True, encoding='utf-8-sig')"
      ],
      "metadata": {
        "id": "KeQRpsUb239V"
      },
      "execution_count": null,
      "outputs": []
    },
    {
      "cell_type": "markdown",
      "source": [
        "### Linear Regression Analysis\n",
        "Relationship between the playtime at review and review weighted score"
      ],
      "metadata": {
        "id": "aJXM17LX2_tU"
      }
    },
    {
      "cell_type": "code",
      "source": [
        "# plotting the relationship\n",
        "\n",
        "sns.set(style=\"whitegrid\")\n",
        "plt.figure(figsize=(10, 6))\n",
        "sns.set_palette('magma')\n",
        "\n",
        "sns.scatterplot(data=review_df, x=\"playtime_at_review\", y=\"weighted_score\", alpha=0.5, hue='weighted_score')\n",
        "\n",
        "plt.xlabel(\"Playtime at Review\")\n",
        "plt.ylabel(\"Review Score\")\n",
        "plt.title(\"Playtime vs. Review Score\")\n",
        "\n",
        "plt.show()"
      ],
      "metadata": {
        "id": "o3_spIq23J02",
        "colab": {
          "base_uri": "https://localhost:8080/",
          "height": 573
        },
        "outputId": "cd80a788-3b20-4b89-d209-40e275fbb5f3"
      },
      "execution_count": null,
      "outputs": [
        {
          "output_type": "display_data",
          "data": {
            "text/plain": [
              "<Figure size 1000x600 with 1 Axes>"
            ],
            "image/png": "[encoded data removed]"
          },
          "metadata": {}
        }
      ]
    },
    {
      "cell_type": "code",
      "source": [
        "# is there a significant correlation between playtime_at_review and weighted_score?\n",
        "\n",
        "x = review_df['playtime_at_review']\n",
        "y = review_df['weighted_score']\n",
        "\n",
        "corr_coef, p_value = pearsonr(x, y)\n",
        "print(\"Pearson's correlation between playtime at review and weighted score:\", corr_coef, \"\\tp-value:\", round(p_value, 4))\n",
        "print(\"There is a significant weak positive relationship between playtime and weighted score.\\n\\n\")\n",
        "\n",
        "X = sm.add_constant(x)\n",
        "model = sm.OLS(y, X).fit()\n",
        "print(model.summary())"
      ],
      "metadata": {
        "id": "yEdhm4fr3LLT",
        "colab": {
          "base_uri": "https://localhost:8080/"
        },
        "outputId": "44a03bd7-be2a-41c3-cc3c-d853a003af9a"
      },
      "execution_count": null,
      "outputs": [
        {
          "output_type": "stream",
          "name": "stdout",
          "text": [
            "Pearson's correlation between playtime at review and weighted score: 0.10999059784617012 \tp-value: 0.0\n",
            "There is a significant weak positive relationship between playtime and weighted score.\n",
            "\n",
            "\n",
            "                            OLS Regression Results                            \n",
            "==============================================================================\n",
            "Dep. Variable:         weighted_score   R-squared:                       0.012\n",
            "Model:                            OLS   Adj. R-squared:                  0.012\n",
            "Method:                 Least Squares   F-statistic:                     1129.\n",
            "Date:                Tue, 12 Dec 2023   Prob (F-statistic):          4.56e-246\n",
            "Time:                        01:47:05   Log-Likelihood:                 58955.\n",
            "No. Observations:               92213   AIC:                        -1.179e+05\n",
            "Df Residuals:                   92211   BIC:                        -1.179e+05\n",
            "Df Model:                           1                                         \n",
            "Covariance Type:            nonrobust                                         \n",
            "======================================================================================\n",
            "                         coef    std err          t      P>|t|      [0.025      0.975]\n",
            "--------------------------------------------------------------------------------------\n",
            "const                  0.7363      0.000   1726.474      0.000       0.735       0.737\n",
            "playtime_at_review     0.0011    3.3e-05     33.604      0.000       0.001       0.001\n",
            "==============================================================================\n",
            "Omnibus:                     4916.196   Durbin-Watson:                   0.102\n",
            "Prob(Omnibus):                  0.000   Jarque-Bera (JB):             2787.712\n",
            "Skew:                          -0.277   Prob(JB):                         0.00\n",
            "Kurtosis:                       2.352   Cond. No.                         13.1\n",
            "==============================================================================\n",
            "\n",
            "Notes:\n",
            "[1] Standard Errors assume that the covariance matrix of the errors is correctly specified.\n"
          ]
        }
      ]
    }
  ]
}