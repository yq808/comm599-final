{
  "nbformat": 4,
  "nbformat_minor": 0,
  "metadata": {
    "colab": {
      "provenance": [],
      "authorship_tag": "ABX9TyPJlwMeN6ACLwk5JMXAjKhZ",
      "include_colab_link": true
    },
    "kernelspec": {
      "name": "python3",
      "display_name": "Python 3"
    },
    "language_info": {
      "name": "python"
    }
  },
  "cells": [
    {
      "cell_type": "markdown",
      "metadata": {
        "id": "view-in-github",
        "colab_type": "text"
      },
      "source": [
        "<a href=\"https://colab.research.google.com/github/COMM599-Fall2023/fall_2023/blob/yueqihua-final-project/student%20folders/yueqihua/final/data_collection.ipynb\" target=\"_parent\"><img src=\"https://colab.research.google.com/assets/colab-badge.svg\" alt=\"Open In Colab\"/></a>"
      ]
    },
    {
      "cell_type": "markdown",
      "source": [
        "# Data Collection\n",
        "\n",
        "---\n",
        "\n",
        "*Using twitch_data_full.csv to create a cleaned Twitch dataset and a games dataset with game information scraped from Steam*\n",
        "\n",
        "*   Input: twitch_data_full.csv\n",
        "*   Output: twitch_data.csv, game_data.csv"
      ],
      "metadata": {
        "id": "Zpajo19bg89A"
      }
    },
    {
      "cell_type": "markdown",
      "source": [
        "## Install dependencies, import modules, input credentials"
      ],
      "metadata": {
        "id": "FLyuvy0kO20r"
      }
    },
    {
      "cell_type": "code",
      "source": [
        "!pip install pandas"
      ],
      "metadata": {
        "colab": {
          "base_uri": "https://localhost:8080/"
        },
        "id": "YZ9b7ded0tPd",
        "outputId": "51526bb5-bd33-49b7-efc8-1666c90e0b4f"
      },
      "execution_count": null,
      "outputs": [
        {
          "output_type": "stream",
          "name": "stdout",
          "text": [
            "Requirement already satisfied: pandas in /usr/local/lib/python3.10/dist-packages (1.5.3)\n",
            "Requirement already satisfied: python-dateutil>=2.8.1 in /usr/local/lib/python3.10/dist-packages (from pandas) (2.8.2)\n",
            "Requirement already satisfied: pytz>=2020.1 in /usr/local/lib/python3.10/dist-packages (from pandas) (2023.3.post1)\n",
            "Requirement already satisfied: numpy>=1.21.0 in /usr/local/lib/python3.10/dist-packages (from pandas) (1.23.5)\n",
            "Requirement already satisfied: six>=1.5 in /usr/local/lib/python3.10/dist-packages (from python-dateutil>=2.8.1->pandas) (1.16.0)\n"
          ]
        }
      ]
    },
    {
      "cell_type": "code",
      "source": [
        "from getpass import getpass\n",
        "import pandas as pd\n",
        "import requests\n",
        "from bs4 import BeautifulSoup\n",
        "from datetime import datetime\n",
        "import re\n",
        "import time\n",
        "from tqdm import tqdm\n",
        "import unicodedata"
      ],
      "metadata": {
        "id": "Ee_JikIj5-TF"
      },
      "execution_count": null,
      "outputs": []
    },
    {
      "cell_type": "markdown",
      "source": [
        "## Twitch Streaming Data\n",
        "\n",
        "Using a [dataset from Kaggle](https://www.kaggle.com/datasets/rankirsh/evolution-of-top-games-on-twitch)"
      ],
      "metadata": {
        "id": "GqU_xaNrmNBs"
      }
    },
    {
      "cell_type": "code",
      "source": [
        "# loading and cleaning dataset\n",
        "\n",
        "twitch_df = pd.read_csv(\"datasets/twitch_data_full.csv\", encoding='latin-1', index_col=0)\n",
        "\n",
        "twitch_df = twitch_df.reset_index(drop=False)\n",
        "twitch_df.columns = twitch_df.columns.str.lower()\n",
        "twitch_df['game'] = twitch_df['game'].apply(lambda game: unicodedata.normalize('NFC', str(game))) # converting unicode into special characters\n",
        "twitch_df['month'] = twitch_df['month'].apply(lambda x: f\"{x:02d}\") # formatting months from \"3\" to \"03\"\n",
        "twitch_df['year'] = twitch_df['year'].astype(str)\n",
        "\n",
        "twitch_df.head()"
      ],
      "metadata": {
        "colab": {
          "base_uri": "https://localhost:8080/",
          "height": 330
        },
        "id": "fEnAN5_X4Pw8",
        "outputId": "0e807f43-4b06-4561-f4df-4ba1d540b6e5"
      },
      "execution_count": null,
      "outputs": [
        {
          "output_type": "execute_result",
          "data": {
            "text/plain": [
              "   rank                              game month  year  hours_watched  \\\n",
              "0     1                 League of Legends    01  2016       94377226   \n",
              "1     2  Counter-Strike: Global Offensive    01  2016       47832863   \n",
              "2     3                            Dota 2    01  2016       45185893   \n",
              "3     4                       Hearthstone    01  2016       39936159   \n",
              "4     5       Call of Duty: Black Ops III    01  2016       16153057   \n",
              "\n",
              "   hours_streamed  peak_viewers  peak_channels  streamers  avg_viewers  \\\n",
              "0         1362044        530270           2903     129172       127021   \n",
              "1          830105        372654           2197     120849        64378   \n",
              "2          433397        315083           1100      44074        60815   \n",
              "3          235903        131357            517      36170        53749   \n",
              "4         1151578         71639           3620     214054        21740   \n",
              "\n",
              "   avg_channels  avg_viewer_ratio  \n",
              "0          1833             69.29  \n",
              "1          1117             57.62  \n",
              "2           583            104.26  \n",
              "3           317            169.29  \n",
              "4          1549             14.03  "
            ],
            "text/html": [
              "\n",
              "  <div id=\"df-e209e140-cca9-4aef-8ea6-8031520d3b38\" class=\"colab-df-container\">\n",
              "    <div>\n",
              "<style scoped>\n",
              "    .dataframe tbody tr th:only-of-type {\n",
              "        vertical-align: middle;\n",
              "    }\n",
              "\n",
              "    .dataframe tbody tr th {\n",
              "        vertical-align: top;\n",
              "    }\n",
              "\n",
              "    .dataframe thead th {\n",
              "        text-align: right;\n",
              "    }\n",
              "</style>\n",
              "<table border=\"1\" class=\"dataframe\">\n",
              "  <thead>\n",
              "    <tr style=\"text-align: right;\">\n",
              "      <th></th>\n",
              "      <th>rank</th>\n",
              "      <th>game</th>\n",
              "      <th>month</th>\n",
              "      <th>year</th>\n",
              "      <th>hours_watched</th>\n",
              "      <th>hours_streamed</th>\n",
              "      <th>peak_viewers</th>\n",
              "      <th>peak_channels</th>\n",
              "      <th>streamers</th>\n",
              "      <th>avg_viewers</th>\n",
              "      <th>avg_channels</th>\n",
              "      <th>avg_viewer_ratio</th>\n",
              "    </tr>\n",
              "  </thead>\n",
              "  <tbody>\n",
              "    <tr>\n",
              "      <th>0</th>\n",
              "      <td>1</td>\n",
              "      <td>League of Legends</td>\n",
              "      <td>01</td>\n",
              "      <td>2016</td>\n",
              "      <td>94377226</td>\n",
              "      <td>1362044</td>\n",
              "      <td>530270</td>\n",
              "      <td>2903</td>\n",
              "      <td>129172</td>\n",
              "      <td>127021</td>\n",
              "      <td>1833</td>\n",
              "      <td>69.29</td>\n",
              "    </tr>\n",
              "    <tr>\n",
              "      <th>1</th>\n",
              "      <td>2</td>\n",
              "      <td>Counter-Strike: Global Offensive</td>\n",
              "      <td>01</td>\n",
              "      <td>2016</td>\n",
              "      <td>47832863</td>\n",
              "      <td>830105</td>\n",
              "      <td>372654</td>\n",
              "      <td>2197</td>\n",
              "      <td>120849</td>\n",
              "      <td>64378</td>\n",
              "      <td>1117</td>\n",
              "      <td>57.62</td>\n",
              "    </tr>\n",
              "    <tr>\n",
              "      <th>2</th>\n",
              "      <td>3</td>\n",
              "      <td>Dota 2</td>\n",
              "      <td>01</td>\n",
              "      <td>2016</td>\n",
              "      <td>45185893</td>\n",
              "      <td>433397</td>\n",
              "      <td>315083</td>\n",
              "      <td>1100</td>\n",
              "      <td>44074</td>\n",
              "      <td>60815</td>\n",
              "      <td>583</td>\n",
              "      <td>104.26</td>\n",
              "    </tr>\n",
              "    <tr>\n",
              "      <th>3</th>\n",
              "      <td>4</td>\n",
              "      <td>Hearthstone</td>\n",
              "      <td>01</td>\n",
              "      <td>2016</td>\n",
              "      <td>39936159</td>\n",
              "      <td>235903</td>\n",
              "      <td>131357</td>\n",
              "      <td>517</td>\n",
              "      <td>36170</td>\n",
              "      <td>53749</td>\n",
              "      <td>317</td>\n",
              "      <td>169.29</td>\n",
              "    </tr>\n",
              "    <tr>\n",
              "      <th>4</th>\n",
              "      <td>5</td>\n",
              "      <td>Call of Duty: Black Ops III</td>\n",
              "      <td>01</td>\n",
              "      <td>2016</td>\n",
              "      <td>16153057</td>\n",
              "      <td>1151578</td>\n",
              "      <td>71639</td>\n",
              "      <td>3620</td>\n",
              "      <td>214054</td>\n",
              "      <td>21740</td>\n",
              "      <td>1549</td>\n",
              "      <td>14.03</td>\n",
              "    </tr>\n",
              "  </tbody>\n",
              "</table>\n",
              "</div>\n",
              "    <div class=\"colab-df-buttons\">\n",
              "\n",
              "  <div class=\"colab-df-container\">\n",
              "    <button class=\"colab-df-convert\" onclick=\"convertToInteractive('df-e209e140-cca9-4aef-8ea6-8031520d3b38')\"\n",
              "            title=\"Convert this dataframe to an interactive table.\"\n",
              "            style=\"display:none;\">\n",
              "\n",
              "  <svg xmlns=\"http://www.w3.org/2000/svg\" height=\"24px\" viewBox=\"0 -960 960 960\">\n",
              "    <path d=\"M120-120v-720h720v720H120Zm60-500h600v-160H180v160Zm220 220h160v-160H400v160Zm0 220h160v-160H400v160ZM180-400h160v-160H180v160Zm440 0h160v-160H620v160ZM180-180h160v-160H180v160Zm440 0h160v-160H620v160Z\"/>\n",
              "  </svg>\n",
              "    </button>\n",
              "\n",
              "  <style>\n",
              "    .colab-df-container {\n",
              "      display:flex;\n",
              "      gap: 12px;\n",
              "    }\n",
              "\n",
              "    .colab-df-convert {\n",
              "      background-color: #E8F0FE;\n",
              "      border: none;\n",
              "      border-radius: 50%;\n",
              "      cursor: pointer;\n",
              "      display: none;\n",
              "      fill: #1967D2;\n",
              "      height: 32px;\n",
              "      padding: 0 0 0 0;\n",
              "      width: 32px;\n",
              "    }\n",
              "\n",
              "    .colab-df-convert:hover {\n",
              "      background-color: #E2EBFA;\n",
              "      box-shadow: 0px 1px 2px rgba(60, 64, 67, 0.3), 0px 1px 3px 1px rgba(60, 64, 67, 0.15);\n",
              "      fill: #174EA6;\n",
              "    }\n",
              "\n",
              "    .colab-df-buttons div {\n",
              "      margin-bottom: 4px;\n",
              "    }\n",
              "\n",
              "    [theme=dark] .colab-df-convert {\n",
              "      background-color: #3B4455;\n",
              "      fill: #D2E3FC;\n",
              "    }\n",
              "\n",
              "    [theme=dark] .colab-df-convert:hover {\n",
              "      background-color: #434B5C;\n",
              "      box-shadow: 0px 1px 3px 1px rgba(0, 0, 0, 0.15);\n",
              "      filter: drop-shadow(0px 1px 2px rgba(0, 0, 0, 0.3));\n",
              "      fill: #FFFFFF;\n",
              "    }\n",
              "  </style>\n",
              "\n",
              "    <script>\n",
              "      const buttonEl =\n",
              "        document.querySelector('#df-e209e140-cca9-4aef-8ea6-8031520d3b38 button.colab-df-convert');\n",
              "      buttonEl.style.display =\n",
              "        google.colab.kernel.accessAllowed ? 'block' : 'none';\n",
              "\n",
              "      async function convertToInteractive(key) {\n",
              "        const element = document.querySelector('#df-e209e140-cca9-4aef-8ea6-8031520d3b38');\n",
              "        const dataTable =\n",
              "          await google.colab.kernel.invokeFunction('convertToInteractive',\n",
              "                                                    [key], {});\n",
              "        if (!dataTable) return;\n",
              "\n",
              "        const docLinkHtml = 'Like what you see? Visit the ' +\n",
              "          '<a target=\"_blank\" href=https://colab.research.google.com/notebooks/data_table.ipynb>data table notebook</a>'\n",
              "          + ' to learn more about interactive tables.';\n",
              "        element.innerHTML = '';\n",
              "        dataTable['output_type'] = 'display_data';\n",
              "        await google.colab.output.renderOutput(dataTable, element);\n",
              "        const docLink = document.createElement('div');\n",
              "        docLink.innerHTML = docLinkHtml;\n",
              "        element.appendChild(docLink);\n",
              "      }\n",
              "    </script>\n",
              "  </div>\n",
              "\n",
              "\n",
              "<div id=\"df-86a9cdb1-adaa-44a9-ab25-78346d788f82\">\n",
              "  <button class=\"colab-df-quickchart\" onclick=\"quickchart('df-86a9cdb1-adaa-44a9-ab25-78346d788f82')\"\n",
              "            title=\"Suggest charts\"\n",
              "            style=\"display:none;\">\n",
              "\n",
              "<svg xmlns=\"http://www.w3.org/2000/svg\" height=\"24px\"viewBox=\"0 0 24 24\"\n",
              "     width=\"24px\">\n",
              "    <g>\n",
              "        <path d=\"M19 3H5c-1.1 0-2 .9-2 2v14c0 1.1.9 2 2 2h14c1.1 0 2-.9 2-2V5c0-1.1-.9-2-2-2zM9 17H7v-7h2v7zm4 0h-2V7h2v10zm4 0h-2v-4h2v4z\"/>\n",
              "    </g>\n",
              "</svg>\n",
              "  </button>\n",
              "\n",
              "<style>\n",
              "  .colab-df-quickchart {\n",
              "      --bg-color: #E8F0FE;\n",
              "      --fill-color: #1967D2;\n",
              "      --hover-bg-color: #E2EBFA;\n",
              "      --hover-fill-color: #174EA6;\n",
              "      --disabled-fill-color: #AAA;\n",
              "      --disabled-bg-color: #DDD;\n",
              "  }\n",
              "\n",
              "  [theme=dark] .colab-df-quickchart {\n",
              "      --bg-color: #3B4455;\n",
              "      --fill-color: #D2E3FC;\n",
              "      --hover-bg-color: #434B5C;\n",
              "      --hover-fill-color: #FFFFFF;\n",
              "      --disabled-bg-color: #3B4455;\n",
              "      --disabled-fill-color: #666;\n",
              "  }\n",
              "\n",
              "  .colab-df-quickchart {\n",
              "    background-color: var(--bg-color);\n",
              "    border: none;\n",
              "    border-radius: 50%;\n",
              "    cursor: pointer;\n",
              "    display: none;\n",
              "    fill: var(--fill-color);\n",
              "    height: 32px;\n",
              "    padding: 0;\n",
              "    width: 32px;\n",
              "  }\n",
              "\n",
              "  .colab-df-quickchart:hover {\n",
              "    background-color: var(--hover-bg-color);\n",
              "    box-shadow: 0 1px 2px rgba(60, 64, 67, 0.3), 0 1px 3px 1px rgba(60, 64, 67, 0.15);\n",
              "    fill: var(--button-hover-fill-color);\n",
              "  }\n",
              "\n",
              "  .colab-df-quickchart-complete:disabled,\n",
              "  .colab-df-quickchart-complete:disabled:hover {\n",
              "    background-color: var(--disabled-bg-color);\n",
              "    fill: var(--disabled-fill-color);\n",
              "    box-shadow: none;\n",
              "  }\n",
              "\n",
              "  .colab-df-spinner {\n",
              "    border: 2px solid var(--fill-color);\n",
              "    border-color: transparent;\n",
              "    border-bottom-color: var(--fill-color);\n",
              "    animation:\n",
              "      spin 1s steps(1) infinite;\n",
              "  }\n",
              "\n",
              "  @keyframes spin {\n",
              "    0% {\n",
              "      border-color: transparent;\n",
              "      border-bottom-color: var(--fill-color);\n",
              "      border-left-color: var(--fill-color);\n",
              "    }\n",
              "    20% {\n",
              "      border-color: transparent;\n",
              "      border-left-color: var(--fill-color);\n",
              "      border-top-color: var(--fill-color);\n",
              "    }\n",
              "    30% {\n",
              "      border-color: transparent;\n",
              "      border-left-color: var(--fill-color);\n",
              "      border-top-color: var(--fill-color);\n",
              "      border-right-color: var(--fill-color);\n",
              "    }\n",
              "    40% {\n",
              "      border-color: transparent;\n",
              "      border-right-color: var(--fill-color);\n",
              "      border-top-color: var(--fill-color);\n",
              "    }\n",
              "    60% {\n",
              "      border-color: transparent;\n",
              "      border-right-color: var(--fill-color);\n",
              "    }\n",
              "    80% {\n",
              "      border-color: transparent;\n",
              "      border-right-color: var(--fill-color);\n",
              "      border-bottom-color: var(--fill-color);\n",
              "    }\n",
              "    90% {\n",
              "      border-color: transparent;\n",
              "      border-bottom-color: var(--fill-color);\n",
              "    }\n",
              "  }\n",
              "</style>\n",
              "\n",
              "  <script>\n",
              "    async function quickchart(key) {\n",
              "      const quickchartButtonEl =\n",
              "        document.querySelector('#' + key + ' button');\n",
              "      quickchartButtonEl.disabled = true;  // To prevent multiple clicks.\n",
              "      quickchartButtonEl.classList.add('colab-df-spinner');\n",
              "      try {\n",
              "        const charts = await google.colab.kernel.invokeFunction(\n",
              "            'suggestCharts', [key], {});\n",
              "      } catch (error) {\n",
              "        console.error('Error during call to suggestCharts:', error);\n",
              "      }\n",
              "      quickchartButtonEl.classList.remove('colab-df-spinner');\n",
              "      quickchartButtonEl.classList.add('colab-df-quickchart-complete');\n",
              "    }\n",
              "    (() => {\n",
              "      let quickchartButtonEl =\n",
              "        document.querySelector('#df-86a9cdb1-adaa-44a9-ab25-78346d788f82 button');\n",
              "      quickchartButtonEl.style.display =\n",
              "        google.colab.kernel.accessAllowed ? 'block' : 'none';\n",
              "    })();\n",
              "  </script>\n",
              "</div>\n",
              "    </div>\n",
              "  </div>\n"
            ]
          },
          "metadata": {},
          "execution_count": 64
        }
      ]
    },
    {
      "cell_type": "code",
      "source": [
        "twitch_df.dtypes"
      ],
      "metadata": {
        "id": "gWh97nuz_b5n",
        "colab": {
          "base_uri": "https://localhost:8080/"
        },
        "outputId": "ecca5590-1659-4a5a-93ba-ed44bd26a64f"
      },
      "execution_count": null,
      "outputs": [
        {
          "output_type": "execute_result",
          "data": {
            "text/plain": [
              "rank                  int64\n",
              "game                 object\n",
              "month                object\n",
              "year                 object\n",
              "hours_watched         int64\n",
              "hours_streamed        int64\n",
              "peak_viewers          int64\n",
              "peak_channels         int64\n",
              "streamers             int64\n",
              "avg_viewers           int64\n",
              "avg_channels          int64\n",
              "avg_viewer_ratio    float64\n",
              "dtype: object"
            ]
          },
          "metadata": {},
          "execution_count": 49
        }
      ]
    },
    {
      "cell_type": "code",
      "source": [
        "# checking how many rows of data each game has\n",
        "\n",
        "game_count = twitch_df.groupby('game')['game'].count()\n",
        "game_count = game_count.sort_values(ascending=False)\n",
        "\n",
        "game_count_df = pd.DataFrame({'count': game_count})\n",
        "game_count_df.reset_index(inplace=True)\n",
        "\n",
        "game_count_df # 2150 x 2"
      ],
      "metadata": {
        "id": "UkInUUI1Hprf",
        "colab": {
          "base_uri": "https://localhost:8080/",
          "height": 424
        },
        "outputId": "ae3101dc-ef95-4748-9976-dc450549c27d"
      },
      "execution_count": null,
      "outputs": [
        {
          "output_type": "execute_result",
          "data": {
            "text/plain": [
              "                            game  count\n",
              "0             Dungeons & Dragons     94\n",
              "1                          Retro     94\n",
              "2           Magic: The Gathering     93\n",
              "3                   Warcraft III     93\n",
              "4                 Super Mario 64     93\n",
              "...                          ...    ...\n",
              "2145                 Left 4 Dead      1\n",
              "2146                   Last Tide      1\n",
              "2147                 LEGO Worlds      1\n",
              "2148  LEGO The Lord of the Rings      1\n",
              "2149             Mega Man Zero 2      1\n",
              "\n",
              "[2150 rows x 2 columns]"
            ],
            "text/html": [
              "\n",
              "  <div id=\"df-d59d91b3-24b2-461d-bd53-c1065c644da4\" class=\"colab-df-container\">\n",
              "    <div>\n",
              "<style scoped>\n",
              "    .dataframe tbody tr th:only-of-type {\n",
              "        vertical-align: middle;\n",
              "    }\n",
              "\n",
              "    .dataframe tbody tr th {\n",
              "        vertical-align: top;\n",
              "    }\n",
              "\n",
              "    .dataframe thead th {\n",
              "        text-align: right;\n",
              "    }\n",
              "</style>\n",
              "<table border=\"1\" class=\"dataframe\">\n",
              "  <thead>\n",
              "    <tr style=\"text-align: right;\">\n",
              "      <th></th>\n",
              "      <th>game</th>\n",
              "      <th>count</th>\n",
              "    </tr>\n",
              "  </thead>\n",
              "  <tbody>\n",
              "    <tr>\n",
              "      <th>0</th>\n",
              "      <td>Dungeons &amp; Dragons</td>\n",
              "      <td>94</td>\n",
              "    </tr>\n",
              "    <tr>\n",
              "      <th>1</th>\n",
              "      <td>Retro</td>\n",
              "      <td>94</td>\n",
              "    </tr>\n",
              "    <tr>\n",
              "      <th>2</th>\n",
              "      <td>Magic: The Gathering</td>\n",
              "      <td>93</td>\n",
              "    </tr>\n",
              "    <tr>\n",
              "      <th>3</th>\n",
              "      <td>Warcraft III</td>\n",
              "      <td>93</td>\n",
              "    </tr>\n",
              "    <tr>\n",
              "      <th>4</th>\n",
              "      <td>Super Mario 64</td>\n",
              "      <td>93</td>\n",
              "    </tr>\n",
              "    <tr>\n",
              "      <th>...</th>\n",
              "      <td>...</td>\n",
              "      <td>...</td>\n",
              "    </tr>\n",
              "    <tr>\n",
              "      <th>2145</th>\n",
              "      <td>Left 4 Dead</td>\n",
              "      <td>1</td>\n",
              "    </tr>\n",
              "    <tr>\n",
              "      <th>2146</th>\n",
              "      <td>Last Tide</td>\n",
              "      <td>1</td>\n",
              "    </tr>\n",
              "    <tr>\n",
              "      <th>2147</th>\n",
              "      <td>LEGO Worlds</td>\n",
              "      <td>1</td>\n",
              "    </tr>\n",
              "    <tr>\n",
              "      <th>2148</th>\n",
              "      <td>LEGO The Lord of the Rings</td>\n",
              "      <td>1</td>\n",
              "    </tr>\n",
              "    <tr>\n",
              "      <th>2149</th>\n",
              "      <td>Mega Man Zero 2</td>\n",
              "      <td>1</td>\n",
              "    </tr>\n",
              "  </tbody>\n",
              "</table>\n",
              "<p>2150 rows × 2 columns</p>\n",
              "</div>\n",
              "    <div class=\"colab-df-buttons\">\n",
              "\n",
              "  <div class=\"colab-df-container\">\n",
              "    <button class=\"colab-df-convert\" onclick=\"convertToInteractive('df-d59d91b3-24b2-461d-bd53-c1065c644da4')\"\n",
              "            title=\"Convert this dataframe to an interactive table.\"\n",
              "            style=\"display:none;\">\n",
              "\n",
              "  <svg xmlns=\"http://www.w3.org/2000/svg\" height=\"24px\" viewBox=\"0 -960 960 960\">\n",
              "    <path d=\"M120-120v-720h720v720H120Zm60-500h600v-160H180v160Zm220 220h160v-160H400v160Zm0 220h160v-160H400v160ZM180-400h160v-160H180v160Zm440 0h160v-160H620v160ZM180-180h160v-160H180v160Zm440 0h160v-160H620v160Z\"/>\n",
              "  </svg>\n",
              "    </button>\n",
              "\n",
              "  <style>\n",
              "    .colab-df-container {\n",
              "      display:flex;\n",
              "      gap: 12px;\n",
              "    }\n",
              "\n",
              "    .colab-df-convert {\n",
              "      background-color: #E8F0FE;\n",
              "      border: none;\n",
              "      border-radius: 50%;\n",
              "      cursor: pointer;\n",
              "      display: none;\n",
              "      fill: #1967D2;\n",
              "      height: 32px;\n",
              "      padding: 0 0 0 0;\n",
              "      width: 32px;\n",
              "    }\n",
              "\n",
              "    .colab-df-convert:hover {\n",
              "      background-color: #E2EBFA;\n",
              "      box-shadow: 0px 1px 2px rgba(60, 64, 67, 0.3), 0px 1px 3px 1px rgba(60, 64, 67, 0.15);\n",
              "      fill: #174EA6;\n",
              "    }\n",
              "\n",
              "    .colab-df-buttons div {\n",
              "      margin-bottom: 4px;\n",
              "    }\n",
              "\n",
              "    [theme=dark] .colab-df-convert {\n",
              "      background-color: #3B4455;\n",
              "      fill: #D2E3FC;\n",
              "    }\n",
              "\n",
              "    [theme=dark] .colab-df-convert:hover {\n",
              "      background-color: #434B5C;\n",
              "      box-shadow: 0px 1px 3px 1px rgba(0, 0, 0, 0.15);\n",
              "      filter: drop-shadow(0px 1px 2px rgba(0, 0, 0, 0.3));\n",
              "      fill: #FFFFFF;\n",
              "    }\n",
              "  </style>\n",
              "\n",
              "    <script>\n",
              "      const buttonEl =\n",
              "        document.querySelector('#df-d59d91b3-24b2-461d-bd53-c1065c644da4 button.colab-df-convert');\n",
              "      buttonEl.style.display =\n",
              "        google.colab.kernel.accessAllowed ? 'block' : 'none';\n",
              "\n",
              "      async function convertToInteractive(key) {\n",
              "        const element = document.querySelector('#df-d59d91b3-24b2-461d-bd53-c1065c644da4');\n",
              "        const dataTable =\n",
              "          await google.colab.kernel.invokeFunction('convertToInteractive',\n",
              "                                                    [key], {});\n",
              "        if (!dataTable) return;\n",
              "\n",
              "        const docLinkHtml = 'Like what you see? Visit the ' +\n",
              "          '<a target=\"_blank\" href=https://colab.research.google.com/notebooks/data_table.ipynb>data table notebook</a>'\n",
              "          + ' to learn more about interactive tables.';\n",
              "        element.innerHTML = '';\n",
              "        dataTable['output_type'] = 'display_data';\n",
              "        await google.colab.output.renderOutput(dataTable, element);\n",
              "        const docLink = document.createElement('div');\n",
              "        docLink.innerHTML = docLinkHtml;\n",
              "        element.appendChild(docLink);\n",
              "      }\n",
              "    </script>\n",
              "  </div>\n",
              "\n",
              "\n",
              "<div id=\"df-a7a1b39c-3a58-45ac-b2c6-972e7df52022\">\n",
              "  <button class=\"colab-df-quickchart\" onclick=\"quickchart('df-a7a1b39c-3a58-45ac-b2c6-972e7df52022')\"\n",
              "            title=\"Suggest charts\"\n",
              "            style=\"display:none;\">\n",
              "\n",
              "<svg xmlns=\"http://www.w3.org/2000/svg\" height=\"24px\"viewBox=\"0 0 24 24\"\n",
              "     width=\"24px\">\n",
              "    <g>\n",
              "        <path d=\"M19 3H5c-1.1 0-2 .9-2 2v14c0 1.1.9 2 2 2h14c1.1 0 2-.9 2-2V5c0-1.1-.9-2-2-2zM9 17H7v-7h2v7zm4 0h-2V7h2v10zm4 0h-2v-4h2v4z\"/>\n",
              "    </g>\n",
              "</svg>\n",
              "  </button>\n",
              "\n",
              "<style>\n",
              "  .colab-df-quickchart {\n",
              "      --bg-color: #E8F0FE;\n",
              "      --fill-color: #1967D2;\n",
              "      --hover-bg-color: #E2EBFA;\n",
              "      --hover-fill-color: #174EA6;\n",
              "      --disabled-fill-color: #AAA;\n",
              "      --disabled-bg-color: #DDD;\n",
              "  }\n",
              "\n",
              "  [theme=dark] .colab-df-quickchart {\n",
              "      --bg-color: #3B4455;\n",
              "      --fill-color: #D2E3FC;\n",
              "      --hover-bg-color: #434B5C;\n",
              "      --hover-fill-color: #FFFFFF;\n",
              "      --disabled-bg-color: #3B4455;\n",
              "      --disabled-fill-color: #666;\n",
              "  }\n",
              "\n",
              "  .colab-df-quickchart {\n",
              "    background-color: var(--bg-color);\n",
              "    border: none;\n",
              "    border-radius: 50%;\n",
              "    cursor: pointer;\n",
              "    display: none;\n",
              "    fill: var(--fill-color);\n",
              "    height: 32px;\n",
              "    padding: 0;\n",
              "    width: 32px;\n",
              "  }\n",
              "\n",
              "  .colab-df-quickchart:hover {\n",
              "    background-color: var(--hover-bg-color);\n",
              "    box-shadow: 0 1px 2px rgba(60, 64, 67, 0.3), 0 1px 3px 1px rgba(60, 64, 67, 0.15);\n",
              "    fill: var(--button-hover-fill-color);\n",
              "  }\n",
              "\n",
              "  .colab-df-quickchart-complete:disabled,\n",
              "  .colab-df-quickchart-complete:disabled:hover {\n",
              "    background-color: var(--disabled-bg-color);\n",
              "    fill: var(--disabled-fill-color);\n",
              "    box-shadow: none;\n",
              "  }\n",
              "\n",
              "  .colab-df-spinner {\n",
              "    border: 2px solid var(--fill-color);\n",
              "    border-color: transparent;\n",
              "    border-bottom-color: var(--fill-color);\n",
              "    animation:\n",
              "      spin 1s steps(1) infinite;\n",
              "  }\n",
              "\n",
              "  @keyframes spin {\n",
              "    0% {\n",
              "      border-color: transparent;\n",
              "      border-bottom-color: var(--fill-color);\n",
              "      border-left-color: var(--fill-color);\n",
              "    }\n",
              "    20% {\n",
              "      border-color: transparent;\n",
              "      border-left-color: var(--fill-color);\n",
              "      border-top-color: var(--fill-color);\n",
              "    }\n",
              "    30% {\n",
              "      border-color: transparent;\n",
              "      border-left-color: var(--fill-color);\n",
              "      border-top-color: var(--fill-color);\n",
              "      border-right-color: var(--fill-color);\n",
              "    }\n",
              "    40% {\n",
              "      border-color: transparent;\n",
              "      border-right-color: var(--fill-color);\n",
              "      border-top-color: var(--fill-color);\n",
              "    }\n",
              "    60% {\n",
              "      border-color: transparent;\n",
              "      border-right-color: var(--fill-color);\n",
              "    }\n",
              "    80% {\n",
              "      border-color: transparent;\n",
              "      border-right-color: var(--fill-color);\n",
              "      border-bottom-color: var(--fill-color);\n",
              "    }\n",
              "    90% {\n",
              "      border-color: transparent;\n",
              "      border-bottom-color: var(--fill-color);\n",
              "    }\n",
              "  }\n",
              "</style>\n",
              "\n",
              "  <script>\n",
              "    async function quickchart(key) {\n",
              "      const quickchartButtonEl =\n",
              "        document.querySelector('#' + key + ' button');\n",
              "      quickchartButtonEl.disabled = true;  // To prevent multiple clicks.\n",
              "      quickchartButtonEl.classList.add('colab-df-spinner');\n",
              "      try {\n",
              "        const charts = await google.colab.kernel.invokeFunction(\n",
              "            'suggestCharts', [key], {});\n",
              "      } catch (error) {\n",
              "        console.error('Error during call to suggestCharts:', error);\n",
              "      }\n",
              "      quickchartButtonEl.classList.remove('colab-df-spinner');\n",
              "      quickchartButtonEl.classList.add('colab-df-quickchart-complete');\n",
              "    }\n",
              "    (() => {\n",
              "      let quickchartButtonEl =\n",
              "        document.querySelector('#df-a7a1b39c-3a58-45ac-b2c6-972e7df52022 button');\n",
              "      quickchartButtonEl.style.display =\n",
              "        google.colab.kernel.accessAllowed ? 'block' : 'none';\n",
              "    })();\n",
              "  </script>\n",
              "</div>\n",
              "    </div>\n",
              "  </div>\n"
            ]
          },
          "metadata": {},
          "execution_count": 53
        }
      ]
    },
    {
      "cell_type": "markdown",
      "source": [
        "## Steam Games Data\n",
        "\n",
        "Using Twitch dataset to get Steam game data"
      ],
      "metadata": {
        "id": "LoTmTCw5RvuJ"
      }
    },
    {
      "cell_type": "markdown",
      "source": [
        "##### Filtering out games from Twitch dataset that are not available on Steam"
      ],
      "metadata": {
        "id": "Y_CutHuCSLRA"
      }
    },
    {
      "cell_type": "code",
      "source": [
        "# defining functions\n",
        "\n",
        "def get_steam_game_list(): # gets all available apps on steam (includes dlcs, skin packs, etc)\n",
        "    url = \"https://api.steampowered.com/ISteamApps/GetAppList/v2\"\n",
        "    params = {\n",
        "    }\n",
        "\n",
        "    try:\n",
        "        response = requests.get(url, params=params, timeout=15)\n",
        "        all_steam_games = response.json()['applist']['apps']\n",
        "        all_steam_games = [remove_registered_symbol(game.copy()) for game in all_steam_games]\n",
        "        return all_steam_games\n",
        "    except:\n",
        "        print(\"Error fetching the Steam game list.\")\n",
        "        return []\n",
        "\n",
        "def remove_registered_symbol(game): # removes unnecessary symbols\n",
        "    game['name'] = re.sub(r'®', '', game['name'])\n",
        "    return game\n",
        "\n",
        "def check_games_on_steam(twitch_games, steam_games): # compares games in the twitch dataset and the steam website\n",
        "    steam_game_names = {game['name']: game['appid'] for game in steam_games}\n",
        "    available_on_steam = {}\n",
        "\n",
        "    to_omit = ['Retro', 'Dofus', 'Just Chatting', 'Live'] # these categories are not game-related but are names of games on steam\n",
        "\n",
        "    for game in twitch_games:\n",
        "        if game in steam_game_names and game not in to_omit:\n",
        "            appid = steam_game_names[game]\n",
        "            available_on_steam[str(appid)] = game\n",
        "\n",
        "    return available_on_steam"
      ],
      "metadata": {
        "id": "xX-_3bTAGBZz"
      },
      "execution_count": null,
      "outputs": []
    },
    {
      "cell_type": "code",
      "source": [
        "# getting list of games in the twitch dataset\n",
        "\n",
        "twitch_games = twitch_df['game'].drop_duplicates().tolist()\n",
        "print(len(twitch_games)) # 2150"
      ],
      "metadata": {
        "colab": {
          "base_uri": "https://localhost:8080/"
        },
        "id": "OLFQbjcMSatC",
        "outputId": "03ababf8-3069-4233-d4ff-4d96bdb777f5"
      },
      "execution_count": null,
      "outputs": [
        {
          "output_type": "stream",
          "name": "stdout",
          "text": [
            "2150\n"
          ]
        }
      ]
    },
    {
      "cell_type": "code",
      "source": [
        "#  getting list of all games on steam\n",
        "\n",
        "all_steam_games = get_steam_game_list()\n",
        "print(len(all_steam_games))"
      ],
      "metadata": {
        "colab": {
          "base_uri": "https://localhost:8080/"
        },
        "id": "0xohAHfBH5Yf",
        "outputId": "dd25a7e9-3f61-4e8d-c327-4912e5a02f25"
      },
      "execution_count": null,
      "outputs": [
        {
          "output_type": "stream",
          "name": "stdout",
          "text": [
            "181671\n"
          ]
        }
      ]
    },
    {
      "cell_type": "code",
      "source": [
        "# finding common games in twitch_games and all_steam_games\n",
        "\n",
        "game_list = check_games_on_steam(twitch_games, all_steam_games)\n",
        "print(len(game_list)) # 1120 is what i got when i ran it but sometimes it returns different numbers depending on the API"
      ],
      "metadata": {
        "colab": {
          "base_uri": "https://localhost:8080/"
        },
        "id": "9g8FMHpqH-pL",
        "outputId": "8c639512-78fb-4f12-fbd6-f73cf788c7b8"
      },
      "execution_count": null,
      "outputs": [
        {
          "output_type": "stream",
          "name": "stdout",
          "text": [
            "1120\n"
          ]
        }
      ]
    },
    {
      "cell_type": "markdown",
      "source": [
        "##### Scraping Steam game information from game_list"
      ],
      "metadata": {
        "id": "Tfu3slkeT6Bg"
      }
    },
    {
      "cell_type": "code",
      "source": [
        "### optional: uncomment and load dataset instead of scraping, then you can skip the scraping part\n",
        "# game_data_df = pd.read_csv(\"datasets/game_data.csv\", encoding='utf-8-sig', index_col=0)"
      ],
      "metadata": {
        "id": "KLjOID3a8Iz4"
      },
      "execution_count": null,
      "outputs": []
    },
    {
      "cell_type": "code",
      "source": [
        "# defining functions\n",
        "\n",
        "def get_game_data(appid, game) : # returns game data for an appid\n",
        "    url = \"https://store.steampowered.com/api/appdetails\"\n",
        "    params = {\n",
        "        'appids' : appid,\n",
        "        'cc' : 'US',\n",
        "        'l' : 'en'\n",
        "    }\n",
        "\n",
        "    try :\n",
        "        response = requests.get(url, params=params, timeout=15)\n",
        "        response.raise_for_status()\n",
        "\n",
        "        result = response.json()\n",
        "        if appid not in result or \"data\" not in result[appid] :\n",
        "            print(\"Data not found for game: \", game)\n",
        "            return None\n",
        "\n",
        "        data = result[appid]['data']\n",
        "\n",
        "        input_format = \"%b %d, %Y\"\n",
        "        output_format = \"%Y-%m-%d\"\n",
        "        date_string = data['release_date']['date']\n",
        "        date_input = datetime.strptime(date_string, input_format)\n",
        "        release_date = date_input.strftime(output_format)\n",
        "\n",
        "        description = BeautifulSoup(data['detailed_description'], 'html.parser')\n",
        "        description = description.get_text()\n",
        "\n",
        "        if data['is_free'] :\n",
        "            price = 0\n",
        "        else :\n",
        "            price = data['price_overview']['final'] / 100 # changing units from cents to dollars\n",
        "\n",
        "        platforms_list = [ key.capitalize() for key, value in data['platforms'].items() if value ]\n",
        "        platforms = \", \".join(platforms_list)\n",
        "\n",
        "        genres_list = [ genre[\"description\"] for genre in data['genres'] ]\n",
        "        genres = \", \".join(genres_list)\n",
        "\n",
        "        developers = \", \".join(data['developers'])\n",
        "        publishers =  \", \".join(data['publishers'])\n",
        "\n",
        "        if 'metacritic' in data and 'score' in data['metacritic']:\n",
        "            score = data['metacritic']['score']\n",
        "        else:\n",
        "            score = None\n",
        "\n",
        "        game_data = {\n",
        "            'appid' : data['steam_appid'],\n",
        "            'game' : game,\n",
        "            'release_date' : release_date,\n",
        "            'required_age' : data['required_age'],\n",
        "            'is_free' : data['is_free'],\n",
        "            'price' : price,\n",
        "            'description' : description,\n",
        "            'developers' : developers,\n",
        "            'publishers' : publishers,\n",
        "            'platforms' : platforms,\n",
        "            'score' : score,\n",
        "            'genres' : genres\n",
        "        }\n",
        "\n",
        "        return game_data\n",
        "    except :\n",
        "        print(\"API request failed for game: \", game)\n",
        "        time.sleep(30)\n",
        "        return None"
      ],
      "metadata": {
        "id": "8GtFNUW6OA5u"
      },
      "execution_count": null,
      "outputs": []
    },
    {
      "cell_type": "code",
      "source": [
        "# testing\n",
        "\n",
        "get_game_data('322330', 'Don\\'t Starve Together')"
      ],
      "metadata": {
        "colab": {
          "base_uri": "https://localhost:8080/"
        },
        "id": "NQ2S8wV7XlKp",
        "outputId": "02200336-bca9-408f-ff06-d57c67359af5"
      },
      "execution_count": null,
      "outputs": [
        {
          "output_type": "execute_result",
          "data": {
            "text/plain": [
              "{'appid': 322330,\n",
              " 'game': \"Don't Starve Together\",\n",
              " 'release_date': '2016-04-21',\n",
              " 'required_age': 0,\n",
              " 'is_free': False,\n",
              " 'price': 5.09,\n",
              " 'description': 'Explore TogetherDiscover and explore a massive procedurally generated and biome-rich world with countless resources and threats. Whether you stick to the surface world, go spelunking in the caves, dive deeper into the Ancient Archive, or set sail for the Lunar islands, it will be a long time before you run out of things to do.Fight TogetherSeasonal bosses, wandering menaces, lurking shadow creatures, and plenty of flora and fauna ready to turn you into a spooky ghost.Farm TogetherPlow fields and sow seeds to grow the farm of your dreams. Tend to your crops to help your fellow survivors stay fed and ready for the challenges to come.Build TogetherProtect yourself, your friends, and everything you have managed to gather, because you can be sure, somebody or something is going to want it back.About the GameFight, Farm, Build and Explore Together in the standalone multiplayer expansion to the uncompromising wilderness survival game, Don\\'t Starve.Enter a strange and unexplored world full of odd creatures, hidden dangers, and ancient secrets. Gather resources to craft items and build structures that match your survival style. Play your way as you unravel the mysteries of \"The Constant\".Cooperate with your friends in a private game, or find new friends online. Work with other players to survive the harsh environment, or strike out on your own.Do whatever it takes, but most importantly, Don\\'t Starve.',\n",
              " 'developers': 'Klei Entertainment',\n",
              " 'publishers': 'Klei Entertainment',\n",
              " 'platforms': 'Windows, Mac, Linux',\n",
              " 'score': 83,\n",
              " 'genres': 'Action, Adventure, Indie, RPG, Simulation, Strategy'}"
            ]
          },
          "metadata": {},
          "execution_count": 18
        }
      ]
    },
    {
      "cell_type": "code",
      "source": [
        "# this takes around 1 hour\n",
        "\n",
        "game_data_list = []\n",
        "\n",
        "count = 0\n",
        "for appid, game in tqdm(game_list.items(), desc=\"Processing games\") : # iterating through all games in the game list and getting their data\n",
        "    game_data = get_game_data(appid, game)\n",
        "\n",
        "    if game_data is None :\n",
        "        continue\n",
        "    else :\n",
        "        game_data_list.append(game_data)\n",
        "\n",
        "        count += 1\n",
        "        if count % 50 == 0 :\n",
        "            print(f\"Scraped {count} games. Sleeping for 60 seconds...\")\n",
        "            time.sleep(60) # sleeping because if not the API blocks the requests\n",
        "\n",
        "game_data_df = pd.DataFrame(game_data_list)\n",
        "\n",
        "game_data_df # 1076"
      ],
      "metadata": {
        "colab": {
          "base_uri": "https://localhost:8080/",
          "height": 1000
        },
        "id": "CXBhn6VpUBMK",
        "outputId": "313f0d03-04b7-4d04-ddd7-fc2eb7cbfe71"
      },
      "execution_count": null,
      "outputs": [
        {
          "output_type": "stream",
          "name": "stderr",
          "text": [
            "Processing games:   0%|          | 1/1120 [00:00<05:33,  3.36it/s]"
          ]
        },
        {
          "output_type": "stream",
          "name": "stdout",
          "text": [
            "Data not found for game:  League of Legends\n"
          ]
        },
        {
          "output_type": "stream",
          "name": "stderr",
          "text": [
            "Processing games:   1%|          | 7/1120 [00:02<07:52,  2.36it/s]"
          ]
        },
        {
          "output_type": "stream",
          "name": "stdout",
          "text": [
            "API request failed for game:  Grand Theft Auto V\n"
          ]
        },
        {
          "output_type": "stream",
          "name": "stderr",
          "text": [
            "Processing games:   1%|          | 12/1120 [01:04<1:27:59,  4.77s/it]"
          ]
        },
        {
          "output_type": "stream",
          "name": "stdout",
          "text": [
            "API request failed for game:  NBA 2K16\n"
          ]
        },
        {
          "output_type": "stream",
          "name": "stderr",
          "text": [
            "Processing games:   1%|▏         | 15/1120 [02:05<3:17:15, 10.71s/it]"
          ]
        },
        {
          "output_type": "stream",
          "name": "stdout",
          "text": [
            "API request failed for game:  Rocket League\n"
          ]
        },
        {
          "output_type": "stream",
          "name": "stderr",
          "text": [
            "Processing games:   2%|▏         | 18/1120 [03:06<3:53:49, 12.73s/it]"
          ]
        },
        {
          "output_type": "stream",
          "name": "stdout",
          "text": [
            "API request failed for game:  The Binding of Isaac: Repentance\n"
          ]
        },
        {
          "output_type": "stream",
          "name": "stderr",
          "text": [
            "Processing games:   5%|▍         | 52/1120 [04:19<06:18,  2.82it/s]"
          ]
        },
        {
          "output_type": "stream",
          "name": "stdout",
          "text": [
            "API request failed for game:  Rayman Legends\n"
          ]
        },
        {
          "output_type": "stream",
          "name": "stderr",
          "text": [
            "Processing games:   5%|▍         | 55/1120 [05:21<2:43:16,  9.20s/it]"
          ]
        },
        {
          "output_type": "stream",
          "name": "stdout",
          "text": [
            "Scraped 50 games. Sleeping for 60 seconds...\n"
          ]
        },
        {
          "output_type": "stream",
          "name": "stderr",
          "text": [
            "Processing games:   5%|▌         | 59/1120 [06:22<2:33:22,  8.67s/it]"
          ]
        },
        {
          "output_type": "stream",
          "name": "stdout",
          "text": [
            "API request failed for game:  Ori and the Blind Forest\n"
          ]
        },
        {
          "output_type": "stream",
          "name": "stderr",
          "text": [
            "Processing games:   6%|▌         | 64/1120 [07:24<1:46:47,  6.07s/it]"
          ]
        },
        {
          "output_type": "stream",
          "name": "stdout",
          "text": [
            "API request failed for game:  Darksiders II\n"
          ]
        },
        {
          "output_type": "stream",
          "name": "stderr",
          "text": [
            "Processing games:   8%|▊         | 84/1120 [08:32<08:03,  2.14it/s]"
          ]
        },
        {
          "output_type": "stream",
          "name": "stdout",
          "text": [
            "API request failed for game:  The Culling\n"
          ]
        },
        {
          "output_type": "stream",
          "name": "stderr",
          "text": [
            "Processing games:   9%|▉         | 100/1120 [09:38<07:20,  2.32it/s]"
          ]
        },
        {
          "output_type": "stream",
          "name": "stdout",
          "text": [
            "API request failed for game:  WWE 2K16\n"
          ]
        },
        {
          "output_type": "stream",
          "name": "stderr",
          "text": [
            "Processing games:   9%|▉         | 104/1120 [10:39<1:51:44,  6.60s/it]"
          ]
        },
        {
          "output_type": "stream",
          "name": "stdout",
          "text": [
            "API request failed for game:  Far Cry 4\n"
          ]
        },
        {
          "output_type": "stream",
          "name": "stderr",
          "text": [
            "Processing games:  10%|▉         | 110/1120 [11:42<1:09:17,  4.12s/it]"
          ]
        },
        {
          "output_type": "stream",
          "name": "stdout",
          "text": [
            "Scraped 100 games. Sleeping for 60 seconds...\n"
          ]
        },
        {
          "output_type": "stream",
          "name": "stderr",
          "text": [
            "Processing games:  10%|█         | 112/1120 [12:42<4:09:06, 14.83s/it]"
          ]
        },
        {
          "output_type": "stream",
          "name": "stdout",
          "text": [
            "API request failed for game:  Atlas Reactor\n"
          ]
        },
        {
          "output_type": "stream",
          "name": "stderr",
          "text": [
            "Processing games:  11%|█         | 122/1120 [13:47<25:34,  1.54s/it]"
          ]
        },
        {
          "output_type": "stream",
          "name": "stdout",
          "text": [
            "Data not found for game:  TERA\n"
          ]
        },
        {
          "output_type": "stream",
          "name": "stderr",
          "text": [
            "Processing games:  13%|█▎        | 148/1120 [13:56<05:51,  2.76it/s]"
          ]
        },
        {
          "output_type": "stream",
          "name": "stdout",
          "text": [
            "API request failed for game:  ARK: Survival Of The Fittest\n"
          ]
        },
        {
          "output_type": "stream",
          "name": "stderr",
          "text": [
            "Processing games:  14%|█▎        | 153/1120 [14:58<1:15:41,  4.70s/it]"
          ]
        },
        {
          "output_type": "stream",
          "name": "stdout",
          "text": [
            "API request failed for game:  Orcs Must Die! Unchained\n"
          ]
        },
        {
          "output_type": "stream",
          "name": "stderr",
          "text": [
            "Processing games:  14%|█▍        | 160/1120 [16:00<45:01,  2.81s/it]  "
          ]
        },
        {
          "output_type": "stream",
          "name": "stdout",
          "text": [
            "Data not found for game:  Call of Duty: Modern Warfare 2\n"
          ]
        },
        {
          "output_type": "stream",
          "name": "stderr",
          "text": [
            "Processing games:  15%|█▍        | 163/1120 [16:01<18:54,  1.19s/it]"
          ]
        },
        {
          "output_type": "stream",
          "name": "stdout",
          "text": [
            "Data not found for game:  Call of Duty: Black Ops\n"
          ]
        },
        {
          "output_type": "stream",
          "name": "stderr",
          "text": [
            "Processing games:  15%|█▍        | 166/1120 [16:03<10:18,  1.54it/s]"
          ]
        },
        {
          "output_type": "stream",
          "name": "stdout",
          "text": [
            "Scraped 150 games. Sleeping for 60 seconds...\n"
          ]
        },
        {
          "output_type": "stream",
          "name": "stderr",
          "text": [
            "Processing games:  15%|█▌        | 169/1120 [17:04<2:27:23,  9.30s/it]"
          ]
        },
        {
          "output_type": "stream",
          "name": "stdout",
          "text": [
            "Data not found for game:  Call of Duty 4: Modern Warfare\n"
          ]
        },
        {
          "output_type": "stream",
          "name": "stderr",
          "text": [
            "Processing games:  15%|█▌        | 171/1120 [17:04<1:14:56,  4.74s/it]"
          ]
        },
        {
          "output_type": "stream",
          "name": "stdout",
          "text": [
            "Data not found for game:  NBA 2K15\n"
          ]
        },
        {
          "output_type": "stream",
          "name": "stderr",
          "text": [
            "Processing games:  15%|█▌        | 173/1120 [17:05<39:34,  2.51s/it]"
          ]
        },
        {
          "output_type": "stream",
          "name": "stdout",
          "text": [
            "Data not found for game:  Pro Evolution Soccer 2016\n"
          ]
        },
        {
          "output_type": "stream",
          "name": "stderr",
          "text": [
            "Processing games:  16%|█▌        | 176/1120 [17:06<17:06,  1.09s/it]"
          ]
        },
        {
          "output_type": "stream",
          "name": "stdout",
          "text": [
            "Data not found for game:  Call of Duty: Modern Warfare 3\n"
          ]
        },
        {
          "output_type": "stream",
          "name": "stderr",
          "text": [
            "Processing games:  16%|█▌        | 178/1120 [17:07<10:59,  1.43it/s]"
          ]
        },
        {
          "output_type": "stream",
          "name": "stdout",
          "text": [
            "Data not found for game:  Shattered Skies\n"
          ]
        },
        {
          "output_type": "stream",
          "name": "stderr",
          "text": [
            "Processing games:  17%|█▋        | 186/1120 [17:10<05:12,  2.99it/s]"
          ]
        },
        {
          "output_type": "stream",
          "name": "stdout",
          "text": [
            "Data not found for game:  Chronicle: RuneScape Legends\n"
          ]
        },
        {
          "output_type": "stream",
          "name": "stderr",
          "text": [
            "\rProcessing games:  17%|█▋        | 187/1120 [17:10<04:55,  3.15it/s]"
          ]
        },
        {
          "output_type": "stream",
          "name": "stdout",
          "text": [
            "Data not found for game:  LawBreakers\n"
          ]
        },
        {
          "output_type": "stream",
          "name": "stderr",
          "text": [
            "Processing games:  17%|█▋        | 195/1120 [17:13<05:43,  2.69it/s]"
          ]
        },
        {
          "output_type": "stream",
          "name": "stdout",
          "text": [
            "API request failed for game:  Necropolis\n"
          ]
        },
        {
          "output_type": "stream",
          "name": "stderr",
          "text": [
            "Processing games:  18%|█▊        | 202/1120 [18:16<38:20,  2.51s/it]"
          ]
        },
        {
          "output_type": "stream",
          "name": "stdout",
          "text": [
            "Data not found for game:  Mafia II\n"
          ]
        },
        {
          "output_type": "stream",
          "name": "stderr",
          "text": [
            "\rProcessing games:  18%|█▊        | 203/1120 [18:16<28:32,  1.87s/it]"
          ]
        },
        {
          "output_type": "stream",
          "name": "stdout",
          "text": [
            "Data not found for game:  BioShock\n"
          ]
        },
        {
          "output_type": "stream",
          "name": "stderr",
          "text": [
            "Processing games:  18%|█▊        | 206/1120 [18:17<13:38,  1.12it/s]"
          ]
        },
        {
          "output_type": "stream",
          "name": "stdout",
          "text": [
            "API request failed for game:  Mark of the Ninja\n"
          ]
        },
        {
          "output_type": "stream",
          "name": "stderr",
          "text": [
            "\rProcessing games:  18%|█▊        | 207/1120 [19:18<4:45:25, 18.76s/it]"
          ]
        },
        {
          "output_type": "stream",
          "name": "stdout",
          "text": [
            "API request failed for game:  Ghostbusters\n"
          ]
        },
        {
          "output_type": "stream",
          "name": "stderr",
          "text": [
            "Processing games:  20%|█▉        | 222/1120 [20:23<07:59,  1.87it/s]"
          ]
        },
        {
          "output_type": "stream",
          "name": "stdout",
          "text": [
            "Data not found for game:  Resident Evil 5\n"
          ]
        },
        {
          "output_type": "stream",
          "name": "stderr",
          "text": [
            "Processing games:  20%|██        | 229/1120 [20:26<06:16,  2.37it/s]"
          ]
        },
        {
          "output_type": "stream",
          "name": "stdout",
          "text": [
            "Scraped 200 games. Sleeping for 60 seconds...\n"
          ]
        },
        {
          "output_type": "stream",
          "name": "stderr",
          "text": [
            "Processing games:  21%|██        | 231/1120 [21:27<3:12:48, 13.01s/it]"
          ]
        },
        {
          "output_type": "stream",
          "name": "stdout",
          "text": [
            "Data not found for game:  Fallout: New Vegas\n"
          ]
        },
        {
          "output_type": "stream",
          "name": "stderr",
          "text": [
            "Processing games:  23%|██▎       | 255/1120 [21:35<04:54,  2.94it/s]"
          ]
        },
        {
          "output_type": "stream",
          "name": "stdout",
          "text": [
            "API request failed for game:  Revelation\n"
          ]
        },
        {
          "output_type": "stream",
          "name": "stderr",
          "text": [
            "Processing games:  23%|██▎       | 263/1120 [22:38<26:43,  1.87s/it]"
          ]
        },
        {
          "output_type": "stream",
          "name": "stdout",
          "text": [
            "Data not found for game:  Mass Effect 2\n"
          ]
        },
        {
          "output_type": "stream",
          "name": "stderr",
          "text": [
            "Processing games:  24%|██▎       | 265/1120 [22:39<16:25,  1.15s/it]"
          ]
        },
        {
          "output_type": "stream",
          "name": "stdout",
          "text": [
            "API request failed for game:  The Political Machine 2016\n"
          ]
        },
        {
          "output_type": "stream",
          "name": "stderr",
          "text": [
            "Processing games:  25%|██▌       | 283/1120 [23:46<05:33,  2.51it/s]"
          ]
        },
        {
          "output_type": "stream",
          "name": "stdout",
          "text": [
            "Scraped 250 games. Sleeping for 60 seconds...\n"
          ]
        },
        {
          "output_type": "stream",
          "name": "stderr",
          "text": [
            "Processing games:  26%|██▌       | 286/1120 [24:47<2:08:07,  9.22s/it]"
          ]
        },
        {
          "output_type": "stream",
          "name": "stdout",
          "text": [
            "API request failed for game:  Space Hulk: Deathwing\n"
          ]
        },
        {
          "output_type": "stream",
          "name": "stderr",
          "text": [
            "Processing games:  28%|██▊       | 309/1120 [25:55<04:41,  2.88it/s]"
          ]
        },
        {
          "output_type": "stream",
          "name": "stdout",
          "text": [
            "API request failed for game:  Brawl of Ages\n"
          ]
        },
        {
          "output_type": "stream",
          "name": "stderr",
          "text": [
            "Processing games:  30%|██▉       | 335/1120 [27:06<04:39,  2.81it/s]"
          ]
        },
        {
          "output_type": "stream",
          "name": "stdout",
          "text": [
            "Scraped 300 games. Sleeping for 60 seconds...\n"
          ]
        },
        {
          "output_type": "stream",
          "name": "stderr",
          "text": [
            "Processing games:  30%|███       | 338/1120 [28:07<1:59:38,  9.18s/it]"
          ]
        },
        {
          "output_type": "stream",
          "name": "stdout",
          "text": [
            "API request failed for game:  Worlds Adrift\n"
          ]
        },
        {
          "output_type": "stream",
          "name": "stderr",
          "text": [
            "Processing games:  31%|███       | 343/1120 [29:09<1:20:30,  6.22s/it]"
          ]
        },
        {
          "output_type": "stream",
          "name": "stdout",
          "text": [
            "API request failed for game:  NBA Playgrounds\n"
          ]
        },
        {
          "output_type": "stream",
          "name": "stderr",
          "text": [
            "Processing games:  31%|███▏      | 352/1120 [30:13<20:51,  1.63s/it]"
          ]
        },
        {
          "output_type": "stream",
          "name": "stdout",
          "text": [
            "API request failed for game:  SOS\n"
          ]
        },
        {
          "output_type": "stream",
          "name": "stderr",
          "text": [
            "Processing games:  32%|███▏      | 359/1120 [31:15<32:28,  2.56s/it]"
          ]
        },
        {
          "output_type": "stream",
          "name": "stdout",
          "text": [
            "Data not found for game:  Metro 2033\n"
          ]
        },
        {
          "output_type": "stream",
          "name": "stderr",
          "text": [
            "Processing games:  32%|███▏      | 362/1120 [31:16<14:33,  1.15s/it]"
          ]
        },
        {
          "output_type": "stream",
          "name": "stdout",
          "text": [
            "API request failed for game:  Gigantic\n"
          ]
        },
        {
          "output_type": "stream",
          "name": "stderr",
          "text": [
            "Processing games:  35%|███▍      | 390/1120 [32:27<04:17,  2.84it/s]"
          ]
        },
        {
          "output_type": "stream",
          "name": "stdout",
          "text": [
            "Scraped 350 games. Sleeping for 60 seconds...\n"
          ]
        },
        {
          "output_type": "stream",
          "name": "stderr",
          "text": [
            "Processing games:  37%|███▋      | 416/1120 [33:37<03:54,  3.00it/s]"
          ]
        },
        {
          "output_type": "stream",
          "name": "stdout",
          "text": [
            "Data not found for game:  Football Manager 2018\n"
          ]
        },
        {
          "output_type": "stream",
          "name": "stderr",
          "text": [
            "\rProcessing games:  37%|███▋      | 417/1120 [33:37<03:43,  3.14it/s]"
          ]
        },
        {
          "output_type": "stream",
          "name": "stdout",
          "text": [
            "Data not found for game:  Fallout 3\n"
          ]
        },
        {
          "output_type": "stream",
          "name": "stderr",
          "text": [
            "Processing games:  39%|███▉      | 435/1120 [33:43<04:35,  2.48it/s]"
          ]
        },
        {
          "output_type": "stream",
          "name": "stdout",
          "text": [
            "API request failed for game:  Grand Theft Auto IV\n"
          ]
        },
        {
          "output_type": "stream",
          "name": "stderr",
          "text": [
            "Processing games:  40%|███▉      | 443/1120 [34:46<20:38,  1.83s/it]"
          ]
        },
        {
          "output_type": "stream",
          "name": "stdout",
          "text": [
            "Scraped 400 games. Sleeping for 60 seconds...\n"
          ]
        },
        {
          "output_type": "stream",
          "name": "stderr",
          "text": [
            "Processing games:  42%|████▏     | 472/1120 [35:57<03:37,  2.97it/s]"
          ]
        },
        {
          "output_type": "stream",
          "name": "stdout",
          "text": [
            "API request failed for game:  Radical Heights\n"
          ]
        },
        {
          "output_type": "stream",
          "name": "stderr",
          "text": [
            "Processing games:  43%|████▎     | 485/1120 [37:02<06:20,  1.67it/s]"
          ]
        },
        {
          "output_type": "stream",
          "name": "stdout",
          "text": [
            "API request failed for game:  Bless Online\n"
          ]
        },
        {
          "output_type": "stream",
          "name": "stderr",
          "text": [
            "Processing games:  44%|████▍     | 496/1120 [38:07<09:26,  1.10it/s]"
          ]
        },
        {
          "output_type": "stream",
          "name": "stdout",
          "text": [
            "Data not found for game:  Deathgarden: BLOODHARVEST\n",
            "Scraped 450 games. Sleeping for 60 seconds...\n"
          ]
        },
        {
          "output_type": "stream",
          "name": "stderr",
          "text": [
            "Processing games:  48%|████▊     | 532/1120 [39:21<03:39,  2.68it/s]"
          ]
        },
        {
          "output_type": "stream",
          "name": "stdout",
          "text": [
            "API request failed for game:  Shadow of the Tomb Raider\n"
          ]
        },
        {
          "output_type": "stream",
          "name": "stderr",
          "text": [
            "Processing games:  48%|████▊     | 536/1120 [40:22<1:03:37,  6.54s/it]"
          ]
        },
        {
          "output_type": "stream",
          "name": "stdout",
          "text": [
            "API request failed for game:  The Bard's Tale IV\n"
          ]
        },
        {
          "output_type": "stream",
          "name": "stderr",
          "text": [
            "Processing games:  49%|████▉     | 548/1120 [41:27<07:58,  1.19it/s]"
          ]
        },
        {
          "output_type": "stream",
          "name": "stdout",
          "text": [
            "Scraped 500 games. Sleeping for 60 seconds...\n"
          ]
        },
        {
          "output_type": "stream",
          "name": "stderr",
          "text": [
            "Processing games:  50%|████▉     | 556/1120 [42:29<17:23,  1.85s/it]"
          ]
        },
        {
          "output_type": "stream",
          "name": "stdout",
          "text": [
            "Data not found for game:  OVERKILL's The Walking Dead\n"
          ]
        },
        {
          "output_type": "stream",
          "name": "stderr",
          "text": [
            "\rProcessing games:  50%|████▉     | 557/1120 [42:30<13:07,  1.40s/it]"
          ]
        },
        {
          "output_type": "stream",
          "name": "stdout",
          "text": [
            "API request failed for game:  Football Manager 2019\n"
          ]
        },
        {
          "output_type": "stream",
          "name": "stderr",
          "text": [
            "Processing games:  50%|█████     | 562/1120 [43:31<44:49,  4.82s/it]  "
          ]
        },
        {
          "output_type": "stream",
          "name": "stdout",
          "text": [
            "Data not found for game:  S.T.A.L.K.E.R.: Clear Sky\n"
          ]
        },
        {
          "output_type": "stream",
          "name": "stderr",
          "text": [
            "Processing games:  51%|█████     | 572/1120 [43:35<04:29,  2.03it/s]"
          ]
        },
        {
          "output_type": "stream",
          "name": "stdout",
          "text": [
            "API request failed for game:  Just Cause 4\n"
          ]
        },
        {
          "output_type": "stream",
          "name": "stderr",
          "text": [
            "Processing games:  52%|█████▎    | 588/1120 [44:42<04:18,  2.06it/s]"
          ]
        },
        {
          "output_type": "stream",
          "name": "stdout",
          "text": [
            "API request failed for game:  Anno 1800\n"
          ]
        },
        {
          "output_type": "stream",
          "name": "stderr",
          "text": [
            "Processing games:  54%|█████▍    | 603/1120 [45:47<04:21,  1.97it/s]"
          ]
        },
        {
          "output_type": "stream",
          "name": "stdout",
          "text": [
            "Scraped 550 games. Sleeping for 60 seconds...\n"
          ]
        },
        {
          "output_type": "stream",
          "name": "stderr",
          "text": [
            "Processing games:  55%|█████▍    | 611/1120 [46:50<15:30,  1.83s/it]"
          ]
        },
        {
          "output_type": "stream",
          "name": "stdout",
          "text": [
            "Data not found for game:  Borderlands\n"
          ]
        },
        {
          "output_type": "stream",
          "name": "stderr",
          "text": [
            "Processing games:  57%|█████▋    | 636/1120 [46:59<03:07,  2.58it/s]"
          ]
        },
        {
          "output_type": "stream",
          "name": "stdout",
          "text": [
            "API request failed for game:  SAMURAI SHODOWN\n"
          ]
        },
        {
          "output_type": "stream",
          "name": "stderr",
          "text": [
            "Processing games:  57%|█████▋    | 639/1120 [48:00<1:13:37,  9.18s/it]"
          ]
        },
        {
          "output_type": "stream",
          "name": "stdout",
          "text": [
            "Data not found for game:  Conqueror's Blade\n"
          ]
        },
        {
          "output_type": "stream",
          "name": "stderr",
          "text": [
            "Processing games:  57%|█████▋    | 643/1120 [48:02<19:35,  2.46s/it]"
          ]
        },
        {
          "output_type": "stream",
          "name": "stdout",
          "text": [
            "Data not found for game:  F1 2019\n"
          ]
        },
        {
          "output_type": "stream",
          "name": "stderr",
          "text": [
            "Processing games:  59%|█████▊    | 657/1120 [48:07<02:50,  2.71it/s]"
          ]
        },
        {
          "output_type": "stream",
          "name": "stdout",
          "text": [
            "Scraped 600 games. Sleeping for 60 seconds...\n"
          ]
        },
        {
          "output_type": "stream",
          "name": "stderr",
          "text": [
            "Processing games:  61%|██████    | 682/1120 [49:16<02:37,  2.78it/s]"
          ]
        },
        {
          "output_type": "stream",
          "name": "stdout",
          "text": [
            "API request failed for game:  Football Manager 2020\n"
          ]
        },
        {
          "output_type": "stream",
          "name": "stderr",
          "text": [
            "Processing games:  63%|██████▎   | 708/1120 [50:26<03:00,  2.28it/s]"
          ]
        },
        {
          "output_type": "stream",
          "name": "stdout",
          "text": [
            "Scraped 650 games. Sleeping for 60 seconds...\n"
          ]
        },
        {
          "output_type": "stream",
          "name": "stderr",
          "text": [
            "Processing games:  68%|██████▊   | 758/1120 [51:44<02:08,  2.82it/s]"
          ]
        },
        {
          "output_type": "stream",
          "name": "stdout",
          "text": [
            "Scraped 700 games. Sleeping for 60 seconds...\n"
          ]
        },
        {
          "output_type": "stream",
          "name": "stderr",
          "text": [
            "Processing games:  68%|██████▊   | 761/1120 [52:45<54:53,  9.17s/it]  "
          ]
        },
        {
          "output_type": "stream",
          "name": "stdout",
          "text": [
            "API request failed for game:  Madden NFL 21\n"
          ]
        },
        {
          "output_type": "stream",
          "name": "stderr",
          "text": [
            "Processing games:  71%|███████   | 797/1120 [53:59<01:55,  2.78it/s]"
          ]
        },
        {
          "output_type": "stream",
          "name": "stdout",
          "text": [
            "API request failed for game:  Football Manager 2021\n"
          ]
        },
        {
          "output_type": "stream",
          "name": "stderr",
          "text": [
            "Processing games:  72%|███████▏  | 807/1120 [55:02<05:39,  1.08s/it]"
          ]
        },
        {
          "output_type": "stream",
          "name": "stdout",
          "text": [
            "API request failed for game:  The Medium\n"
          ]
        },
        {
          "output_type": "stream",
          "name": "stderr",
          "text": [
            "Processing games:  72%|███████▏  | 811/1120 [56:04<34:29,  6.70s/it]"
          ]
        },
        {
          "output_type": "stream",
          "name": "stdout",
          "text": [
            "Scraped 750 games. Sleeping for 60 seconds...\n"
          ]
        },
        {
          "output_type": "stream",
          "name": "stderr",
          "text": [
            "Processing games:  73%|███████▎  | 822/1120 [57:08<04:55,  1.01it/s]"
          ]
        },
        {
          "output_type": "stream",
          "name": "stdout",
          "text": [
            "API request failed for game:  The Movies\n"
          ]
        },
        {
          "output_type": "stream",
          "name": "stderr",
          "text": [
            "Processing games:  76%|███████▌  | 849/1120 [58:17<01:31,  2.97it/s]"
          ]
        },
        {
          "output_type": "stream",
          "name": "stdout",
          "text": [
            "Data not found for game:  Aion\n"
          ]
        },
        {
          "output_type": "stream",
          "name": "stderr",
          "text": [
            "Processing games:  76%|███████▌  | 851/1120 [58:18<01:27,  3.09it/s]"
          ]
        },
        {
          "output_type": "stream",
          "name": "stdout",
          "text": [
            "Data not found for game:  Grand Chase\n"
          ]
        },
        {
          "output_type": "stream",
          "name": "stderr",
          "text": [
            "Processing games:  77%|███████▋  | 858/1120 [58:21<01:41,  2.57it/s]"
          ]
        },
        {
          "output_type": "stream",
          "name": "stdout",
          "text": [
            "API request failed for game:  Madden NFL 22\n"
          ]
        },
        {
          "output_type": "stream",
          "name": "stderr",
          "text": [
            "Processing games:  77%|███████▋  | 865/1120 [59:23<10:28,  2.47s/it]"
          ]
        },
        {
          "output_type": "stream",
          "name": "stdout",
          "text": [
            "Scraped 800 games. Sleeping for 60 seconds...\n"
          ]
        },
        {
          "output_type": "stream",
          "name": "stderr",
          "text": [
            "Processing games:  78%|███████▊  | 869/1120 [1:00:24<29:25,  7.03s/it]"
          ]
        },
        {
          "output_type": "stream",
          "name": "stdout",
          "text": [
            "API request failed for game:  Movie World\n"
          ]
        },
        {
          "output_type": "stream",
          "name": "stderr",
          "text": [
            "Processing games:  78%|███████▊  | 875/1120 [1:01:26<16:57,  4.15s/it]"
          ]
        },
        {
          "output_type": "stream",
          "name": "stdout",
          "text": [
            "API request failed for game:  FIFA 22\n"
          ]
        },
        {
          "output_type": "stream",
          "name": "stderr",
          "text": [
            "Processing games:  81%|████████  | 903/1120 [1:02:36<01:12,  2.99it/s]"
          ]
        },
        {
          "output_type": "stream",
          "name": "stdout",
          "text": [
            "API request failed for game:  Arcane\n"
          ]
        },
        {
          "output_type": "stream",
          "name": "stderr",
          "text": [
            "Processing games:  81%|████████  | 908/1120 [1:03:38<16:39,  4.71s/it]"
          ]
        },
        {
          "output_type": "stream",
          "name": "stdout",
          "text": [
            "API request failed for game:  Myth of Empires\n"
          ]
        },
        {
          "output_type": "stream",
          "name": "stderr",
          "text": [
            "\rProcessing games:  81%|████████  | 909/1120 [1:04:39<1:15:22, 21.44s/it]"
          ]
        },
        {
          "output_type": "stream",
          "name": "stdout",
          "text": [
            "API request failed for game:  Football Manager 2022\n"
          ]
        },
        {
          "output_type": "stream",
          "name": "stderr",
          "text": [
            "Processing games:  82%|████████▏ | 920/1120 [1:05:43<04:16,  1.28s/it]"
          ]
        },
        {
          "output_type": "stream",
          "name": "stdout",
          "text": [
            "Scraped 850 games. Sleeping for 60 seconds...\n"
          ]
        },
        {
          "output_type": "stream",
          "name": "stderr",
          "text": [
            "Processing games:  83%|████████▎ | 927/1120 [1:06:46<08:20,  2.59s/it]"
          ]
        },
        {
          "output_type": "stream",
          "name": "stdout",
          "text": [
            "API request failed for game:  Fall Guys\n"
          ]
        },
        {
          "output_type": "stream",
          "name": "stderr",
          "text": [
            "Processing games:  87%|████████▋ | 971/1120 [1:08:02<00:53,  2.76it/s]"
          ]
        },
        {
          "output_type": "stream",
          "name": "stdout",
          "text": [
            "Scraped 900 games. Sleeping for 60 seconds...\n"
          ]
        },
        {
          "output_type": "stream",
          "name": "stderr",
          "text": [
            "Processing games:  90%|████████▉ | 1003/1120 [1:09:14<00:43,  2.69it/s]"
          ]
        },
        {
          "output_type": "stream",
          "name": "stdout",
          "text": [
            "API request failed for game:  The First Descendant\n"
          ]
        },
        {
          "output_type": "stream",
          "name": "stderr",
          "text": [
            "Processing games:  90%|█████████ | 1010/1120 [1:10:17<04:32,  2.48s/it]"
          ]
        },
        {
          "output_type": "stream",
          "name": "stdout",
          "text": [
            "API request failed for game:  Football Manager 2023\n"
          ]
        },
        {
          "output_type": "stream",
          "name": "stderr",
          "text": [
            "Processing games:  91%|█████████ | 1015/1120 [1:11:19<08:50,  5.05s/it]"
          ]
        },
        {
          "output_type": "stream",
          "name": "stdout",
          "text": [
            "API request failed for game:  Goat Simulator 3\n"
          ]
        },
        {
          "output_type": "stream",
          "name": "stderr",
          "text": [
            "Processing games:  91%|█████████▏| 1024/1120 [1:12:22<02:32,  1.59s/it]"
          ]
        },
        {
          "output_type": "stream",
          "name": "stdout",
          "text": [
            "Scraped 950 games. Sleeping for 60 seconds...\n"
          ]
        },
        {
          "output_type": "stream",
          "name": "stderr",
          "text": [
            "Processing games:  93%|█████████▎| 1044/1120 [1:13:30<00:28,  2.65it/s]"
          ]
        },
        {
          "output_type": "stream",
          "name": "stdout",
          "text": [
            "Data not found for game:  Lineage II\n"
          ]
        },
        {
          "output_type": "stream",
          "name": "stderr",
          "text": [
            "Processing games:  94%|█████████▍| 1050/1120 [1:13:33<00:25,  2.77it/s]"
          ]
        },
        {
          "output_type": "stream",
          "name": "stdout",
          "text": [
            "API request failed for game:  THE FINALS\n"
          ]
        },
        {
          "output_type": "stream",
          "name": "stderr",
          "text": [
            "Processing games:  95%|█████████▍| 1059/1120 [1:14:36<01:25,  1.39s/it]"
          ]
        },
        {
          "output_type": "stream",
          "name": "stdout",
          "text": [
            "API request failed for game:  The Godfather\n"
          ]
        },
        {
          "output_type": "stream",
          "name": "stderr",
          "text": [
            "Processing games:  95%|█████████▌| 1066/1120 [1:15:39<02:18,  2.57s/it]"
          ]
        },
        {
          "output_type": "stream",
          "name": "stdout",
          "text": [
            "Data not found for game:  Winning Post 10\n"
          ]
        },
        {
          "output_type": "stream",
          "name": "stderr",
          "text": [
            "Processing games:  96%|█████████▋| 1078/1120 [1:15:43<00:16,  2.52it/s]"
          ]
        },
        {
          "output_type": "stream",
          "name": "stdout",
          "text": [
            "Scraped 1000 games. Sleeping for 60 seconds...\n"
          ]
        },
        {
          "output_type": "stream",
          "name": "stderr",
          "text": [
            "Processing games:  97%|█████████▋| 1083/1120 [1:16:45<02:53,  4.68s/it]"
          ]
        },
        {
          "output_type": "stream",
          "name": "stdout",
          "text": [
            "API request failed for game:  Blue Protocol\n"
          ]
        },
        {
          "output_type": "stream",
          "name": "stderr",
          "text": [
            "Processing games: 100%|██████████| 1120/1120 [1:17:59<00:00,  4.18s/it]\n"
          ]
        },
        {
          "output_type": "execute_result",
          "data": {
            "text/plain": [
              "        appid                            game release_date required_age  \\\n",
              "0         570                          Dota 2   2013-07-09            0   \n",
              "1      311210     Call of Duty: Black Ops III   2015-11-05           17   \n",
              "2     1407200                  World of Tanks   2021-04-28            0   \n",
              "3      359550  Tom Clancy's Rainbow Six Siege   2015-12-01           17   \n",
              "4     1343400                       RuneScape   2020-10-14            0   \n",
              "...       ...                             ...          ...          ...   \n",
              "1035  2203070         Dragonheir: Silent Gods   2023-10-26            0   \n",
              "1036  2107670                        Warhaven   2023-09-20            0   \n",
              "1037  2140510                 Town of Salem 2   2023-08-25            0   \n",
              "1038  2137700       I'm on Observation Duty 6   2023-09-01            0   \n",
              "1039  2064870                        Deceit 2   2023-09-14            0   \n",
              "\n",
              "      is_free  price                                        description  \\\n",
              "0        True   0.00  The most-played game on Steam.Every day, milli...   \n",
              "1       False  19.79  Zombies Chronicles Deluxe EditionNow with more...   \n",
              "2        True   0.00  Command over 600 machines from World War II th...   \n",
              "3       False  19.99  Edition ComparisonDeluxe EditionThe Tom Clancy...   \n",
              "4        True   0.00  Journey into the Sixth Age of Gielinor and dis...   \n",
              "...       ...    ...                                                ...   \n",
              "1035     True   0.00  Join Our DiscordBug Report1. Join the official...   \n",
              "1036     True   0.00  JOIN OUR DISCORD!About the GameENTER THE FRAYW...   \n",
              "1037     True   0.00  The Town of Salem is in turmoil as the Coven h...   \n",
              "1038    False  11.99  The most ambitious I'm on Observation Duty gam...   \n",
              "1039    False   9.99  ROAD TO FULL LAUNCH AND DISCORDAbout the GameA...   \n",
              "\n",
              "                    developers               publishers            platforms  \\\n",
              "0                        Valve                    Valve  Windows, Mac, Linux   \n",
              "1        Treyarch, Aspyr (Mac)  Activision, Aspyr (Mac)         Windows, Mac   \n",
              "2      Wargaming Group Limited  Wargaming Group Limited              Windows   \n",
              "3             Ubisoft Montreal                  Ubisoft              Windows   \n",
              "4                    Jagex Ltd                Jagex Ltd         Windows, Mac   \n",
              "...                        ...                      ...                  ...   \n",
              "1035               SGRA Studio        Nuverse Pte. Ltd.              Windows   \n",
              "1036                     NEXON                    NEXON              Windows   \n",
              "1037       BlankMediaGames LLC      BlankMediaGames LLC         Windows, Mac   \n",
              "1038  Notovia, Dreamloop Games                  Notovia  Windows, Mac, Linux   \n",
              "1039              World Makers             World Makers              Windows   \n",
              "\n",
              "      score                                             genres  \n",
              "0      90.0                     Action, Strategy, Free to Play  \n",
              "1      73.0                                  Action, Adventure  \n",
              "2      80.0  Action, Massively Multiplayer, Simulation, Fre...  \n",
              "3       NaN                                             Action  \n",
              "4       NaN           Free to Play, Massively Multiplayer, RPG  \n",
              "...     ...                                                ...  \n",
              "1035    NaN  Adventure, Massively Multiplayer, RPG, Strateg...  \n",
              "1036    NaN                 Action, Free to Play, Early Access  \n",
              "1037    NaN         Casual, Indie, RPG, Strategy, Free to Play  \n",
              "1038    NaN                                              Indie  \n",
              "1039    NaN                                             Action  \n",
              "\n",
              "[1040 rows x 12 columns]"
            ],
            "text/html": [
              "\n",
              "  <div id=\"df-623c9379-84fc-4889-b691-731331adfe84\" class=\"colab-df-container\">\n",
              "    <div>\n",
              "<style scoped>\n",
              "    .dataframe tbody tr th:only-of-type {\n",
              "        vertical-align: middle;\n",
              "    }\n",
              "\n",
              "    .dataframe tbody tr th {\n",
              "        vertical-align: top;\n",
              "    }\n",
              "\n",
              "    .dataframe thead th {\n",
              "        text-align: right;\n",
              "    }\n",
              "</style>\n",
              "<table border=\"1\" class=\"dataframe\">\n",
              "  <thead>\n",
              "    <tr style=\"text-align: right;\">\n",
              "      <th></th>\n",
              "      <th>appid</th>\n",
              "      <th>game</th>\n",
              "      <th>release_date</th>\n",
              "      <th>required_age</th>\n",
              "      <th>is_free</th>\n",
              "      <th>price</th>\n",
              "      <th>description</th>\n",
              "      <th>developers</th>\n",
              "      <th>publishers</th>\n",
              "      <th>platforms</th>\n",
              "      <th>score</th>\n",
              "      <th>genres</th>\n",
              "    </tr>\n",
              "  </thead>\n",
              "  <tbody>\n",
              "    <tr>\n",
              "      <th>0</th>\n",
              "      <td>570</td>\n",
              "      <td>Dota 2</td>\n",
              "      <td>2013-07-09</td>\n",
              "      <td>0</td>\n",
              "      <td>True</td>\n",
              "      <td>0.00</td>\n",
              "      <td>The most-played game on Steam.Every day, milli...</td>\n",
              "      <td>Valve</td>\n",
              "      <td>Valve</td>\n",
              "      <td>Windows, Mac, Linux</td>\n",
              "      <td>90.0</td>\n",
              "      <td>Action, Strategy, Free to Play</td>\n",
              "    </tr>\n",
              "    <tr>\n",
              "      <th>1</th>\n",
              "      <td>311210</td>\n",
              "      <td>Call of Duty: Black Ops III</td>\n",
              "      <td>2015-11-05</td>\n",
              "      <td>17</td>\n",
              "      <td>False</td>\n",
              "      <td>19.79</td>\n",
              "      <td>Zombies Chronicles Deluxe EditionNow with more...</td>\n",
              "      <td>Treyarch, Aspyr (Mac)</td>\n",
              "      <td>Activision, Aspyr (Mac)</td>\n",
              "      <td>Windows, Mac</td>\n",
              "      <td>73.0</td>\n",
              "      <td>Action, Adventure</td>\n",
              "    </tr>\n",
              "    <tr>\n",
              "      <th>2</th>\n",
              "      <td>1407200</td>\n",
              "      <td>World of Tanks</td>\n",
              "      <td>2021-04-28</td>\n",
              "      <td>0</td>\n",
              "      <td>True</td>\n",
              "      <td>0.00</td>\n",
              "      <td>Command over 600 machines from World War II th...</td>\n",
              "      <td>Wargaming Group Limited</td>\n",
              "      <td>Wargaming Group Limited</td>\n",
              "      <td>Windows</td>\n",
              "      <td>80.0</td>\n",
              "      <td>Action, Massively Multiplayer, Simulation, Fre...</td>\n",
              "    </tr>\n",
              "    <tr>\n",
              "      <th>3</th>\n",
              "      <td>359550</td>\n",
              "      <td>Tom Clancy's Rainbow Six Siege</td>\n",
              "      <td>2015-12-01</td>\n",
              "      <td>17</td>\n",
              "      <td>False</td>\n",
              "      <td>19.99</td>\n",
              "      <td>Edition ComparisonDeluxe EditionThe Tom Clancy...</td>\n",
              "      <td>Ubisoft Montreal</td>\n",
              "      <td>Ubisoft</td>\n",
              "      <td>Windows</td>\n",
              "      <td>NaN</td>\n",
              "      <td>Action</td>\n",
              "    </tr>\n",
              "    <tr>\n",
              "      <th>4</th>\n",
              "      <td>1343400</td>\n",
              "      <td>RuneScape</td>\n",
              "      <td>2020-10-14</td>\n",
              "      <td>0</td>\n",
              "      <td>True</td>\n",
              "      <td>0.00</td>\n",
              "      <td>Journey into the Sixth Age of Gielinor and dis...</td>\n",
              "      <td>Jagex Ltd</td>\n",
              "      <td>Jagex Ltd</td>\n",
              "      <td>Windows, Mac</td>\n",
              "      <td>NaN</td>\n",
              "      <td>Free to Play, Massively Multiplayer, RPG</td>\n",
              "    </tr>\n",
              "    <tr>\n",
              "      <th>...</th>\n",
              "      <td>...</td>\n",
              "      <td>...</td>\n",
              "      <td>...</td>\n",
              "      <td>...</td>\n",
              "      <td>...</td>\n",
              "      <td>...</td>\n",
              "      <td>...</td>\n",
              "      <td>...</td>\n",
              "      <td>...</td>\n",
              "      <td>...</td>\n",
              "      <td>...</td>\n",
              "      <td>...</td>\n",
              "    </tr>\n",
              "    <tr>\n",
              "      <th>1035</th>\n",
              "      <td>2203070</td>\n",
              "      <td>Dragonheir: Silent Gods</td>\n",
              "      <td>2023-10-26</td>\n",
              "      <td>0</td>\n",
              "      <td>True</td>\n",
              "      <td>0.00</td>\n",
              "      <td>Join Our DiscordBug Report1. Join the official...</td>\n",
              "      <td>SGRA Studio</td>\n",
              "      <td>Nuverse Pte. Ltd.</td>\n",
              "      <td>Windows</td>\n",
              "      <td>NaN</td>\n",
              "      <td>Adventure, Massively Multiplayer, RPG, Strateg...</td>\n",
              "    </tr>\n",
              "    <tr>\n",
              "      <th>1036</th>\n",
              "      <td>2107670</td>\n",
              "      <td>Warhaven</td>\n",
              "      <td>2023-09-20</td>\n",
              "      <td>0</td>\n",
              "      <td>True</td>\n",
              "      <td>0.00</td>\n",
              "      <td>JOIN OUR DISCORD!About the GameENTER THE FRAYW...</td>\n",
              "      <td>NEXON</td>\n",
              "      <td>NEXON</td>\n",
              "      <td>Windows</td>\n",
              "      <td>NaN</td>\n",
              "      <td>Action, Free to Play, Early Access</td>\n",
              "    </tr>\n",
              "    <tr>\n",
              "      <th>1037</th>\n",
              "      <td>2140510</td>\n",
              "      <td>Town of Salem 2</td>\n",
              "      <td>2023-08-25</td>\n",
              "      <td>0</td>\n",
              "      <td>True</td>\n",
              "      <td>0.00</td>\n",
              "      <td>The Town of Salem is in turmoil as the Coven h...</td>\n",
              "      <td>BlankMediaGames LLC</td>\n",
              "      <td>BlankMediaGames LLC</td>\n",
              "      <td>Windows, Mac</td>\n",
              "      <td>NaN</td>\n",
              "      <td>Casual, Indie, RPG, Strategy, Free to Play</td>\n",
              "    </tr>\n",
              "    <tr>\n",
              "      <th>1038</th>\n",
              "      <td>2137700</td>\n",
              "      <td>I'm on Observation Duty 6</td>\n",
              "      <td>2023-09-01</td>\n",
              "      <td>0</td>\n",
              "      <td>False</td>\n",
              "      <td>11.99</td>\n",
              "      <td>The most ambitious I'm on Observation Duty gam...</td>\n",
              "      <td>Notovia, Dreamloop Games</td>\n",
              "      <td>Notovia</td>\n",
              "      <td>Windows, Mac, Linux</td>\n",
              "      <td>NaN</td>\n",
              "      <td>Indie</td>\n",
              "    </tr>\n",
              "    <tr>\n",
              "      <th>1039</th>\n",
              "      <td>2064870</td>\n",
              "      <td>Deceit 2</td>\n",
              "      <td>2023-09-14</td>\n",
              "      <td>0</td>\n",
              "      <td>False</td>\n",
              "      <td>9.99</td>\n",
              "      <td>ROAD TO FULL LAUNCH AND DISCORDAbout the GameA...</td>\n",
              "      <td>World Makers</td>\n",
              "      <td>World Makers</td>\n",
              "      <td>Windows</td>\n",
              "      <td>NaN</td>\n",
              "      <td>Action</td>\n",
              "    </tr>\n",
              "  </tbody>\n",
              "</table>\n",
              "<p>1040 rows × 12 columns</p>\n",
              "</div>\n",
              "    <div class=\"colab-df-buttons\">\n",
              "\n",
              "  <div class=\"colab-df-container\">\n",
              "    <button class=\"colab-df-convert\" onclick=\"convertToInteractive('df-623c9379-84fc-4889-b691-731331adfe84')\"\n",
              "            title=\"Convert this dataframe to an interactive table.\"\n",
              "            style=\"display:none;\">\n",
              "\n",
              "  <svg xmlns=\"http://www.w3.org/2000/svg\" height=\"24px\" viewBox=\"0 -960 960 960\">\n",
              "    <path d=\"M120-120v-720h720v720H120Zm60-500h600v-160H180v160Zm220 220h160v-160H400v160Zm0 220h160v-160H400v160ZM180-400h160v-160H180v160Zm440 0h160v-160H620v160ZM180-180h160v-160H180v160Zm440 0h160v-160H620v160Z\"/>\n",
              "  </svg>\n",
              "    </button>\n",
              "\n",
              "  <style>\n",
              "    .colab-df-container {\n",
              "      display:flex;\n",
              "      gap: 12px;\n",
              "    }\n",
              "\n",
              "    .colab-df-convert {\n",
              "      background-color: #E8F0FE;\n",
              "      border: none;\n",
              "      border-radius: 50%;\n",
              "      cursor: pointer;\n",
              "      display: none;\n",
              "      fill: #1967D2;\n",
              "      height: 32px;\n",
              "      padding: 0 0 0 0;\n",
              "      width: 32px;\n",
              "    }\n",
              "\n",
              "    .colab-df-convert:hover {\n",
              "      background-color: #E2EBFA;\n",
              "      box-shadow: 0px 1px 2px rgba(60, 64, 67, 0.3), 0px 1px 3px 1px rgba(60, 64, 67, 0.15);\n",
              "      fill: #174EA6;\n",
              "    }\n",
              "\n",
              "    .colab-df-buttons div {\n",
              "      margin-bottom: 4px;\n",
              "    }\n",
              "\n",
              "    [theme=dark] .colab-df-convert {\n",
              "      background-color: #3B4455;\n",
              "      fill: #D2E3FC;\n",
              "    }\n",
              "\n",
              "    [theme=dark] .colab-df-convert:hover {\n",
              "      background-color: #434B5C;\n",
              "      box-shadow: 0px 1px 3px 1px rgba(0, 0, 0, 0.15);\n",
              "      filter: drop-shadow(0px 1px 2px rgba(0, 0, 0, 0.3));\n",
              "      fill: #FFFFFF;\n",
              "    }\n",
              "  </style>\n",
              "\n",
              "    <script>\n",
              "      const buttonEl =\n",
              "        document.querySelector('#df-623c9379-84fc-4889-b691-731331adfe84 button.colab-df-convert');\n",
              "      buttonEl.style.display =\n",
              "        google.colab.kernel.accessAllowed ? 'block' : 'none';\n",
              "\n",
              "      async function convertToInteractive(key) {\n",
              "        const element = document.querySelector('#df-623c9379-84fc-4889-b691-731331adfe84');\n",
              "        const dataTable =\n",
              "          await google.colab.kernel.invokeFunction('convertToInteractive',\n",
              "                                                    [key], {});\n",
              "        if (!dataTable) return;\n",
              "\n",
              "        const docLinkHtml = 'Like what you see? Visit the ' +\n",
              "          '<a target=\"_blank\" href=https://colab.research.google.com/notebooks/data_table.ipynb>data table notebook</a>'\n",
              "          + ' to learn more about interactive tables.';\n",
              "        element.innerHTML = '';\n",
              "        dataTable['output_type'] = 'display_data';\n",
              "        await google.colab.output.renderOutput(dataTable, element);\n",
              "        const docLink = document.createElement('div');\n",
              "        docLink.innerHTML = docLinkHtml;\n",
              "        element.appendChild(docLink);\n",
              "      }\n",
              "    </script>\n",
              "  </div>\n",
              "\n",
              "\n",
              "<div id=\"df-0d3611cb-3cac-4dad-9bde-c8aa8df1bba3\">\n",
              "  <button class=\"colab-df-quickchart\" onclick=\"quickchart('df-0d3611cb-3cac-4dad-9bde-c8aa8df1bba3')\"\n",
              "            title=\"Suggest charts\"\n",
              "            style=\"display:none;\">\n",
              "\n",
              "<svg xmlns=\"http://www.w3.org/2000/svg\" height=\"24px\"viewBox=\"0 0 24 24\"\n",
              "     width=\"24px\">\n",
              "    <g>\n",
              "        <path d=\"M19 3H5c-1.1 0-2 .9-2 2v14c0 1.1.9 2 2 2h14c1.1 0 2-.9 2-2V5c0-1.1-.9-2-2-2zM9 17H7v-7h2v7zm4 0h-2V7h2v10zm4 0h-2v-4h2v4z\"/>\n",
              "    </g>\n",
              "</svg>\n",
              "  </button>\n",
              "\n",
              "<style>\n",
              "  .colab-df-quickchart {\n",
              "      --bg-color: #E8F0FE;\n",
              "      --fill-color: #1967D2;\n",
              "      --hover-bg-color: #E2EBFA;\n",
              "      --hover-fill-color: #174EA6;\n",
              "      --disabled-fill-color: #AAA;\n",
              "      --disabled-bg-color: #DDD;\n",
              "  }\n",
              "\n",
              "  [theme=dark] .colab-df-quickchart {\n",
              "      --bg-color: #3B4455;\n",
              "      --fill-color: #D2E3FC;\n",
              "      --hover-bg-color: #434B5C;\n",
              "      --hover-fill-color: #FFFFFF;\n",
              "      --disabled-bg-color: #3B4455;\n",
              "      --disabled-fill-color: #666;\n",
              "  }\n",
              "\n",
              "  .colab-df-quickchart {\n",
              "    background-color: var(--bg-color);\n",
              "    border: none;\n",
              "    border-radius: 50%;\n",
              "    cursor: pointer;\n",
              "    display: none;\n",
              "    fill: var(--fill-color);\n",
              "    height: 32px;\n",
              "    padding: 0;\n",
              "    width: 32px;\n",
              "  }\n",
              "\n",
              "  .colab-df-quickchart:hover {\n",
              "    background-color: var(--hover-bg-color);\n",
              "    box-shadow: 0 1px 2px rgba(60, 64, 67, 0.3), 0 1px 3px 1px rgba(60, 64, 67, 0.15);\n",
              "    fill: var(--button-hover-fill-color);\n",
              "  }\n",
              "\n",
              "  .colab-df-quickchart-complete:disabled,\n",
              "  .colab-df-quickchart-complete:disabled:hover {\n",
              "    background-color: var(--disabled-bg-color);\n",
              "    fill: var(--disabled-fill-color);\n",
              "    box-shadow: none;\n",
              "  }\n",
              "\n",
              "  .colab-df-spinner {\n",
              "    border: 2px solid var(--fill-color);\n",
              "    border-color: transparent;\n",
              "    border-bottom-color: var(--fill-color);\n",
              "    animation:\n",
              "      spin 1s steps(1) infinite;\n",
              "  }\n",
              "\n",
              "  @keyframes spin {\n",
              "    0% {\n",
              "      border-color: transparent;\n",
              "      border-bottom-color: var(--fill-color);\n",
              "      border-left-color: var(--fill-color);\n",
              "    }\n",
              "    20% {\n",
              "      border-color: transparent;\n",
              "      border-left-color: var(--fill-color);\n",
              "      border-top-color: var(--fill-color);\n",
              "    }\n",
              "    30% {\n",
              "      border-color: transparent;\n",
              "      border-left-color: var(--fill-color);\n",
              "      border-top-color: var(--fill-color);\n",
              "      border-right-color: var(--fill-color);\n",
              "    }\n",
              "    40% {\n",
              "      border-color: transparent;\n",
              "      border-right-color: var(--fill-color);\n",
              "      border-top-color: var(--fill-color);\n",
              "    }\n",
              "    60% {\n",
              "      border-color: transparent;\n",
              "      border-right-color: var(--fill-color);\n",
              "    }\n",
              "    80% {\n",
              "      border-color: transparent;\n",
              "      border-right-color: var(--fill-color);\n",
              "      border-bottom-color: var(--fill-color);\n",
              "    }\n",
              "    90% {\n",
              "      border-color: transparent;\n",
              "      border-bottom-color: var(--fill-color);\n",
              "    }\n",
              "  }\n",
              "</style>\n",
              "\n",
              "  <script>\n",
              "    async function quickchart(key) {\n",
              "      const quickchartButtonEl =\n",
              "        document.querySelector('#' + key + ' button');\n",
              "      quickchartButtonEl.disabled = true;  // To prevent multiple clicks.\n",
              "      quickchartButtonEl.classList.add('colab-df-spinner');\n",
              "      try {\n",
              "        const charts = await google.colab.kernel.invokeFunction(\n",
              "            'suggestCharts', [key], {});\n",
              "      } catch (error) {\n",
              "        console.error('Error during call to suggestCharts:', error);\n",
              "      }\n",
              "      quickchartButtonEl.classList.remove('colab-df-spinner');\n",
              "      quickchartButtonEl.classList.add('colab-df-quickchart-complete');\n",
              "    }\n",
              "    (() => {\n",
              "      let quickchartButtonEl =\n",
              "        document.querySelector('#df-0d3611cb-3cac-4dad-9bde-c8aa8df1bba3 button');\n",
              "      quickchartButtonEl.style.display =\n",
              "        google.colab.kernel.accessAllowed ? 'block' : 'none';\n",
              "    })();\n",
              "  </script>\n",
              "</div>\n",
              "    </div>\n",
              "  </div>\n"
            ]
          },
          "metadata": {},
          "execution_count": 19
        }
      ]
    },
    {
      "cell_type": "code",
      "source": [
        "# basic statistics\n",
        "\n",
        "print(\"Size of the dataset:\", game_data_df.shape)\n",
        "print('----------')\n",
        "\n",
        "max_score = game_data_df[game_data_df['score'] == game_data_df['score'].max()]\n",
        "min_score = game_data_df[game_data_df['score'] == game_data_df['score'].min()]\n",
        "print(\"*** Game Ratings:\",\n",
        "      f\"\\n\\tAverage score: {game_data_df['score'].mean()}\"\n",
        "      f\"\\n\\tHighest scored game: {max_score['game'].values[0]} [{max_score['score'].values[0]}]\",\n",
        "      f\"\\n\\tLowest scored game: {min_score['game'].values[0]} [{min_score['score'].values[0]}]\")\n",
        "print('----------')\n",
        "\n",
        "print(\"*** Free or Paid:\")\n",
        "print(f\"\\tFree: {len(game_data_df[game_data_df['is_free'] == True])}\")\n",
        "print(f\"\\tPaid: {len(game_data_df[game_data_df['is_free'] == False])}\")\n",
        "print('----------')\n",
        "\n",
        "print(\"*** Top:\")\n",
        "for mode in game_data_df['developers'].mode() :\n",
        "    mode_count = game_data_df['developers'].value_counts()[mode]\n",
        "    print(f\"\\tDeveloper: {mode} [{mode_count}]\")\n",
        "for mode in game_data_df['publishers'].mode() :\n",
        "    mode_count = game_data_df['publishers'].value_counts()[mode]\n",
        "    print(f\"\\tPublisher: {mode} [{mode_count}]\")"
      ],
      "metadata": {
        "colab": {
          "base_uri": "https://localhost:8080/"
        },
        "id": "3gB4WUQeTjUG",
        "outputId": "94a7984b-412b-42f9-c34f-9336a888ca36"
      },
      "execution_count": null,
      "outputs": [
        {
          "output_type": "stream",
          "name": "stdout",
          "text": [
            "Size of the dataset: (1040, 12)\n",
            "----------\n",
            "*** Game Ratings: \n",
            "\tAverage score: 78.87550200803213\n",
            "\tHighest scored game: Disco Elysium [97.0] \n",
            "\tLowest scored game: Hello Neighbor [38.0]\n",
            "----------\n",
            "*** Free or Paid:\n",
            "\tFree: 118\n",
            "\tPaid: 922\n",
            "----------\n",
            "*** Top:\n",
            "\tDeveloper: CAPCOM Co., Ltd. [15]\n",
            "\tPublisher: Bethesda Softworks [25]\n"
          ]
        }
      ]
    },
    {
      "cell_type": "code",
      "source": [
        "# save to csv\n",
        "\n",
        "game_data_df.to_csv(\"/content/datasets/game_data.csv\", index=True, encoding='utf-8-sig')"
      ],
      "metadata": {
        "id": "kLSdHKXMVANq"
      },
      "execution_count": null,
      "outputs": []
    },
    {
      "cell_type": "markdown",
      "source": [
        "## Back to Twitch Streaming Data\n",
        "Filtering Twitch dataset so it only contains games in Steam dataset"
      ],
      "metadata": {
        "id": "rTepSxbRa_k7"
      }
    },
    {
      "cell_type": "code",
      "source": [
        "game_list = game_data_df['game'].tolist()\n",
        "\n",
        "twitch_df.drop(twitch_df[~twitch_df['game'].isin(game_list)].index, inplace=True)\n",
        "twitch_df.reset_index(drop=True, inplace=True)\n",
        "\n",
        "twitch_df # 8071 x 12"
      ],
      "metadata": {
        "colab": {
          "base_uri": "https://localhost:8080/",
          "height": 600
        },
        "id": "3uFw1UyeVPD9",
        "outputId": "b1abc760-10d9-40fc-f51a-0299d27f8021"
      },
      "execution_count": null,
      "outputs": [
        {
          "output_type": "execute_result",
          "data": {
            "text/plain": [
              "      rank                            game month  year  hours_watched  \\\n",
              "0        3                          Dota 2    01  2016       45185893   \n",
              "1        5     Call of Duty: Black Ops III    01  2016       16153057   \n",
              "2       15                  World of Tanks    01  2016        4993627   \n",
              "3       16  Tom Clancy's Rainbow Six Siege    01  2016        4866039   \n",
              "4       17                       RuneScape    01  2016        4632857   \n",
              "...    ...                             ...   ...   ...            ...   \n",
              "8066   190       I'm on Observation Duty 6    09  2023         581068   \n",
              "8067   191                        Deceit 2    09  2023         575900   \n",
              "8068   194                         Valheim    09  2023         568622   \n",
              "8069   196                        PlateUp!    09  2023         560064   \n",
              "8070   198                     Bloons TD 6    09  2023         540735   \n",
              "\n",
              "      hours_streamed  peak_viewers  peak_channels  streamers  avg_viewers  \\\n",
              "0             433397        315083           1100      44074        60815   \n",
              "1            1151578         71639           3620     214054        21740   \n",
              "2             128356         39358            368      16121         6720   \n",
              "3             242134         25742            694      42244         6549   \n",
              "4              74628         18809            167       7628         6235   \n",
              "...              ...           ...            ...        ...          ...   \n",
              "8066            4730         24948             30       1249          808   \n",
              "8067            3089         43348             55        987          800   \n",
              "8068           75546          8861            203       7975          790   \n",
              "8069           18617         16476             71       4034          778   \n",
              "8070           20142         10320             65       5673          752   \n",
              "\n",
              "      avg_channels  avg_viewer_ratio  \n",
              "0              583            104.26  \n",
              "1             1549             14.03  \n",
              "2              172             38.90  \n",
              "3              325             20.10  \n",
              "4              100             62.08  \n",
              "...            ...               ...  \n",
              "8066             6            122.85  \n",
              "8067             4            186.44  \n",
              "8068           105              7.53  \n",
              "8069            25             30.08  \n",
              "8070            28             26.85  \n",
              "\n",
              "[8071 rows x 12 columns]"
            ],
            "text/html": [
              "\n",
              "  <div id=\"df-c076e3a5-9de9-4dad-872a-f51cc7afea20\" class=\"colab-df-container\">\n",
              "    <div>\n",
              "<style scoped>\n",
              "    .dataframe tbody tr th:only-of-type {\n",
              "        vertical-align: middle;\n",
              "    }\n",
              "\n",
              "    .dataframe tbody tr th {\n",
              "        vertical-align: top;\n",
              "    }\n",
              "\n",
              "    .dataframe thead th {\n",
              "        text-align: right;\n",
              "    }\n",
              "</style>\n",
              "<table border=\"1\" class=\"dataframe\">\n",
              "  <thead>\n",
              "    <tr style=\"text-align: right;\">\n",
              "      <th></th>\n",
              "      <th>rank</th>\n",
              "      <th>game</th>\n",
              "      <th>month</th>\n",
              "      <th>year</th>\n",
              "      <th>hours_watched</th>\n",
              "      <th>hours_streamed</th>\n",
              "      <th>peak_viewers</th>\n",
              "      <th>peak_channels</th>\n",
              "      <th>streamers</th>\n",
              "      <th>avg_viewers</th>\n",
              "      <th>avg_channels</th>\n",
              "      <th>avg_viewer_ratio</th>\n",
              "    </tr>\n",
              "  </thead>\n",
              "  <tbody>\n",
              "    <tr>\n",
              "      <th>0</th>\n",
              "      <td>3</td>\n",
              "      <td>Dota 2</td>\n",
              "      <td>01</td>\n",
              "      <td>2016</td>\n",
              "      <td>45185893</td>\n",
              "      <td>433397</td>\n",
              "      <td>315083</td>\n",
              "      <td>1100</td>\n",
              "      <td>44074</td>\n",
              "      <td>60815</td>\n",
              "      <td>583</td>\n",
              "      <td>104.26</td>\n",
              "    </tr>\n",
              "    <tr>\n",
              "      <th>1</th>\n",
              "      <td>5</td>\n",
              "      <td>Call of Duty: Black Ops III</td>\n",
              "      <td>01</td>\n",
              "      <td>2016</td>\n",
              "      <td>16153057</td>\n",
              "      <td>1151578</td>\n",
              "      <td>71639</td>\n",
              "      <td>3620</td>\n",
              "      <td>214054</td>\n",
              "      <td>21740</td>\n",
              "      <td>1549</td>\n",
              "      <td>14.03</td>\n",
              "    </tr>\n",
              "    <tr>\n",
              "      <th>2</th>\n",
              "      <td>15</td>\n",
              "      <td>World of Tanks</td>\n",
              "      <td>01</td>\n",
              "      <td>2016</td>\n",
              "      <td>4993627</td>\n",
              "      <td>128356</td>\n",
              "      <td>39358</td>\n",
              "      <td>368</td>\n",
              "      <td>16121</td>\n",
              "      <td>6720</td>\n",
              "      <td>172</td>\n",
              "      <td>38.90</td>\n",
              "    </tr>\n",
              "    <tr>\n",
              "      <th>3</th>\n",
              "      <td>16</td>\n",
              "      <td>Tom Clancy's Rainbow Six Siege</td>\n",
              "      <td>01</td>\n",
              "      <td>2016</td>\n",
              "      <td>4866039</td>\n",
              "      <td>242134</td>\n",
              "      <td>25742</td>\n",
              "      <td>694</td>\n",
              "      <td>42244</td>\n",
              "      <td>6549</td>\n",
              "      <td>325</td>\n",
              "      <td>20.10</td>\n",
              "    </tr>\n",
              "    <tr>\n",
              "      <th>4</th>\n",
              "      <td>17</td>\n",
              "      <td>RuneScape</td>\n",
              "      <td>01</td>\n",
              "      <td>2016</td>\n",
              "      <td>4632857</td>\n",
              "      <td>74628</td>\n",
              "      <td>18809</td>\n",
              "      <td>167</td>\n",
              "      <td>7628</td>\n",
              "      <td>6235</td>\n",
              "      <td>100</td>\n",
              "      <td>62.08</td>\n",
              "    </tr>\n",
              "    <tr>\n",
              "      <th>...</th>\n",
              "      <td>...</td>\n",
              "      <td>...</td>\n",
              "      <td>...</td>\n",
              "      <td>...</td>\n",
              "      <td>...</td>\n",
              "      <td>...</td>\n",
              "      <td>...</td>\n",
              "      <td>...</td>\n",
              "      <td>...</td>\n",
              "      <td>...</td>\n",
              "      <td>...</td>\n",
              "      <td>...</td>\n",
              "    </tr>\n",
              "    <tr>\n",
              "      <th>8066</th>\n",
              "      <td>190</td>\n",
              "      <td>I'm on Observation Duty 6</td>\n",
              "      <td>09</td>\n",
              "      <td>2023</td>\n",
              "      <td>581068</td>\n",
              "      <td>4730</td>\n",
              "      <td>24948</td>\n",
              "      <td>30</td>\n",
              "      <td>1249</td>\n",
              "      <td>808</td>\n",
              "      <td>6</td>\n",
              "      <td>122.85</td>\n",
              "    </tr>\n",
              "    <tr>\n",
              "      <th>8067</th>\n",
              "      <td>191</td>\n",
              "      <td>Deceit 2</td>\n",
              "      <td>09</td>\n",
              "      <td>2023</td>\n",
              "      <td>575900</td>\n",
              "      <td>3089</td>\n",
              "      <td>43348</td>\n",
              "      <td>55</td>\n",
              "      <td>987</td>\n",
              "      <td>800</td>\n",
              "      <td>4</td>\n",
              "      <td>186.44</td>\n",
              "    </tr>\n",
              "    <tr>\n",
              "      <th>8068</th>\n",
              "      <td>194</td>\n",
              "      <td>Valheim</td>\n",
              "      <td>09</td>\n",
              "      <td>2023</td>\n",
              "      <td>568622</td>\n",
              "      <td>75546</td>\n",
              "      <td>8861</td>\n",
              "      <td>203</td>\n",
              "      <td>7975</td>\n",
              "      <td>790</td>\n",
              "      <td>105</td>\n",
              "      <td>7.53</td>\n",
              "    </tr>\n",
              "    <tr>\n",
              "      <th>8069</th>\n",
              "      <td>196</td>\n",
              "      <td>PlateUp!</td>\n",
              "      <td>09</td>\n",
              "      <td>2023</td>\n",
              "      <td>560064</td>\n",
              "      <td>18617</td>\n",
              "      <td>16476</td>\n",
              "      <td>71</td>\n",
              "      <td>4034</td>\n",
              "      <td>778</td>\n",
              "      <td>25</td>\n",
              "      <td>30.08</td>\n",
              "    </tr>\n",
              "    <tr>\n",
              "      <th>8070</th>\n",
              "      <td>198</td>\n",
              "      <td>Bloons TD 6</td>\n",
              "      <td>09</td>\n",
              "      <td>2023</td>\n",
              "      <td>540735</td>\n",
              "      <td>20142</td>\n",
              "      <td>10320</td>\n",
              "      <td>65</td>\n",
              "      <td>5673</td>\n",
              "      <td>752</td>\n",
              "      <td>28</td>\n",
              "      <td>26.85</td>\n",
              "    </tr>\n",
              "  </tbody>\n",
              "</table>\n",
              "<p>8071 rows × 12 columns</p>\n",
              "</div>\n",
              "    <div class=\"colab-df-buttons\">\n",
              "\n",
              "  <div class=\"colab-df-container\">\n",
              "    <button class=\"colab-df-convert\" onclick=\"convertToInteractive('df-c076e3a5-9de9-4dad-872a-f51cc7afea20')\"\n",
              "            title=\"Convert this dataframe to an interactive table.\"\n",
              "            style=\"display:none;\">\n",
              "\n",
              "  <svg xmlns=\"http://www.w3.org/2000/svg\" height=\"24px\" viewBox=\"0 -960 960 960\">\n",
              "    <path d=\"M120-120v-720h720v720H120Zm60-500h600v-160H180v160Zm220 220h160v-160H400v160Zm0 220h160v-160H400v160ZM180-400h160v-160H180v160Zm440 0h160v-160H620v160ZM180-180h160v-160H180v160Zm440 0h160v-160H620v160Z\"/>\n",
              "  </svg>\n",
              "    </button>\n",
              "\n",
              "  <style>\n",
              "    .colab-df-container {\n",
              "      display:flex;\n",
              "      gap: 12px;\n",
              "    }\n",
              "\n",
              "    .colab-df-convert {\n",
              "      background-color: #E8F0FE;\n",
              "      border: none;\n",
              "      border-radius: 50%;\n",
              "      cursor: pointer;\n",
              "      display: none;\n",
              "      fill: #1967D2;\n",
              "      height: 32px;\n",
              "      padding: 0 0 0 0;\n",
              "      width: 32px;\n",
              "    }\n",
              "\n",
              "    .colab-df-convert:hover {\n",
              "      background-color: #E2EBFA;\n",
              "      box-shadow: 0px 1px 2px rgba(60, 64, 67, 0.3), 0px 1px 3px 1px rgba(60, 64, 67, 0.15);\n",
              "      fill: #174EA6;\n",
              "    }\n",
              "\n",
              "    .colab-df-buttons div {\n",
              "      margin-bottom: 4px;\n",
              "    }\n",
              "\n",
              "    [theme=dark] .colab-df-convert {\n",
              "      background-color: #3B4455;\n",
              "      fill: #D2E3FC;\n",
              "    }\n",
              "\n",
              "    [theme=dark] .colab-df-convert:hover {\n",
              "      background-color: #434B5C;\n",
              "      box-shadow: 0px 1px 3px 1px rgba(0, 0, 0, 0.15);\n",
              "      filter: drop-shadow(0px 1px 2px rgba(0, 0, 0, 0.3));\n",
              "      fill: #FFFFFF;\n",
              "    }\n",
              "  </style>\n",
              "\n",
              "    <script>\n",
              "      const buttonEl =\n",
              "        document.querySelector('#df-c076e3a5-9de9-4dad-872a-f51cc7afea20 button.colab-df-convert');\n",
              "      buttonEl.style.display =\n",
              "        google.colab.kernel.accessAllowed ? 'block' : 'none';\n",
              "\n",
              "      async function convertToInteractive(key) {\n",
              "        const element = document.querySelector('#df-c076e3a5-9de9-4dad-872a-f51cc7afea20');\n",
              "        const dataTable =\n",
              "          await google.colab.kernel.invokeFunction('convertToInteractive',\n",
              "                                                    [key], {});\n",
              "        if (!dataTable) return;\n",
              "\n",
              "        const docLinkHtml = 'Like what you see? Visit the ' +\n",
              "          '<a target=\"_blank\" href=https://colab.research.google.com/notebooks/data_table.ipynb>data table notebook</a>'\n",
              "          + ' to learn more about interactive tables.';\n",
              "        element.innerHTML = '';\n",
              "        dataTable['output_type'] = 'display_data';\n",
              "        await google.colab.output.renderOutput(dataTable, element);\n",
              "        const docLink = document.createElement('div');\n",
              "        docLink.innerHTML = docLinkHtml;\n",
              "        element.appendChild(docLink);\n",
              "      }\n",
              "    </script>\n",
              "  </div>\n",
              "\n",
              "\n",
              "<div id=\"df-6cd74e3a-9454-4bc1-8c92-8a4174bebea0\">\n",
              "  <button class=\"colab-df-quickchart\" onclick=\"quickchart('df-6cd74e3a-9454-4bc1-8c92-8a4174bebea0')\"\n",
              "            title=\"Suggest charts\"\n",
              "            style=\"display:none;\">\n",
              "\n",
              "<svg xmlns=\"http://www.w3.org/2000/svg\" height=\"24px\"viewBox=\"0 0 24 24\"\n",
              "     width=\"24px\">\n",
              "    <g>\n",
              "        <path d=\"M19 3H5c-1.1 0-2 .9-2 2v14c0 1.1.9 2 2 2h14c1.1 0 2-.9 2-2V5c0-1.1-.9-2-2-2zM9 17H7v-7h2v7zm4 0h-2V7h2v10zm4 0h-2v-4h2v4z\"/>\n",
              "    </g>\n",
              "</svg>\n",
              "  </button>\n",
              "\n",
              "<style>\n",
              "  .colab-df-quickchart {\n",
              "      --bg-color: #E8F0FE;\n",
              "      --fill-color: #1967D2;\n",
              "      --hover-bg-color: #E2EBFA;\n",
              "      --hover-fill-color: #174EA6;\n",
              "      --disabled-fill-color: #AAA;\n",
              "      --disabled-bg-color: #DDD;\n",
              "  }\n",
              "\n",
              "  [theme=dark] .colab-df-quickchart {\n",
              "      --bg-color: #3B4455;\n",
              "      --fill-color: #D2E3FC;\n",
              "      --hover-bg-color: #434B5C;\n",
              "      --hover-fill-color: #FFFFFF;\n",
              "      --disabled-bg-color: #3B4455;\n",
              "      --disabled-fill-color: #666;\n",
              "  }\n",
              "\n",
              "  .colab-df-quickchart {\n",
              "    background-color: var(--bg-color);\n",
              "    border: none;\n",
              "    border-radius: 50%;\n",
              "    cursor: pointer;\n",
              "    display: none;\n",
              "    fill: var(--fill-color);\n",
              "    height: 32px;\n",
              "    padding: 0;\n",
              "    width: 32px;\n",
              "  }\n",
              "\n",
              "  .colab-df-quickchart:hover {\n",
              "    background-color: var(--hover-bg-color);\n",
              "    box-shadow: 0 1px 2px rgba(60, 64, 67, 0.3), 0 1px 3px 1px rgba(60, 64, 67, 0.15);\n",
              "    fill: var(--button-hover-fill-color);\n",
              "  }\n",
              "\n",
              "  .colab-df-quickchart-complete:disabled,\n",
              "  .colab-df-quickchart-complete:disabled:hover {\n",
              "    background-color: var(--disabled-bg-color);\n",
              "    fill: var(--disabled-fill-color);\n",
              "    box-shadow: none;\n",
              "  }\n",
              "\n",
              "  .colab-df-spinner {\n",
              "    border: 2px solid var(--fill-color);\n",
              "    border-color: transparent;\n",
              "    border-bottom-color: var(--fill-color);\n",
              "    animation:\n",
              "      spin 1s steps(1) infinite;\n",
              "  }\n",
              "\n",
              "  @keyframes spin {\n",
              "    0% {\n",
              "      border-color: transparent;\n",
              "      border-bottom-color: var(--fill-color);\n",
              "      border-left-color: var(--fill-color);\n",
              "    }\n",
              "    20% {\n",
              "      border-color: transparent;\n",
              "      border-left-color: var(--fill-color);\n",
              "      border-top-color: var(--fill-color);\n",
              "    }\n",
              "    30% {\n",
              "      border-color: transparent;\n",
              "      border-left-color: var(--fill-color);\n",
              "      border-top-color: var(--fill-color);\n",
              "      border-right-color: var(--fill-color);\n",
              "    }\n",
              "    40% {\n",
              "      border-color: transparent;\n",
              "      border-right-color: var(--fill-color);\n",
              "      border-top-color: var(--fill-color);\n",
              "    }\n",
              "    60% {\n",
              "      border-color: transparent;\n",
              "      border-right-color: var(--fill-color);\n",
              "    }\n",
              "    80% {\n",
              "      border-color: transparent;\n",
              "      border-right-color: var(--fill-color);\n",
              "      border-bottom-color: var(--fill-color);\n",
              "    }\n",
              "    90% {\n",
              "      border-color: transparent;\n",
              "      border-bottom-color: var(--fill-color);\n",
              "    }\n",
              "  }\n",
              "</style>\n",
              "\n",
              "  <script>\n",
              "    async function quickchart(key) {\n",
              "      const quickchartButtonEl =\n",
              "        document.querySelector('#' + key + ' button');\n",
              "      quickchartButtonEl.disabled = true;  // To prevent multiple clicks.\n",
              "      quickchartButtonEl.classList.add('colab-df-spinner');\n",
              "      try {\n",
              "        const charts = await google.colab.kernel.invokeFunction(\n",
              "            'suggestCharts', [key], {});\n",
              "      } catch (error) {\n",
              "        console.error('Error during call to suggestCharts:', error);\n",
              "      }\n",
              "      quickchartButtonEl.classList.remove('colab-df-spinner');\n",
              "      quickchartButtonEl.classList.add('colab-df-quickchart-complete');\n",
              "    }\n",
              "    (() => {\n",
              "      let quickchartButtonEl =\n",
              "        document.querySelector('#df-6cd74e3a-9454-4bc1-8c92-8a4174bebea0 button');\n",
              "      quickchartButtonEl.style.display =\n",
              "        google.colab.kernel.accessAllowed ? 'block' : 'none';\n",
              "    })();\n",
              "  </script>\n",
              "</div>\n",
              "    </div>\n",
              "  </div>\n"
            ]
          },
          "metadata": {},
          "execution_count": 66
        }
      ]
    },
    {
      "cell_type": "code",
      "source": [
        "# games with the most months in the top 200\n",
        "\n",
        "game_count = twitch_df.groupby('game')['game'].count()\n",
        "game_count = game_count.sort_values(ascending=False)\n",
        "\n",
        "game_count_df = pd.DataFrame({'count': game_count})\n",
        "game_count_df.reset_index(inplace=True)\n",
        "\n",
        "game_count_df"
      ],
      "metadata": {
        "colab": {
          "base_uri": "https://localhost:8080/",
          "height": 424
        },
        "id": "80qKuRX2wMQK",
        "outputId": "4674ba77-8617-4f92-ca3c-09f6bf5e9f70"
      },
      "execution_count": null,
      "outputs": [
        {
          "output_type": "execute_result",
          "data": {
            "text/plain": [
              "                                game  count\n",
              "0     Tom Clancy's Rainbow Six Siege     93\n",
              "1                             Dota 2     93\n",
              "2                               Rust     93\n",
              "3                      Path of Exile     93\n",
              "4                  World of Warships     93\n",
              "...                              ...    ...\n",
              "1035                     LEGO Worlds      1\n",
              "1036                       Last Tide      1\n",
              "1037                     Left 4 Dead      1\n",
              "1038    Life is Strange: True Colors      1\n",
              "1039                       rFactor 2      1\n",
              "\n",
              "[1040 rows x 2 columns]"
            ],
            "text/html": [
              "\n",
              "  <div id=\"df-311b49ea-8019-4a6f-be2e-718aaa376d3b\" class=\"colab-df-container\">\n",
              "    <div>\n",
              "<style scoped>\n",
              "    .dataframe tbody tr th:only-of-type {\n",
              "        vertical-align: middle;\n",
              "    }\n",
              "\n",
              "    .dataframe tbody tr th {\n",
              "        vertical-align: top;\n",
              "    }\n",
              "\n",
              "    .dataframe thead th {\n",
              "        text-align: right;\n",
              "    }\n",
              "</style>\n",
              "<table border=\"1\" class=\"dataframe\">\n",
              "  <thead>\n",
              "    <tr style=\"text-align: right;\">\n",
              "      <th></th>\n",
              "      <th>game</th>\n",
              "      <th>count</th>\n",
              "    </tr>\n",
              "  </thead>\n",
              "  <tbody>\n",
              "    <tr>\n",
              "      <th>0</th>\n",
              "      <td>Tom Clancy's Rainbow Six Siege</td>\n",
              "      <td>93</td>\n",
              "    </tr>\n",
              "    <tr>\n",
              "      <th>1</th>\n",
              "      <td>Dota 2</td>\n",
              "      <td>93</td>\n",
              "    </tr>\n",
              "    <tr>\n",
              "      <th>2</th>\n",
              "      <td>Rust</td>\n",
              "      <td>93</td>\n",
              "    </tr>\n",
              "    <tr>\n",
              "      <th>3</th>\n",
              "      <td>Path of Exile</td>\n",
              "      <td>93</td>\n",
              "    </tr>\n",
              "    <tr>\n",
              "      <th>4</th>\n",
              "      <td>World of Warships</td>\n",
              "      <td>93</td>\n",
              "    </tr>\n",
              "    <tr>\n",
              "      <th>...</th>\n",
              "      <td>...</td>\n",
              "      <td>...</td>\n",
              "    </tr>\n",
              "    <tr>\n",
              "      <th>1035</th>\n",
              "      <td>LEGO Worlds</td>\n",
              "      <td>1</td>\n",
              "    </tr>\n",
              "    <tr>\n",
              "      <th>1036</th>\n",
              "      <td>Last Tide</td>\n",
              "      <td>1</td>\n",
              "    </tr>\n",
              "    <tr>\n",
              "      <th>1037</th>\n",
              "      <td>Left 4 Dead</td>\n",
              "      <td>1</td>\n",
              "    </tr>\n",
              "    <tr>\n",
              "      <th>1038</th>\n",
              "      <td>Life is Strange: True Colors</td>\n",
              "      <td>1</td>\n",
              "    </tr>\n",
              "    <tr>\n",
              "      <th>1039</th>\n",
              "      <td>rFactor 2</td>\n",
              "      <td>1</td>\n",
              "    </tr>\n",
              "  </tbody>\n",
              "</table>\n",
              "<p>1040 rows × 2 columns</p>\n",
              "</div>\n",
              "    <div class=\"colab-df-buttons\">\n",
              "\n",
              "  <div class=\"colab-df-container\">\n",
              "    <button class=\"colab-df-convert\" onclick=\"convertToInteractive('df-311b49ea-8019-4a6f-be2e-718aaa376d3b')\"\n",
              "            title=\"Convert this dataframe to an interactive table.\"\n",
              "            style=\"display:none;\">\n",
              "\n",
              "  <svg xmlns=\"http://www.w3.org/2000/svg\" height=\"24px\" viewBox=\"0 -960 960 960\">\n",
              "    <path d=\"M120-120v-720h720v720H120Zm60-500h600v-160H180v160Zm220 220h160v-160H400v160Zm0 220h160v-160H400v160ZM180-400h160v-160H180v160Zm440 0h160v-160H620v160ZM180-180h160v-160H180v160Zm440 0h160v-160H620v160Z\"/>\n",
              "  </svg>\n",
              "    </button>\n",
              "\n",
              "  <style>\n",
              "    .colab-df-container {\n",
              "      display:flex;\n",
              "      gap: 12px;\n",
              "    }\n",
              "\n",
              "    .colab-df-convert {\n",
              "      background-color: #E8F0FE;\n",
              "      border: none;\n",
              "      border-radius: 50%;\n",
              "      cursor: pointer;\n",
              "      display: none;\n",
              "      fill: #1967D2;\n",
              "      height: 32px;\n",
              "      padding: 0 0 0 0;\n",
              "      width: 32px;\n",
              "    }\n",
              "\n",
              "    .colab-df-convert:hover {\n",
              "      background-color: #E2EBFA;\n",
              "      box-shadow: 0px 1px 2px rgba(60, 64, 67, 0.3), 0px 1px 3px 1px rgba(60, 64, 67, 0.15);\n",
              "      fill: #174EA6;\n",
              "    }\n",
              "\n",
              "    .colab-df-buttons div {\n",
              "      margin-bottom: 4px;\n",
              "    }\n",
              "\n",
              "    [theme=dark] .colab-df-convert {\n",
              "      background-color: #3B4455;\n",
              "      fill: #D2E3FC;\n",
              "    }\n",
              "\n",
              "    [theme=dark] .colab-df-convert:hover {\n",
              "      background-color: #434B5C;\n",
              "      box-shadow: 0px 1px 3px 1px rgba(0, 0, 0, 0.15);\n",
              "      filter: drop-shadow(0px 1px 2px rgba(0, 0, 0, 0.3));\n",
              "      fill: #FFFFFF;\n",
              "    }\n",
              "  </style>\n",
              "\n",
              "    <script>\n",
              "      const buttonEl =\n",
              "        document.querySelector('#df-311b49ea-8019-4a6f-be2e-718aaa376d3b button.colab-df-convert');\n",
              "      buttonEl.style.display =\n",
              "        google.colab.kernel.accessAllowed ? 'block' : 'none';\n",
              "\n",
              "      async function convertToInteractive(key) {\n",
              "        const element = document.querySelector('#df-311b49ea-8019-4a6f-be2e-718aaa376d3b');\n",
              "        const dataTable =\n",
              "          await google.colab.kernel.invokeFunction('convertToInteractive',\n",
              "                                                    [key], {});\n",
              "        if (!dataTable) return;\n",
              "\n",
              "        const docLinkHtml = 'Like what you see? Visit the ' +\n",
              "          '<a target=\"_blank\" href=https://colab.research.google.com/notebooks/data_table.ipynb>data table notebook</a>'\n",
              "          + ' to learn more about interactive tables.';\n",
              "        element.innerHTML = '';\n",
              "        dataTable['output_type'] = 'display_data';\n",
              "        await google.colab.output.renderOutput(dataTable, element);\n",
              "        const docLink = document.createElement('div');\n",
              "        docLink.innerHTML = docLinkHtml;\n",
              "        element.appendChild(docLink);\n",
              "      }\n",
              "    </script>\n",
              "  </div>\n",
              "\n",
              "\n",
              "<div id=\"df-bc0952f4-c143-4c77-9009-e8eebf64d310\">\n",
              "  <button class=\"colab-df-quickchart\" onclick=\"quickchart('df-bc0952f4-c143-4c77-9009-e8eebf64d310')\"\n",
              "            title=\"Suggest charts\"\n",
              "            style=\"display:none;\">\n",
              "\n",
              "<svg xmlns=\"http://www.w3.org/2000/svg\" height=\"24px\"viewBox=\"0 0 24 24\"\n",
              "     width=\"24px\">\n",
              "    <g>\n",
              "        <path d=\"M19 3H5c-1.1 0-2 .9-2 2v14c0 1.1.9 2 2 2h14c1.1 0 2-.9 2-2V5c0-1.1-.9-2-2-2zM9 17H7v-7h2v7zm4 0h-2V7h2v10zm4 0h-2v-4h2v4z\"/>\n",
              "    </g>\n",
              "</svg>\n",
              "  </button>\n",
              "\n",
              "<style>\n",
              "  .colab-df-quickchart {\n",
              "      --bg-color: #E8F0FE;\n",
              "      --fill-color: #1967D2;\n",
              "      --hover-bg-color: #E2EBFA;\n",
              "      --hover-fill-color: #174EA6;\n",
              "      --disabled-fill-color: #AAA;\n",
              "      --disabled-bg-color: #DDD;\n",
              "  }\n",
              "\n",
              "  [theme=dark] .colab-df-quickchart {\n",
              "      --bg-color: #3B4455;\n",
              "      --fill-color: #D2E3FC;\n",
              "      --hover-bg-color: #434B5C;\n",
              "      --hover-fill-color: #FFFFFF;\n",
              "      --disabled-bg-color: #3B4455;\n",
              "      --disabled-fill-color: #666;\n",
              "  }\n",
              "\n",
              "  .colab-df-quickchart {\n",
              "    background-color: var(--bg-color);\n",
              "    border: none;\n",
              "    border-radius: 50%;\n",
              "    cursor: pointer;\n",
              "    display: none;\n",
              "    fill: var(--fill-color);\n",
              "    height: 32px;\n",
              "    padding: 0;\n",
              "    width: 32px;\n",
              "  }\n",
              "\n",
              "  .colab-df-quickchart:hover {\n",
              "    background-color: var(--hover-bg-color);\n",
              "    box-shadow: 0 1px 2px rgba(60, 64, 67, 0.3), 0 1px 3px 1px rgba(60, 64, 67, 0.15);\n",
              "    fill: var(--button-hover-fill-color);\n",
              "  }\n",
              "\n",
              "  .colab-df-quickchart-complete:disabled,\n",
              "  .colab-df-quickchart-complete:disabled:hover {\n",
              "    background-color: var(--disabled-bg-color);\n",
              "    fill: var(--disabled-fill-color);\n",
              "    box-shadow: none;\n",
              "  }\n",
              "\n",
              "  .colab-df-spinner {\n",
              "    border: 2px solid var(--fill-color);\n",
              "    border-color: transparent;\n",
              "    border-bottom-color: var(--fill-color);\n",
              "    animation:\n",
              "      spin 1s steps(1) infinite;\n",
              "  }\n",
              "\n",
              "  @keyframes spin {\n",
              "    0% {\n",
              "      border-color: transparent;\n",
              "      border-bottom-color: var(--fill-color);\n",
              "      border-left-color: var(--fill-color);\n",
              "    }\n",
              "    20% {\n",
              "      border-color: transparent;\n",
              "      border-left-color: var(--fill-color);\n",
              "      border-top-color: var(--fill-color);\n",
              "    }\n",
              "    30% {\n",
              "      border-color: transparent;\n",
              "      border-left-color: var(--fill-color);\n",
              "      border-top-color: var(--fill-color);\n",
              "      border-right-color: var(--fill-color);\n",
              "    }\n",
              "    40% {\n",
              "      border-color: transparent;\n",
              "      border-right-color: var(--fill-color);\n",
              "      border-top-color: var(--fill-color);\n",
              "    }\n",
              "    60% {\n",
              "      border-color: transparent;\n",
              "      border-right-color: var(--fill-color);\n",
              "    }\n",
              "    80% {\n",
              "      border-color: transparent;\n",
              "      border-right-color: var(--fill-color);\n",
              "      border-bottom-color: var(--fill-color);\n",
              "    }\n",
              "    90% {\n",
              "      border-color: transparent;\n",
              "      border-bottom-color: var(--fill-color);\n",
              "    }\n",
              "  }\n",
              "</style>\n",
              "\n",
              "  <script>\n",
              "    async function quickchart(key) {\n",
              "      const quickchartButtonEl =\n",
              "        document.querySelector('#' + key + ' button');\n",
              "      quickchartButtonEl.disabled = true;  // To prevent multiple clicks.\n",
              "      quickchartButtonEl.classList.add('colab-df-spinner');\n",
              "      try {\n",
              "        const charts = await google.colab.kernel.invokeFunction(\n",
              "            'suggestCharts', [key], {});\n",
              "      } catch (error) {\n",
              "        console.error('Error during call to suggestCharts:', error);\n",
              "      }\n",
              "      quickchartButtonEl.classList.remove('colab-df-spinner');\n",
              "      quickchartButtonEl.classList.add('colab-df-quickchart-complete');\n",
              "    }\n",
              "    (() => {\n",
              "      let quickchartButtonEl =\n",
              "        document.querySelector('#df-bc0952f4-c143-4c77-9009-e8eebf64d310 button');\n",
              "      quickchartButtonEl.style.display =\n",
              "        google.colab.kernel.accessAllowed ? 'block' : 'none';\n",
              "    })();\n",
              "  </script>\n",
              "</div>\n",
              "    </div>\n",
              "  </div>\n"
            ]
          },
          "metadata": {},
          "execution_count": 5
        }
      ]
    },
    {
      "cell_type": "code",
      "source": [
        "# save to csv\n",
        "\n",
        "twitch_df.to_csv(\"/content/datasets/twitch_data.csv\", index=True, encoding='utf-8-sig')"
      ],
      "metadata": {
        "id": "3WcOTGMEWb-I"
      },
      "execution_count": null,
      "outputs": []
    }
  ]
}